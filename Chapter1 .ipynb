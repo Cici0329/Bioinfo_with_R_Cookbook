{
 "cells": [
  {
   "cell_type": "markdown",
   "metadata": {},
   "source": [
    "# Chapter 1:Starting Bioinformatics with R "
   ]
  },
  {
   "cell_type": "markdown",
   "metadata": {},
   "source": [
    "---"
   ]
  },
  {
   "cell_type": "markdown",
   "metadata": {},
   "source": [
    "- 最近在分子生物学的发展，如高通量阵列技术或测序技术，正在导致指数增长的数据量正在产生。\n",
    "生物信息学的目的是了解生物功能和生物系统的组织。\n",
    "生成的大量数据需要的统计处理，而统计处理又需要完善的计算统计工具和环境。\n",
    "R提供了这样的环境。它是一个拥有大型社区的免费工具，通过支持各种分析操作的巨大包库来利用数据分析"
   ]
  },
  {
   "cell_type": "markdown",
   "metadata": {},
   "source": [
    "---"
   ]
  },
  {
   "cell_type": "markdown",
   "metadata": {},
   "source": [
    "## 2 Reading and writing data"
   ]
  },
  {
   "cell_type": "markdown",
   "metadata": {},
   "source": [
    "-  Load internal R data (already available with a package or base R)"
   ]
  },
  {
   "cell_type": "code",
   "execution_count": 1,
   "metadata": {},
   "outputs": [],
   "source": [
    "data(iris)"
   ]
  },
  {
   "cell_type": "markdown",
   "metadata": {},
   "source": [
    "- learn more"
   ]
  },
  {
   "cell_type": "code",
   "execution_count": 2,
   "metadata": {},
   "outputs": [],
   "source": [
    "?iris"
   ]
  },
  {
   "cell_type": "markdown",
   "metadata": {},
   "source": [
    "- 对于iris数据，类型是一个包含150行和5列的数据框架(输入dim命令，以iris作为参数)。数据帧类是\n",
    "类似于矩阵，但可以在其中容纳不同类型的对象，如字符、数字和因子。您可以分别使用head或tailfunction查看前几行或最后几行(默认有六行)，如下所示:"
   ]
  },
  {
   "cell_type": "code",
   "execution_count": 3,
   "metadata": {},
   "outputs": [
    {
     "data": {
      "text/html": [
       "'data.frame'"
      ],
      "text/latex": [
       "'data.frame'"
      ],
      "text/markdown": [
       "'data.frame'"
      ],
      "text/plain": [
       "[1] \"data.frame\""
      ]
     },
     "metadata": {},
     "output_type": "display_data"
    }
   ],
   "source": [
    "class(iris)"
   ]
  },
  {
   "cell_type": "code",
   "execution_count": 4,
   "metadata": {},
   "outputs": [
    {
     "data": {
      "text/html": [
       "<style>\n",
       ".list-inline {list-style: none; margin:0; padding: 0}\n",
       ".list-inline>li {display: inline-block}\n",
       ".list-inline>li:not(:last-child)::after {content: \"\\00b7\"; padding: 0 .5ex}\n",
       "</style>\n",
       "<ol class=list-inline><li>150</li><li>5</li></ol>\n"
      ],
      "text/latex": [
       "\\begin{enumerate*}\n",
       "\\item 150\n",
       "\\item 5\n",
       "\\end{enumerate*}\n"
      ],
      "text/markdown": [
       "1. 150\n",
       "2. 5\n",
       "\n",
       "\n"
      ],
      "text/plain": [
       "[1] 150   5"
      ]
     },
     "metadata": {},
     "output_type": "display_data"
    }
   ],
   "source": [
    "dim(iris)"
   ]
  },
  {
   "cell_type": "code",
   "execution_count": 5,
   "metadata": {},
   "outputs": [
    {
     "data": {
      "text/html": [
       "<table>\n",
       "<caption>A data.frame: 6 × 5</caption>\n",
       "<thead>\n",
       "\t<tr><th></th><th scope=col>Sepal.Length</th><th scope=col>Sepal.Width</th><th scope=col>Petal.Length</th><th scope=col>Petal.Width</th><th scope=col>Species</th></tr>\n",
       "\t<tr><th></th><th scope=col>&lt;dbl&gt;</th><th scope=col>&lt;dbl&gt;</th><th scope=col>&lt;dbl&gt;</th><th scope=col>&lt;dbl&gt;</th><th scope=col>&lt;fct&gt;</th></tr>\n",
       "</thead>\n",
       "<tbody>\n",
       "\t<tr><th scope=row>1</th><td>5.1</td><td>3.5</td><td>1.4</td><td>0.2</td><td>setosa</td></tr>\n",
       "\t<tr><th scope=row>2</th><td>4.9</td><td>3.0</td><td>1.4</td><td>0.2</td><td>setosa</td></tr>\n",
       "\t<tr><th scope=row>3</th><td>4.7</td><td>3.2</td><td>1.3</td><td>0.2</td><td>setosa</td></tr>\n",
       "\t<tr><th scope=row>4</th><td>4.6</td><td>3.1</td><td>1.5</td><td>0.2</td><td>setosa</td></tr>\n",
       "\t<tr><th scope=row>5</th><td>5.0</td><td>3.6</td><td>1.4</td><td>0.2</td><td>setosa</td></tr>\n",
       "\t<tr><th scope=row>6</th><td>5.4</td><td>3.9</td><td>1.7</td><td>0.4</td><td>setosa</td></tr>\n",
       "</tbody>\n",
       "</table>\n"
      ],
      "text/latex": [
       "A data.frame: 6 × 5\n",
       "\\begin{tabular}{r|lllll}\n",
       "  & Sepal.Length & Sepal.Width & Petal.Length & Petal.Width & Species\\\\\n",
       "  & <dbl> & <dbl> & <dbl> & <dbl> & <fct>\\\\\n",
       "\\hline\n",
       "\t1 & 5.1 & 3.5 & 1.4 & 0.2 & setosa\\\\\n",
       "\t2 & 4.9 & 3.0 & 1.4 & 0.2 & setosa\\\\\n",
       "\t3 & 4.7 & 3.2 & 1.3 & 0.2 & setosa\\\\\n",
       "\t4 & 4.6 & 3.1 & 1.5 & 0.2 & setosa\\\\\n",
       "\t5 & 5.0 & 3.6 & 1.4 & 0.2 & setosa\\\\\n",
       "\t6 & 5.4 & 3.9 & 1.7 & 0.4 & setosa\\\\\n",
       "\\end{tabular}\n"
      ],
      "text/markdown": [
       "\n",
       "A data.frame: 6 × 5\n",
       "\n",
       "| <!--/--> | Sepal.Length &lt;dbl&gt; | Sepal.Width &lt;dbl&gt; | Petal.Length &lt;dbl&gt; | Petal.Width &lt;dbl&gt; | Species &lt;fct&gt; |\n",
       "|---|---|---|---|---|---|\n",
       "| 1 | 5.1 | 3.5 | 1.4 | 0.2 | setosa |\n",
       "| 2 | 4.9 | 3.0 | 1.4 | 0.2 | setosa |\n",
       "| 3 | 4.7 | 3.2 | 1.3 | 0.2 | setosa |\n",
       "| 4 | 4.6 | 3.1 | 1.5 | 0.2 | setosa |\n",
       "| 5 | 5.0 | 3.6 | 1.4 | 0.2 | setosa |\n",
       "| 6 | 5.4 | 3.9 | 1.7 | 0.4 | setosa |\n",
       "\n"
      ],
      "text/plain": [
       "  Sepal.Length Sepal.Width Petal.Length Petal.Width Species\n",
       "1 5.1          3.5         1.4          0.2         setosa \n",
       "2 4.9          3.0         1.4          0.2         setosa \n",
       "3 4.7          3.2         1.3          0.2         setosa \n",
       "4 4.6          3.1         1.5          0.2         setosa \n",
       "5 5.0          3.6         1.4          0.2         setosa \n",
       "6 5.4          3.9         1.7          0.4         setosa "
      ]
     },
     "metadata": {},
     "output_type": "display_data"
    }
   ],
   "source": [
    "head(iris)  #前面的数据"
   ]
  },
  {
   "cell_type": "code",
   "execution_count": 6,
   "metadata": {},
   "outputs": [
    {
     "data": {
      "text/html": [
       "<table>\n",
       "<caption>A data.frame: 6 × 5</caption>\n",
       "<thead>\n",
       "\t<tr><th></th><th scope=col>Sepal.Length</th><th scope=col>Sepal.Width</th><th scope=col>Petal.Length</th><th scope=col>Petal.Width</th><th scope=col>Species</th></tr>\n",
       "\t<tr><th></th><th scope=col>&lt;dbl&gt;</th><th scope=col>&lt;dbl&gt;</th><th scope=col>&lt;dbl&gt;</th><th scope=col>&lt;dbl&gt;</th><th scope=col>&lt;fct&gt;</th></tr>\n",
       "</thead>\n",
       "<tbody>\n",
       "\t<tr><th scope=row>145</th><td>6.7</td><td>3.3</td><td>5.7</td><td>2.5</td><td>virginica</td></tr>\n",
       "\t<tr><th scope=row>146</th><td>6.7</td><td>3.0</td><td>5.2</td><td>2.3</td><td>virginica</td></tr>\n",
       "\t<tr><th scope=row>147</th><td>6.3</td><td>2.5</td><td>5.0</td><td>1.9</td><td>virginica</td></tr>\n",
       "\t<tr><th scope=row>148</th><td>6.5</td><td>3.0</td><td>5.2</td><td>2.0</td><td>virginica</td></tr>\n",
       "\t<tr><th scope=row>149</th><td>6.2</td><td>3.4</td><td>5.4</td><td>2.3</td><td>virginica</td></tr>\n",
       "\t<tr><th scope=row>150</th><td>5.9</td><td>3.0</td><td>5.1</td><td>1.8</td><td>virginica</td></tr>\n",
       "</tbody>\n",
       "</table>\n"
      ],
      "text/latex": [
       "A data.frame: 6 × 5\n",
       "\\begin{tabular}{r|lllll}\n",
       "  & Sepal.Length & Sepal.Width & Petal.Length & Petal.Width & Species\\\\\n",
       "  & <dbl> & <dbl> & <dbl> & <dbl> & <fct>\\\\\n",
       "\\hline\n",
       "\t145 & 6.7 & 3.3 & 5.7 & 2.5 & virginica\\\\\n",
       "\t146 & 6.7 & 3.0 & 5.2 & 2.3 & virginica\\\\\n",
       "\t147 & 6.3 & 2.5 & 5.0 & 1.9 & virginica\\\\\n",
       "\t148 & 6.5 & 3.0 & 5.2 & 2.0 & virginica\\\\\n",
       "\t149 & 6.2 & 3.4 & 5.4 & 2.3 & virginica\\\\\n",
       "\t150 & 5.9 & 3.0 & 5.1 & 1.8 & virginica\\\\\n",
       "\\end{tabular}\n"
      ],
      "text/markdown": [
       "\n",
       "A data.frame: 6 × 5\n",
       "\n",
       "| <!--/--> | Sepal.Length &lt;dbl&gt; | Sepal.Width &lt;dbl&gt; | Petal.Length &lt;dbl&gt; | Petal.Width &lt;dbl&gt; | Species &lt;fct&gt; |\n",
       "|---|---|---|---|---|---|\n",
       "| 145 | 6.7 | 3.3 | 5.7 | 2.5 | virginica |\n",
       "| 146 | 6.7 | 3.0 | 5.2 | 2.3 | virginica |\n",
       "| 147 | 6.3 | 2.5 | 5.0 | 1.9 | virginica |\n",
       "| 148 | 6.5 | 3.0 | 5.2 | 2.0 | virginica |\n",
       "| 149 | 6.2 | 3.4 | 5.4 | 2.3 | virginica |\n",
       "| 150 | 5.9 | 3.0 | 5.1 | 1.8 | virginica |\n",
       "\n"
      ],
      "text/plain": [
       "    Sepal.Length Sepal.Width Petal.Length Petal.Width Species  \n",
       "145 6.7          3.3         5.7          2.5         virginica\n",
       "146 6.7          3.0         5.2          2.3         virginica\n",
       "147 6.3          2.5         5.0          1.9         virginica\n",
       "148 6.5          3.0         5.2          2.0         virginica\n",
       "149 6.2          3.4         5.4          2.3         virginica\n",
       "150 5.9          3.0         5.1          1.8         virginica"
      ]
     },
     "metadata": {},
     "output_type": "display_data"
    }
   ],
   "source": [
    "tail(iris)  #后面的数据"
   ]
  },
  {
   "cell_type": "markdown",
   "metadata": {},
   "source": [
    "- Load external R data (conventionally saved as .rda or .RData, but not limited to \n",
    "this"
   ]
  },
  {
   "cell_type": "code",
   "execution_count": 7,
   "metadata": {},
   "outputs": [],
   "source": [
    "load(file=\"mydata.RData\")"
   ]
  },
  {
   "cell_type": "markdown",
   "metadata": {},
   "source": [
    "- To save a data object"
   ]
  },
  {
   "cell_type": "code",
   "execution_count": 8,
   "metadata": {},
   "outputs": [],
   "source": [
    "save(D, file=\"myData.RData\")"
   ]
  },
  {
   "cell_type": "markdown",
   "metadata": {},
   "source": [
    "- To read the tabular data in the form of a .csv file with read.csv or read.table,"
   ]
  },
  {
   "cell_type": "code",
   "execution_count": 9,
   "metadata": {},
   "outputs": [
    {
     "ename": "ERROR",
     "evalue": "Error in read.table(file = mydata.csv, header = TRUE, sep = \"\\t\", row.names = 1): 找不到对象'mydata.csv'\n",
     "output_type": "error",
     "traceback": [
      "Error in read.table(file = mydata.csv, header = TRUE, sep = \"\\t\", row.names = 1): 找不到对象'mydata.csv'\nTraceback:\n",
      "1. read.table(file = mydata.csv, header = TRUE, sep = \"\\t\", row.names = 1)"
     ]
    }
   ],
   "source": [
    "mydata <- read.table(file = mydata.csv, header = TRUE, sep=\"\\t\", row.names = 1)"
   ]
  },
  {
   "cell_type": "code",
   "execution_count": null,
   "metadata": {},
   "outputs": [],
   "source": [
    " mydata <- read.csv(\"mydata.csv\")"
   ]
  },
  {
   "cell_type": "markdown",
   "metadata": {},
   "source": [
    "- 也可以在r中读取Excel文件\n",
    "诸如xlsx和gdata之类的包。而xlsx包需要Java设置\n",
    "gdata相对简单。然而，xlsx包提供了更多的功能，\n",
    "例如工作簿中不同工作表的读取权限以及较新的版本\n",
    "Excel文件。对于本例，我们将使用xlsx包。使用read.xlsx\n",
    "函数读取Excel文件如下:"
   ]
  },
  {
   "cell_type": "code",
   "execution_count": null,
   "metadata": {},
   "outputs": [],
   "source": [
    " install.packages(\"xlsx\", dependencies=TRUE)"
   ]
  },
  {
   "cell_type": "code",
   "execution_count": null,
   "metadata": {},
   "outputs": [],
   "source": [
    " library(gdata)"
   ]
  },
  {
   "cell_type": "code",
   "execution_count": null,
   "metadata": {},
   "outputs": [],
   "source": [
    " mydata <- read.xls(\"mydata.xls\")"
   ]
  },
  {
   "cell_type": "markdown",
   "metadata": {},
   "source": [
    "- 要将这些数据帧或表对象写入CSV或表文件，请使用read.csv\n",
    "或写"
   ]
  },
  {
   "cell_type": "code",
   "execution_count": null,
   "metadata": {},
   "outputs": [],
   "source": [
    "write.table(x, file = \"myexcel.xls\", append = FALSE, quote = TRUE, sep = \" \")"
   ]
  },
  {
   "cell_type": "code",
   "execution_count": null,
   "metadata": {},
   "outputs": [],
   "source": [
    "write.csv(x, col.names = NA, sep = \",\")"
   ]
  },
  {
   "cell_type": "markdown",
   "metadata": {},
   "source": [
    "- Get the current working directory"
   ]
  },
  {
   "cell_type": "code",
   "execution_count": null,
   "metadata": {},
   "outputs": [],
   "source": [
    "getwd() "
   ]
  },
  {
   "cell_type": "markdown",
   "metadata": {},
   "source": [
    "- Change to a desired directory, by the command:"
   ]
  },
  {
   "cell_type": "code",
   "execution_count": null,
   "metadata": {},
   "outputs": [],
   "source": [
    "setwd(\"/Users/luxuanyi/img\")"
   ]
  },
  {
   "cell_type": "markdown",
   "metadata": {},
   "source": [
    "-  WriteXLS package 可以将在r编辑的对象写进excel"
   ]
  },
  {
   "cell_type": "code",
   "execution_count": null,
   "metadata": {},
   "outputs": [],
   "source": [
    " install.packages(\"WriteXLS\")\n",
    " library(WriteXLS)\n",
    " WriteXLS(x, ExcelFileName = \"R.xls\")"
   ]
  },
  {
   "cell_type": "markdown",
   "metadata": {},
   "source": [
    "- 该包还允许我们将数据帧列表写入Excel文件的不同工作表中。\n",
    "WriteXLS函数在后台使用Perl执行任务。\n",
    "可以在函数中设置sheetargument，并在需要写入数据的地方分配工作表编号。\n",
    "R中的save函数是保存对象的标准方法。\n",
    "但是，saveRDSfunction有一个优点，它不保存对象及其名称;\n",
    "它只是保存了对象的一个表示。\n",
    "因此，可以将保存的对象加载到R中的命名对象中，该对象与最初序列化时的名称不同。\n",
    "让我们看看下面的例子:"
   ]
  },
  {
   "cell_type": "code",
   "execution_count": null,
   "metadata": {},
   "outputs": [],
   "source": [
    "saveRDS(myObj, \"myObj.rds\")\n",
    "myObj2 <- readRDS(\"myObj.rds\")\n",
    "ls()"
   ]
  },
  {
   "cell_type": "markdown",
   "metadata": {},
   "source": [
    "(1)create a object \"d\", it's a data frame"
   ]
  },
  {
   "cell_type": "code",
   "execution_count": null,
   "metadata": {},
   "outputs": [],
   "source": [
    "\n",
    "d <- data.frame(obs = c(1, 2, 3, 4, 5, 6), \n",
    "                treat = c(\"A\", \"B\", \"A\", \"A\", \"O\", \"B\"), \n",
    "                weight = c(2.3, NA, 9, 8, 4, 7))\n",
    "d"
   ]
  },
  {
   "cell_type": "markdown",
   "metadata": {},
   "source": [
    "(2) 将数据写入内存：TXT, CSV, or XLSX file and even a .RData"
   ]
  },
  {
   "cell_type": "code",
   "execution_count": null,
   "metadata": {},
   "outputs": [],
   "source": [
    "# A TXT file\n",
    "write.table(d, file = \"F:/d.txt\", row.names = F, quote = T, sep = \"\\t\")\n",
    "\n",
    "# A CSV file\n",
    "write.csv(d, file = \"F:/d.csv\", row.names = F,quote = F)\n",
    "\n",
    "# .RData\n",
    "save(d, file = \"F:/d.RData\")\n",
    "\n",
    "#.RDS\n",
    "saveRDS(d, file = \"F:/d.RDS\")"
   ]
  },
  {
   "cell_type": "code",
   "execution_count": null,
   "metadata": {},
   "outputs": [],
   "source": [
    "library(openxlsx) #read and write .xlsx file need R package \"openxlsx\"\n",
    "#A xlsx file\n",
    "write.xlsx(d, file = \"F:/d.xlsx\", row.names = F,quote = F)"
   ]
  },
  {
   "cell_type": "markdown",
   "metadata": {},
   "source": [
    "（3）反之，用r读取上述文件"
   ]
  },
  {
   "cell_type": "code",
   "execution_count": null,
   "metadata": {},
   "outputs": [],
   "source": [
    "d1 = read.table(\"F:/d.txt\")\n",
    "d1\n",
    "d2 = read.csv(\"F:/d.csv\")\n",
    "d2\n",
    "d3 = read.xlsx(\"F:/d.xlsx\")\n",
    "d3\n",
    "d4 = readRDS(\"F:/d.RDS\")\n",
    "d4\n",
    "load(\"F:/d.RData\")"
   ]
  },
  {
   "cell_type": "markdown",
   "metadata": {},
   "source": [
    "---"
   ]
  },
  {
   "cell_type": "markdown",
   "metadata": {},
   "source": [
    " ## 3， Basic statistical operations on data 基本的数据统计操作"
   ]
  },
  {
   "cell_type": "markdown",
   "metadata": {},
   "source": [
    "- R便于计算各种统计参数，如均值\n",
    "标准差，具有简单的函数。这可以应用于单个向量\n",
    "或对整个数据帧如下:"
   ]
  },
  {
   "cell_type": "code",
   "execution_count": 10,
   "metadata": {},
   "outputs": [
    {
     "data": {
      "text/plain": [
       "  Sepal.Length    Sepal.Width     Petal.Length    Petal.Width   \n",
       " Min.   :4.300   Min.   :2.000   Min.   :1.000   Min.   :0.100  \n",
       " 1st Qu.:5.100   1st Qu.:2.800   1st Qu.:1.600   1st Qu.:0.300  \n",
       " Median :5.800   Median :3.000   Median :4.350   Median :1.300  \n",
       " Mean   :5.843   Mean   :3.057   Mean   :3.758   Mean   :1.199  \n",
       " 3rd Qu.:6.400   3rd Qu.:3.300   3rd Qu.:5.100   3rd Qu.:1.800  \n",
       " Max.   :7.900   Max.   :4.400   Max.   :6.900   Max.   :2.500  \n",
       "       Species  \n",
       " setosa    :50  \n",
       " versicolor:50  \n",
       " virginica :50  \n",
       "                \n",
       "                \n",
       "                "
      ]
     },
     "metadata": {},
     "output_type": "display_data"
    }
   ],
   "source": [
    " summary(iris) # 显示每个列的摘要"
   ]
  },
  {
   "cell_type": "code",
   "execution_count": 13,
   "metadata": {},
   "outputs": [
    {
     "data": {
      "text/html": [
       "5.84333333333333"
      ],
      "text/latex": [
       "5.84333333333333"
      ],
      "text/markdown": [
       "5.84333333333333"
      ],
      "text/plain": [
       "[1] 5.843333"
      ]
     },
     "metadata": {},
     "output_type": "display_data"
    }
   ],
   "source": [
    "mean(iris[,1])   #均值"
   ]
  },
  {
   "cell_type": "code",
   "execution_count": 14,
   "metadata": {},
   "outputs": [
    {
     "data": {
      "text/html": [
       "0.828066127977863"
      ],
      "text/latex": [
       "0.828066127977863"
      ],
      "text/markdown": [
       "0.828066127977863"
      ],
      "text/plain": [
       "[1] 0.8280661"
      ]
     },
     "metadata": {},
     "output_type": "display_data"
    }
   ],
   "source": [
    "sd(iris[, 1])  #标准差"
   ]
  },
  {
   "cell_type": "code",
   "execution_count": 15,
   "metadata": {},
   "outputs": [
    {
     "data": {
      "text/html": [
       "-0.117569784133002"
      ],
      "text/latex": [
       "-0.117569784133002"
      ],
      "text/markdown": [
       "-0.117569784133002"
      ],
      "text/plain": [
       "[1] -0.1175698"
      ]
     },
     "metadata": {},
     "output_type": "display_data"
    }
   ],
   "source": [
    " cor(iris[,1], iris[,2])  #cor函数允许计算两个向量之间的相关性"
   ]
  },
  {
   "cell_type": "code",
   "execution_count": 16,
   "metadata": {},
   "outputs": [
    {
     "data": {
      "text/html": [
       "0.871753775886583"
      ],
      "text/latex": [
       "0.871753775886583"
      ],
      "text/markdown": [
       "0.871753775886583"
      ],
      "text/plain": [
       "[1] 0.8717538"
      ]
     },
     "metadata": {},
     "output_type": "display_data"
    }
   ],
   "source": [
    " cor(iris[,1], iris[,3])  #相关性"
   ]
  },
  {
   "cell_type": "code",
   "execution_count": 17,
   "metadata": {},
   "outputs": [],
   "source": [
    " Cov.mat <- cov(iris[,1:4])  #矩阵的协方差"
   ]
  },
  {
   "cell_type": "code",
   "execution_count": 18,
   "metadata": {},
   "outputs": [
    {
     "data": {
      "text/html": [
       "<table>\n",
       "<caption>A matrix: 4 × 4 of type dbl</caption>\n",
       "<thead>\n",
       "\t<tr><th></th><th scope=col>Sepal.Length</th><th scope=col>Sepal.Width</th><th scope=col>Petal.Length</th><th scope=col>Petal.Width</th></tr>\n",
       "</thead>\n",
       "<tbody>\n",
       "\t<tr><th scope=row>Sepal.Length</th><td> 0.6856935</td><td>-0.0424340</td><td> 1.2743154</td><td> 0.5162707</td></tr>\n",
       "\t<tr><th scope=row>Sepal.Width</th><td>-0.0424340</td><td> 0.1899794</td><td>-0.3296564</td><td>-0.1216394</td></tr>\n",
       "\t<tr><th scope=row>Petal.Length</th><td> 1.2743154</td><td>-0.3296564</td><td> 3.1162779</td><td> 1.2956094</td></tr>\n",
       "\t<tr><th scope=row>Petal.Width</th><td> 0.5162707</td><td>-0.1216394</td><td> 1.2956094</td><td> 0.5810063</td></tr>\n",
       "</tbody>\n",
       "</table>\n"
      ],
      "text/latex": [
       "A matrix: 4 × 4 of type dbl\n",
       "\\begin{tabular}{r|llll}\n",
       "  & Sepal.Length & Sepal.Width & Petal.Length & Petal.Width\\\\\n",
       "\\hline\n",
       "\tSepal.Length &  0.6856935 & -0.0424340 &  1.2743154 &  0.5162707\\\\\n",
       "\tSepal.Width & -0.0424340 &  0.1899794 & -0.3296564 & -0.1216394\\\\\n",
       "\tPetal.Length &  1.2743154 & -0.3296564 &  3.1162779 &  1.2956094\\\\\n",
       "\tPetal.Width &  0.5162707 & -0.1216394 &  1.2956094 &  0.5810063\\\\\n",
       "\\end{tabular}\n"
      ],
      "text/markdown": [
       "\n",
       "A matrix: 4 × 4 of type dbl\n",
       "\n",
       "| <!--/--> | Sepal.Length | Sepal.Width | Petal.Length | Petal.Width |\n",
       "|---|---|---|---|---|\n",
       "| Sepal.Length |  0.6856935 | -0.0424340 |  1.2743154 |  0.5162707 |\n",
       "| Sepal.Width | -0.0424340 |  0.1899794 | -0.3296564 | -0.1216394 |\n",
       "| Petal.Length |  1.2743154 | -0.3296564 |  3.1162779 |  1.2956094 |\n",
       "| Petal.Width |  0.5162707 | -0.1216394 |  1.2956094 |  0.5810063 |\n",
       "\n"
      ],
      "text/plain": [
       "             Sepal.Length Sepal.Width Petal.Length Petal.Width\n",
       "Sepal.Length  0.6856935   -0.0424340   1.2743154    0.5162707 \n",
       "Sepal.Width  -0.0424340    0.1899794  -0.3296564   -0.1216394 \n",
       "Petal.Length  1.2743154   -0.3296564   3.1162779    1.2956094 \n",
       "Petal.Width   0.5162707   -0.1216394   1.2956094    0.5810063 "
      ]
     },
     "metadata": {},
     "output_type": "display_data"
    }
   ],
   "source": [
    " Cov.mat"
   ]
  },
  {
   "cell_type": "markdown",
   "metadata": {},
   "source": [
    "---"
   ]
  },
  {
   "cell_type": "markdown",
   "metadata": {},
   "source": [
    "## 4. Generating probability distributions 生成概率分布"
   ]
  },
  {
   "cell_type": "markdown",
   "metadata": {},
   "source": [
    "（1）首先生成100个正态分布的随机数。均值为1 ，标准差为0.1"
   ]
  },
  {
   "cell_type": "code",
   "execution_count": 19,
   "metadata": {},
   "outputs": [],
   "source": [
    " n.data <- rnorm(n=100, mean=1, sd=0.1)"
   ]
  },
  {
   "cell_type": "code",
   "execution_count": 20,
   "metadata": {},
   "outputs": [
    {
     "data": {
      "image/png": "[encoded data removed]",
      "text/plain": [
       "Plot with title “Histogram of n.data”"
      ]
     },
     "metadata": {
      "image/png": {
       "height": 420,
       "width": 420
      }
     },
     "output_type": "display_data"
    }
   ],
   "source": [
    "hist(n.data)  #生成直方图"
   ]
  },
  {
   "cell_type": "code",
   "execution_count": 21,
   "metadata": {},
   "outputs": [
    {
     "data": {
      "image/png": "[encoded data removed]",
      "text/plain": [
       "Plot with title “density.default(x = n.data)”"
      ]
     },
     "metadata": {
      "image/png": {
       "height": 420,
       "width": 420
      }
     },
     "output_type": "display_data"
    }
   ],
   "source": [
    " plot(density(n.data))#观察密度的分布，并观察形状"
   ]
  },
  {
   "cell_type": "code",
   "execution_count": 22,
   "metadata": {},
   "outputs": [],
   "source": [
    " ?pnorm  #获得相应参数"
   ]
  },
  {
   "cell_type": "markdown",
   "metadata": {},
   "source": [
    "---"
   ]
  },
  {
   "cell_type": "markdown",
   "metadata": {},
   "source": [
    "## 5. Performing statistical tests on data对数据进行统计检验"
   ]
  },
  {
   "cell_type": "markdown",
   "metadata": {},
   "source": [
    " - 统计检验用于评估研究或应用结果的重要性，并帮助做出定量决策。当我们需要比较一个组与一个假设值和我们的测量值服从高斯分布，可以采用单样本t检验。然而,如果\n",
    "我们有两个成对的组(都是服从高斯分布的测量值)\n",
    "相比之下，我们可以使用配对t检验。R具有执行此类测试的内置函数"
   ]
  },
  {
   "cell_type": "markdown",
   "metadata": {},
   "source": [
    "<font color = red>（1）t检验"
   ]
  },
  {
   "cell_type": "code",
   "execution_count": 23,
   "metadata": {},
   "outputs": [],
   "source": [
    " data(sleep)  #加载出数据"
   ]
  },
  {
   "cell_type": "code",
   "execution_count": 27,
   "metadata": {},
   "outputs": [
    {
     "data": {
      "text/plain": [
       "\n",
       "\tWelch Two Sample t-test\n",
       "\n",
       "data:  sleep[, 1] by sleep[, 2]\n",
       "t = -1.8608, df = 17.776, p-value = 0.07939\n",
       "alternative hypothesis: true difference in means is not equal to 0\n",
       "95 percent confidence interval:\n",
       " -3.3654832  0.2054832\n",
       "sample estimates:\n",
       "mean in group 1 mean in group 2 \n",
       "           0.75            2.33 \n"
      ]
     },
     "metadata": {},
     "output_type": "display_data"
    }
   ],
   "source": [
    "###要对第一列和第二列(这两种情况的值)执行双侧非配对t检验，请输入以下命令:\n",
    "test <- t.test(sleep[,1]~sleep[,2])   \n",
    " test"
   ]
  },
  {
   "cell_type": "code",
   "execution_count": 28,
   "metadata": {},
   "outputs": [
    {
     "data": {
      "text/html": [
       "<table>\n",
       "<caption>A matrix: 2 × 2 of type dbl</caption>\n",
       "<tbody>\n",
       "\t<tr><td>14</td><td>7</td></tr>\n",
       "\t<tr><td>33</td><td>3</td></tr>\n",
       "</tbody>\n",
       "</table>\n"
      ],
      "text/latex": [
       "A matrix: 2 × 2 of type dbl\n",
       "\\begin{tabular}{ll}\n",
       "\t 14 & 7\\\\\n",
       "\t 33 & 3\\\\\n",
       "\\end{tabular}\n"
      ],
      "text/markdown": [
       "\n",
       "A matrix: 2 × 2 of type dbl\n",
       "\n",
       "| 14 | 7 |\n",
       "| 33 | 3 |\n",
       "\n"
      ],
      "text/plain": [
       "     [,1] [,2]\n",
       "[1,] 14   7   \n",
       "[2,] 33   3   "
      ]
     },
     "metadata": {},
     "output_type": "display_data"
    }
   ],
   "source": [
    "##创建一个列联表\n",
    "cont <- matrix(c(14, 33, 7, 3), ncol = 2)\n",
    "cont"
   ]
  },
  {
   "cell_type": "markdown",
   "metadata": {},
   "source": [
    "<font color = red>（2）卡方检验： 创建一个表来表示两种类型的汽车，即轿车和敞篷车\n",
    "(列)和两种性别，男性和女性，以及拥有这些的计数\n",
    "一排排汽车的类型。因此，您有以下输出:"
   ]
  },
  {
   "cell_type": "code",
   "execution_count": 29,
   "metadata": {},
   "outputs": [
    {
     "data": {
      "text/html": [
       "<table>\n",
       "<caption>A matrix: 2 × 2 of type dbl</caption>\n",
       "<thead>\n",
       "\t<tr><th></th><th scope=col>Sedan</th><th scope=col>Convertible</th></tr>\n",
       "</thead>\n",
       "<tbody>\n",
       "\t<tr><th scope=row>Male</th><td>14</td><td>7</td></tr>\n",
       "\t<tr><th scope=row>Female</th><td>33</td><td>3</td></tr>\n",
       "</tbody>\n",
       "</table>\n"
      ],
      "text/latex": [
       "A matrix: 2 × 2 of type dbl\n",
       "\\begin{tabular}{r|ll}\n",
       "  & Sedan & Convertible\\\\\n",
       "\\hline\n",
       "\tMale & 14 & 7\\\\\n",
       "\tFemale & 33 & 3\\\\\n",
       "\\end{tabular}\n"
      ],
      "text/markdown": [
       "\n",
       "A matrix: 2 × 2 of type dbl\n",
       "\n",
       "| <!--/--> | Sedan | Convertible |\n",
       "|---|---|---|\n",
       "| Male | 14 | 7 |\n",
       "| Female | 33 | 3 |\n",
       "\n"
      ],
      "text/plain": [
       "       Sedan Convertible\n",
       "Male   14    7          \n",
       "Female 33    3          "
      ]
     },
     "metadata": {},
     "output_type": "display_data"
    }
   ],
   "source": [
    "colnames(cont) <- c(\"Sedan\", \"Convertible\")\n",
    "rownames(cont) <- c(\"Male\", \"Female\")\n",
    "cont"
   ]
  },
  {
   "cell_type": "markdown",
   "metadata": {},
   "source": [
    "- 为了找到车的类型和性别，在此基础上进行卡方检验\n",
    "列联表如下:"
   ]
  },
  {
   "cell_type": "code",
   "execution_count": 31,
   "metadata": {},
   "outputs": [
    {
     "name": "stderr",
     "output_type": "stream",
     "text": [
      "Warning message in chisq.test(as.table(cont)):\n",
      "“Chi-squared approximation may be incorrect”\n"
     ]
    },
    {
     "data": {
      "text/plain": [
       "\n",
       "\tPearson's Chi-squared test with Yates' continuity correction\n",
       "\n",
       "data:  as.table(cont)\n",
       "X-squared = 4.1324, df = 1, p-value = 0.04207\n"
      ]
     },
     "metadata": {},
     "output_type": "display_data"
    }
   ],
   "source": [
    "test <- chisq.test(as.table(cont))\n",
    "test"
   ]
  },
  {
   "cell_type": "markdown",
   "metadata": {},
   "source": [
    "<font color= red>（3）对于Wilcoxon符号秩检验，首先创建一组包含观测值的向量\n",
    "将被测试为x和y，如下面的命令所示:"
   ]
  },
  {
   "cell_type": "code",
   "execution_count": 32,
   "metadata": {},
   "outputs": [],
   "source": [
    "x <- c(1.83, 0.50, 1.62, 2.48, 1.68, 1.88, 1.55, 3.06, 1.30)\n",
    "y <- c(0.878, 0.647, 0.598, 2.05, 1.06, 1.29, 1.06, 3.14, 1.29)"
   ]
  },
  {
   "cell_type": "markdown",
   "metadata": {},
   "source": [
    "- 后面是运行Wilcoxon所需执行的命令\n",
    "signed-rank检验如下"
   ]
  },
  {
   "cell_type": "code",
   "execution_count": 33,
   "metadata": {},
   "outputs": [
    {
     "name": "stdout",
     "output_type": "stream",
     "text": [
      "List of 7\n",
      " $ statistic  : Named num 40\n",
      "  ..- attr(*, \"names\")= chr \"V\"\n",
      " $ parameter  : NULL\n",
      " $ p.value    : num 0.0195\n",
      " $ null.value : Named num 0\n",
      "  ..- attr(*, \"names\")= chr \"location shift\"\n",
      " $ alternative: chr \"greater\"\n",
      " $ method     : chr \"Wilcoxon signed rank test\"\n",
      " $ data.name  : chr \"x and y\"\n",
      " - attr(*, \"class\")= chr \"htest\"\n"
     ]
    }
   ],
   "source": [
    " test <- wilcox.test(x, y, paired = TRUE, alternative = \"greater\")\n",
    " str(test)"
   ]
  },
  {
   "cell_type": "code",
   "execution_count": 34,
   "metadata": {},
   "outputs": [
    {
     "data": {
      "text/html": [
       "0.01953125"
      ],
      "text/latex": [
       "0.01953125"
      ],
      "text/markdown": [
       "0.01953125"
      ],
      "text/plain": [
       "[1] 0.01953125"
      ]
     },
     "metadata": {},
     "output_type": "display_data"
    }
   ],
   "source": [
    "test$p.value"
   ]
  },
  {
   "cell_type": "markdown",
   "metadata": {},
   "source": [
    "---"
   ]
  },
  {
   "cell_type": "markdown",
   "metadata": {},
   "source": [
    "## 6.Visualizing data可视化数据"
   ]
  },
  {
   "cell_type": "markdown",
   "metadata": {},
   "source": [
    "(1)创建一个散点图，从你的iris数据集开始。你想要看到的是\n",
    "萼片长度和花瓣长度的变化。你需要一张萼片长度的图\n",
    "(1列)沿y轴，花瓣长度(4列)沿x轴，为"
   ]
  },
  {
   "cell_type": "code",
   "execution_count": 36,
   "metadata": {},
   "outputs": [
    {
     "data": {
      "image/png": "[encoded data removed]",
      "text/plain": [
       "Plot with title “Varition of sepal length with petal length”"
      ]
     },
     "metadata": {
      "image/png": {
       "height": 420,
       "width": 420
      }
     },
     "output_type": "display_data"
    }
   ],
   "source": [
    "sl <- iris[,1]\n",
    "pl <- iris[,4]\n",
    "plot(x=pl, y=sl, xlab=\"Petal length\", ylab=\"Sepal length\", col=\"black\", main=\"Varition of sepal length with petal length\")"
   ]
  },
  {
   "cell_type": "markdown",
   "metadata": {},
   "source": [
    "(2)箱式图"
   ]
  },
  {
   "cell_type": "code",
   "execution_count": 38,
   "metadata": {},
   "outputs": [
    {
     "data": {
      "image/png": "[encoded data removed]",
      "text/plain": [
       "Plot with title “Sepal length for different species”"
      ]
     },
     "metadata": {
      "image/png": {
       "height": 420,
       "width": 420
      }
     },
     "output_type": "display_data"
    }
   ],
   "source": [
    " boxplot(Sepal.Length~Species, data=iris, ylab=\"sepal length\", xlab=\"Species\", main=\"Sepal length for different species\")"
   ]
  },
  {
   "cell_type": "markdown",
   "metadata": {},
   "source": [
    "（3）然而，绘制线图与绘制散点图是一样的;只是介绍\n",
    "另一个参数类型，并设置为'l'。然而，我们使用不同的，\n",
    "自创建的数据集描述如下:"
   ]
  },
  {
   "cell_type": "code",
   "execution_count": 39,
   "metadata": {},
   "outputs": [
    {
     "data": {
      "image/png": "[encoded data removed]",
      "text/plain": [
       "Plot with title “line diagram”"
      ]
     },
     "metadata": {
      "image/png": {
       "height": 420,
       "width": 420
      }
     },
     "output_type": "display_data"
    }
   ],
   "source": [
    "genex <- c(rnorm(100, 1, 0.1), rnorm(100, 2, 0.1), rnorm(50, 3, 0.1)) \n",
    "plot(x=genex, xlim=c(1,5), type='l', main=\"line diagram\")"
   ]
  },
  {
   "cell_type": "markdown",
   "metadata": {},
   "source": [
    "（4）直方图可以用来可视化的密度的数据和频率的每一个\n",
    "类别。"
   ]
  },
  {
   "cell_type": "code",
   "execution_count": 40,
   "metadata": {},
   "outputs": [
    {
     "data": {
      "image/png": "[encoded data removed]",
      "text/plain": [
       "Plot with title “Histogram of x”"
      ]
     },
     "metadata": {
      "image/png": {
       "height": 420,
       "width": 420
      }
     },
     "output_type": "display_data"
    }
   ],
   "source": [
    "x <- rnorm(1000, 3, 0.02)\n",
    "hist(x)"
   ]
  },
  {
   "cell_type": "markdown",
   "metadata": {},
   "source": [
    "---"
   ]
  },
  {
   "cell_type": "markdown",
   "metadata": {},
   "source": [
    "## 7.Working with PubMed in R"
   ]
  },
  {
   "cell_type": "markdown",
   "metadata": {},
   "source": [
    "- 查阅现有的文献。PubMed提供查阅文献的服务。该服务由NCBI-Entrez数据库提供(如下图所示)，可在https://www.ncbi.nlm.nih.gov 获得。R提供了一个通过PubMed查看文献各个方面的接口。本节提供了处理此类接口的协议。这种方法允许在R程序本身中进行搜索、存储、挖掘和量化元分析，而不需要每次都访问PubMed页面，从而帮助实现分析自动化。下面的截图\n",
    "显示PubMed网页进行查询和检索"
   ]
  },
  {
   "cell_type": "markdown",
   "metadata": {},
   "source": [
    "（1）需要RISmed包"
   ]
  },
  {
   "cell_type": "code",
   "execution_count": 42,
   "metadata": {},
   "outputs": [],
   "source": [
    " library(RISmed)"
   ]
  },
  {
   "cell_type": "markdown",
   "metadata": {},
   "source": [
    "（2）载入数据"
   ]
  },
  {
   "cell_type": "code",
   "execution_count": 43,
   "metadata": {},
   "outputs": [],
   "source": [
    " data(myeloma) "
   ]
  },
  {
   "cell_type": "code",
   "execution_count": 44,
   "metadata": {},
   "outputs": [
    {
     "data": {
      "text/html": [
       "<style>\n",
       ".list-inline {list-style: none; margin:0; padding: 0}\n",
       ".list-inline>li {display: inline-block}\n",
       ".list-inline>li:not(:last-child)::after {content: \"\\00b7\"; padding: 0 .5ex}\n",
       "</style>\n",
       "<ol class=list-inline><li>'affyLib'</li><li>'ALL'</li><li>'cont'</li><li>'Cov.mat'</li><li>'D'</li><li>'geneList'</li><li>'genex'</li><li>'GOgenes'</li><li>'i'</li><li>'iris'</li><li>'kegg'</li><li>'mapped_probes'</li><li>'myEID'</li><li>'myEIDs'</li><li>'myeloma'</li><li>'MyEntrez'</li><li>'myGO'</li><li>'myGO_All'</li><li>'mylength'</li><li>'myMap'</li><li>'mySymbols'</li><li>'n.data'</li><li>'old.o'</li><li>'op'</li><li>'pl'</li><li>'r'</li><li>'sl'</li><li>'sleep'</li><li>'test'</li><li>'topDiffGenes'</li><li>'x'</li><li>'y'</li></ol>\n"
      ],
      "text/latex": [
       "\\begin{enumerate*}\n",
       "\\item 'affyLib'\n",
       "\\item 'ALL'\n",
       "\\item 'cont'\n",
       "\\item 'Cov.mat'\n",
       "\\item 'D'\n",
       "\\item 'geneList'\n",
       "\\item 'genex'\n",
       "\\item 'GOgenes'\n",
       "\\item 'i'\n",
       "\\item 'iris'\n",
       "\\item 'kegg'\n",
       "\\item 'mapped\\_probes'\n",
       "\\item 'myEID'\n",
       "\\item 'myEIDs'\n",
       "\\item 'myeloma'\n",
       "\\item 'MyEntrez'\n",
       "\\item 'myGO'\n",
       "\\item 'myGO\\_All'\n",
       "\\item 'mylength'\n",
       "\\item 'myMap'\n",
       "\\item 'mySymbols'\n",
       "\\item 'n.data'\n",
       "\\item 'old.o'\n",
       "\\item 'op'\n",
       "\\item 'pl'\n",
       "\\item 'r'\n",
       "\\item 'sl'\n",
       "\\item 'sleep'\n",
       "\\item 'test'\n",
       "\\item 'topDiffGenes'\n",
       "\\item 'x'\n",
       "\\item 'y'\n",
       "\\end{enumerate*}\n"
      ],
      "text/markdown": [
       "1. 'affyLib'\n",
       "2. 'ALL'\n",
       "3. 'cont'\n",
       "4. 'Cov.mat'\n",
       "5. 'D'\n",
       "6. 'geneList'\n",
       "7. 'genex'\n",
       "8. 'GOgenes'\n",
       "9. 'i'\n",
       "10. 'iris'\n",
       "11. 'kegg'\n",
       "12. 'mapped_probes'\n",
       "13. 'myEID'\n",
       "14. 'myEIDs'\n",
       "15. 'myeloma'\n",
       "16. 'MyEntrez'\n",
       "17. 'myGO'\n",
       "18. 'myGO_All'\n",
       "19. 'mylength'\n",
       "20. 'myMap'\n",
       "21. 'mySymbols'\n",
       "22. 'n.data'\n",
       "23. 'old.o'\n",
       "24. 'op'\n",
       "25. 'pl'\n",
       "26. 'r'\n",
       "27. 'sl'\n",
       "28. 'sleep'\n",
       "29. 'test'\n",
       "30. 'topDiffGenes'\n",
       "31. 'x'\n",
       "32. 'y'\n",
       "\n",
       "\n"
      ],
      "text/plain": [
       " [1] \"affyLib\"       \"ALL\"           \"cont\"          \"Cov.mat\"      \n",
       " [5] \"D\"             \"geneList\"      \"genex\"         \"GOgenes\"      \n",
       " [9] \"i\"             \"iris\"          \"kegg\"          \"mapped_probes\"\n",
       "[13] \"myEID\"         \"myEIDs\"        \"myeloma\"       \"MyEntrez\"     \n",
       "[17] \"myGO\"          \"myGO_All\"      \"mylength\"      \"myMap\"        \n",
       "[21] \"mySymbols\"     \"n.data\"        \"old.o\"         \"op\"           \n",
       "[25] \"pl\"            \"r\"             \"sl\"            \"sleep\"        \n",
       "[29] \"test\"          \"topDiffGenes\"  \"x\"             \"y\"            "
      ]
     },
     "metadata": {},
     "output_type": "display_data"
    }
   ],
   "source": [
    " ls()     #查找使用ls()加载到R工作区中的骨髓瘤对象"
   ]
  },
  {
   "cell_type": "code",
   "execution_count": 45,
   "metadata": {},
   "outputs": [
    {
     "name": "stdout",
     "output_type": "stream",
     "text": [
      "Formal class 'Medline' [package \"RISmed\"] with 59 slots\n",
      "  ..@ Query               : chr \"\\\"multiple myeloma\\\"[MeSH Terms] AND 2012/05/08[EDAT] : 2013/05/08[EDAT]\"\n",
      "  ..@ PMID                : chr [1:10] \"23648714\" \"23648667\" \"23648347\" \"23648290\" ...\n",
      "  ..@ YearReceived        : num [1:10] NA 2013 NA 2013 2013 ...\n",
      "  ..@ MonthReceived       : num [1:10] NA 4 NA 4 2 NA NA 7 NA 3\n",
      "  ..@ DayReceived         : num [1:10] NA 18 NA 16 3 NA NA 18 NA 4\n",
      "  ..@ HourReceived        : num [1:10] NA NA NA NA NA NA NA NA NA NA\n",
      "  ..@ MinuteReceived      : num [1:10] NA NA NA NA NA NA NA NA NA NA\n",
      "  ..@ YearAccepted        : num [1:10] NA 2013 NA 2013 2013 ...\n",
      "  ..@ MonthAccepted       : num [1:10] NA 5 NA 4 3 NA 5 3 NA 3\n",
      "  ..@ DayAccepted         : num [1:10] NA 1 NA 18 18 NA 1 26 NA 4\n",
      "  ..@ HourAccepted        : num [1:10] NA NA NA NA NA NA NA NA NA NA\n",
      "  ..@ MinuteAccepted      : num [1:10] NA NA NA NA NA NA NA NA NA NA\n",
      "  ..@ YearEpublish        : num [1:10] 2012 NA NA NA NA ...\n",
      "  ..@ MonthEpublish       : num [1:10] 3 NA NA NA NA NA NA 4 NA NA\n",
      "  ..@ DayEpublish         : num [1:10] 1 NA NA NA NA NA NA 30 NA NA\n",
      "  ..@ HourEpublish        : num [1:10] NA NA NA NA NA NA NA NA NA NA\n",
      "  ..@ MinuteEpublish      : num [1:10] NA NA NA NA NA NA NA NA NA NA\n",
      "  ..@ YearPpublish        : num [1:10] NA NA NA NA NA ...\n",
      "  ..@ MonthPpublish       : num [1:10] NA NA NA NA NA NA NA NA NA NA\n",
      "  ..@ DayPpublish         : num [1:10] NA NA NA NA NA NA NA NA NA NA\n",
      "  ..@ HourPpublish        : num [1:10] NA NA NA NA NA NA NA NA NA NA\n",
      "  ..@ MinutePpublish      : num [1:10] NA NA NA NA NA NA NA NA NA NA\n",
      "  ..@ YearPmc             : num [1:10] NA NA NA NA NA NA NA NA NA NA\n",
      "  ..@ MonthPmc            : num [1:10] NA NA NA NA NA NA NA NA NA NA\n",
      "  ..@ DayPmc              : num [1:10] NA NA NA NA NA NA NA NA NA NA\n",
      "  ..@ HourPmc             : num [1:10] NA NA NA NA NA NA NA NA NA NA\n",
      "  ..@ MinutePmc           : num [1:10] NA NA NA NA NA NA NA NA NA NA\n",
      "  ..@ YearPubmed          : num [1:10] 2013 2013 2013 2013 2013 ...\n",
      "  ..@ MonthPubmed         : num [1:10] 5 5 5 5 5 5 5 5 5 5\n",
      "  ..@ DayPubmed           : num [1:10] 8 8 8 8 8 8 8 7 7 7\n",
      "  ..@ HourPubmed          : num [1:10] 6 6 6 6 6 6 6 6 6 6\n",
      "  ..@ MinutePubmed        : num [1:10] 0 0 0 0 0 0 0 0 0 0\n",
      "  ..@ Author              :List of 10\n",
      "  .. ..$ :'data.frame':\t22 obs. of  4 variables:\n",
      "  .. .. ..$ LastName: chr [1:22] \"Kobayashi\" \"Kuroda\" \"Fuchida\" \"Murakami\" ...\n",
      "  .. .. ..$ ForeName: chr [1:22] \"Tsutomu\" \"Junya\" \"Shin-ichi\" \"Satoshi\" ...\n",
      "  .. .. ..$ Initials: chr [1:22] \"T\" \"J\" \"S\" \"S\" ...\n",
      "  .. .. ..$ order   : int [1:22] 1 2 3 4 5 6 7 8 9 10 ...\n",
      "  .. ..$ :'data.frame':\t15 obs. of  4 variables:\n",
      "  .. .. ..$ LastName: chr [1:15] \"Srivastava\" \"Rana\" \"Lacy\" \"Buadi\" ...\n",
      "  .. .. ..$ ForeName: chr [1:15] \"G\" \"V\" \"M Q\" \"F K\" ...\n",
      "  .. .. ..$ Initials: chr [1:15] \"G\" \"V\" \"MQ\" \"FK\" ...\n",
      "  .. .. ..$ order   : int [1:15] 1 2 3 4 5 6 7 8 9 10 ...\n",
      "  .. ..$ :'data.frame':\t17 obs. of  4 variables:\n",
      "  .. .. ..$ LastName: chr [1:17] \"Wang\" \"Fu\" \"Wu\" \"Sun\" ...\n",
      "  .. .. ..$ ForeName: chr [1:17] \"Juan\" \"Cheng-cheng\" \"De-Pei\" \"Ai-Ning\" ...\n",
      "  .. .. ..$ Initials: chr [1:17] \"J\" \"CC\" \"DP\" \"AN\" ...\n",
      "  .. .. ..$ order   : int [1:17] 1 2 3 4 5 6 7 8 9 10 ...\n",
      "  .. ..$ :'data.frame':\t12 obs. of  4 variables:\n",
      "  .. .. ..$ LastName: chr [1:12] \"Valdez\" \"Wang\" \"Murray\" \"Nieto\" ...\n",
      "  .. .. ..$ ForeName: chr [1:12] \"Benigno C\" \"Guiyun\" \"David\" \"Yago\" ...\n",
      "  .. .. ..$ Initials: chr [1:12] \"BC\" \"G\" \"D\" \"Y\" ...\n",
      "  .. .. ..$ order   : int [1:12] 1 2 3 4 5 6 7 8 9 10 ...\n",
      "  .. ..$ :'data.frame':\t15 obs. of  4 variables:\n",
      "  .. .. ..$ LastName: chr [1:15] \"Gatt\" \"Takada\" \"Mani\" \"Lerner\" ...\n",
      "  .. .. ..$ ForeName: chr [1:15] \"Moshe E\" \"Kohichi\" \"Mala\" \"Mikael\" ...\n",
      "  .. .. ..$ Initials: chr [1:15] \"ME\" \"K\" \"M\" \"M\" ...\n",
      "  .. .. ..$ order   : int [1:15] 1 2 3 4 5 6 7 8 9 10 ...\n",
      "  .. ..$ :'data.frame':\t2 obs. of  4 variables:\n",
      "  .. .. ..$ LastName: chr [1:2] \"Minnema\" \"de Keizer\"\n",
      "  .. .. ..$ ForeName: chr [1:2] \"Monique C\" \"Bart\"\n",
      "  .. .. ..$ Initials: chr [1:2] \"MC\" \"B\"\n",
      "  .. .. ..$ order   : int [1:2] 1 2\n",
      "  .. ..$ :'data.frame':\t10 obs. of  4 variables:\n",
      "  .. .. ..$ LastName: chr [1:10] \"Greenberg\" \"Cousin\" \"Kumar\" \"Ketterling\" ...\n",
      "  .. .. ..$ ForeName: chr [1:10] \"Alexandra J\" \"Margot\" \"Shaji\" \"Rhett P\" ...\n",
      "  .. .. ..$ Initials: chr [1:10] \"AJ\" \"M\" \"S\" \"RP\" ...\n",
      "  .. .. ..$ order   : int [1:10] 1 2 3 4 5 6 7 8 9 10\n",
      "  .. ..$ :'data.frame':\t8 obs. of  4 variables:\n",
      "  .. .. ..$ LastName: chr [1:8] \"Kassambara\" \"Schoenhals\" \"Moreaux\" \"Veyrune\" ...\n",
      "  .. .. ..$ ForeName: chr [1:8] \"Alboukadel\" \"Matthieu\" \"Jérôme\" \"Jean-Luc\" ...\n",
      "  .. .. ..$ Initials: chr [1:8] \"A\" \"M\" \"J\" \"JL\" ...\n",
      "  .. .. ..$ order   : int [1:8] 1 2 3 4 5 6 7 8\n",
      "  .. ..$ :'data.frame':\t10 obs. of  4 variables:\n",
      "  .. .. ..$ LastName: chr [1:10] \"Tovar\" \"de Larrea\" \"Aróstegui\" \"Cibeira\" ...\n",
      "  .. .. ..$ ForeName: chr [1:10] \"Natalia\" \"Carlos Fernández\" \"Juan I\" \"Maria Teresa\" ...\n",
      "  .. .. ..$ Initials: chr [1:10] \"N\" \"CF\" \"JI\" \"MT\" ...\n",
      "  .. .. ..$ order   : int [1:10] 1 2 3 4 5 6 7 8 9 10\n",
      "  .. ..$ :'data.frame':\t4 obs. of  4 variables:\n",
      "  .. .. ..$ LastName: chr [1:4] \"Garfall\" \"Vogl\" \"Weiss\" \"Stadtmauer\"\n",
      "  .. .. ..$ ForeName: chr [1:4] \"A L\" \"D T\" \"B M\" \"E A\"\n",
      "  .. .. ..$ Initials: chr [1:4] \"AL\" \"DT\" \"BM\" \"EA\"\n",
      "  .. .. ..$ order   : int [1:4] 1 2 3 4\n",
      "  ..@ ISSN                : chr [1:10] \"1349-7235\" \"1476-5551\" \"0376-2491\" \"1873-2399\" ...\n",
      "  ..@ Title               : chr [1:10] \"Internal medicine (Tokyo, Japan)\" \"Leukemia\" \"Zhonghua yi xue za zhi\" \"Experimental hematology\" ...\n",
      "  ..@ ArticleTitle        : chr [1:10] \"The response to second-line induction with bortezomib and dexamethasone is predictive of long-term outcomes pri\"| __truncated__ \"Long-term outcome with lenalidomide and dexamethasone therapy for newly diagnosed multiple myeloma.\" \"[Retrospective analysis on therapeutic effect of autologous hematopoietic stem cell transplantation in multiple\"| __truncated__ \"Mechanistic studies on the synergistic cytotoxicity of the nucleoside analogs gemcitabine and clofarabine in mu\"| __truncated__ ...\n",
      "  ..@ ELocationID         : chr [1:10] NA \"10.1038/leu.2013.143\" NA \"10.1016/j.exphem.2013.04.009\" ...\n",
      "  ..@ AbstractText        : chr [1:10] \"OBJECTIVE: We retrospectively investigated the efficacy and predictive factors for the treatment outcomes of bo\"| __truncated__ \"The combination of lenalidomide and dexamethasone (Len-Dex) is a commonly used initial therapy for newly diagno\"| __truncated__ \"OBJECTIVE: To evaluate the efficacy and prognostic factors of autologous hematopoietic stem cell transplantatio\"| __truncated__ \"Hematopoietic stem cell transplantation (HSCT) is an established treatment for multiple myeloma (MM), a plasma \"| __truncated__ ...\n",
      "  ..@ Affiliation         : chr [1:10] \"Division of Hematology and Oncology, Department of Medicine, Kyoto Prefectural University of Medicine, Japan. t\"| __truncated__ \"Division of Hematology and Blood and Marrow Transplant, Department of Medicine, Mayo Clinic, Rochester, MN, USA.\" \"Jiangsu Institute of Hematology, First Affiliated Hospital, Soochow University, Key Lab of Thrombosis &amp; Hem\"| __truncated__ \"Departments of Stem Cell Transplantation and Cellular Therapy, University of Texas MD Anderson Cancer Center, H\"| __truncated__ ...\n",
      "  ..@ Language            : chr [1:10] \"eng\" \"eng\" \"chi\" \"eng\" ...\n",
      "  ..@ PublicationType     :List of 10\n",
      "  .. ..$ : Named chr [1:2] \"Journal Article\" \"Research Support, Non-U.S. Gov't\"\n",
      "  .. .. ..- attr(*, \"names\")= chr [1:2] \"PublicationType\" \"PublicationType\"\n",
      "  .. ..$ : Named chr [1:3] \"Journal Article\" \"Research Support, N.I.H., Extramural\" \"Research Support, Non-U.S. Gov't\"\n",
      "  .. .. ..- attr(*, \"names\")= chr [1:3] \"PublicationType\" \"PublicationType\" \"PublicationType\"\n",
      "  .. ..$ : Named chr [1:3] \"English Abstract\" \"Journal Article\" \"Research Support, Non-U.S. Gov't\"\n",
      "  .. .. ..- attr(*, \"names\")= chr [1:3] \"PublicationType\" \"PublicationType\" \"PublicationType\"\n",
      "  .. ..$ : Named chr [1:3] \"Journal Article\" \"Research Support, N.I.H., Extramural\" \"Research Support, Non-U.S. Gov't\"\n",
      "  .. .. ..- attr(*, \"names\")= chr [1:3] \"PublicationType\" \"PublicationType\" \"PublicationType\"\n",
      "  .. ..$ : Named chr [1:3] \"Journal Article\" \"Research Support, N.I.H., Extramural\" \"Research Support, Non-U.S. Gov't\"\n",
      "  .. .. ..- attr(*, \"names\")= chr [1:3] \"PublicationType\" \"PublicationType\" \"PublicationType\"\n",
      "  .. ..$ : Named chr [1:2] \"Case Reports\" \"Journal Article\"\n",
      "  .. .. ..- attr(*, \"names\")= chr [1:2] \"PublicationType\" \"PublicationType\"\n",
      "  .. ..$ : Named chr [1:2] \"Journal Article\" \"Research Support, N.I.H., Extramural\"\n",
      "  .. .. ..- attr(*, \"names\")= chr [1:2] \"PublicationType\" \"PublicationType\"\n",
      "  .. ..$ : Named chr [1:2] \"Journal Article\" \"Research Support, Non-U.S. Gov't\"\n",
      "  .. .. ..- attr(*, \"names\")= chr [1:2] \"PublicationType\" \"PublicationType\"\n",
      "  .. ..$ : Named chr [1:2] \"Journal Article\" \"Research Support, Non-U.S. Gov't\"\n",
      "  .. .. ..- attr(*, \"names\")= chr [1:2] \"PublicationType\" \"PublicationType\"\n",
      "  .. ..$ : Named chr [1:2] \"Journal Article\" \"Review\"\n",
      "  .. .. ..- attr(*, \"names\")= chr [1:2] \"PublicationType\" \"PublicationType\"\n",
      "  ..@ MedlineTA           : chr [1:10] \"Intern Med\" \"Leukemia\" \"Zhonghua Yi Xue Za Zhi\" \"Exp Hematol\" ...\n",
      "  ..@ NlmUniqueID         : chr [1:10] \"9204241\" \"8704895\" \"7511141\" \"0402313\" ...\n",
      "  ..@ ISSNLinking         : chr [1:10] \"0918-2918\" \"0887-6924\" \"0376-2491\" \"0301-472X\" ...\n",
      "  ..@ PublicationStatus   : chr [1:10] \"ppublish\" \"ppublish\" \"ppublish\" \"ppublish\" ...\n",
      "  ..@ ArticleId           : chr [1:10] \"DN/JST.JSTAGE/internalmedicine/52.9385\" \"leu2013143\" \"23648347\" \"S0301-472X(13)00201-4\" ...\n",
      "  ..@ Volume              : chr [1:10] \"52\" \"27\" \"93\" \"41\" ...\n",
      "  ..@ Issue               : chr [1:10] \"9\" \"10\" \"2\" \"8\" ...\n",
      "  ..@ ISOAbbreviation     : chr [1:10] \"Intern. Med.\" \"Leukemia\" \"Zhonghua Yi Xue Za Zhi\" \"Exp. Hematol.\" ...\n",
      "  ..@ MedlinePgn          : chr [1:10] \"961-8\" \"2062-6\" \"114-8\" \"719-30\" ...\n",
      "  ..@ CopyrightInformation: chr [1:10] NA NA NA \"Published by Elsevier Inc.\" ...\n",
      "  ..@ Country             : chr [1:10] \"Japan\" \"United States\" \"China\" \"United States\" ...\n",
      "  ..@ GrantID             : chr [1:10] NA \"CA 107476\" NA \"CA 16672\" ...\n",
      "  ..@ Acronym             : chr [1:10] NA \"CA\" NA \"CA\" ...\n",
      "  ..@ Agency              : chr [1:10] NA \"NCI NIH HHS\" NA \"NCI NIH HHS\" ...\n",
      "  ..@ RegistryNumber      : chr [1:10] \"0\" \"4Z8R6ORS6L\" NA \"0\" ...\n",
      "  ..@ RefSource           : chr [1:10] NA \"Lancet Oncol. 2010 Jan;11(1):29-37\" NA \"J Exp Med. 1995 Nov 1;182(5):1545-56\" ...\n",
      "  ..@ CollectiveName      : chr [1:10] NA NA NA NA ...\n",
      "  ..@ Mesh                :List of 10\n",
      "  .. ..$ :'data.frame':\t47 obs. of  2 variables:\n",
      "  .. .. ..$ Heading: Factor w/ 36 levels \"administration &amp; dosage\",..: 2 4 5 1 3 33 6 1 3 8 ...\n",
      "  .. .. ..$ Type   : Factor w/ 2 levels \"Descriptor\",\"Qualifier\": 1 1 1 2 2 2 1 2 2 1 ...\n",
      "  .. ..$ :'data.frame':\t21 obs. of  2 variables:\n",
      "  .. .. ..$ Heading: Factor w/ 21 levels \"administration &amp; dosage\",..: 2 3 4 5 21 6 1 9 10 11 ...\n",
      "  .. .. ..$ Type   : Factor w/ 2 levels \"Descriptor\",\"Qualifier\": 1 1 1 1 2 1 2 1 1 1 ...\n",
      "  .. ..$ :'data.frame':\t12 obs. of  2 variables:\n",
      "  .. .. ..$ Heading: Factor w/ 12 levels \"diagnosis\",\"Female\",..: 2 3 4 5 6 7 1 10 8 9 ...\n",
      "  .. .. ..$ Type   : Factor w/ 2 levels \"Descriptor\",\"Qualifier\": 1 1 1 1 1 1 2 2 1 1 ...\n",
      "  .. ..$ :'data.frame':\t27 obs. of  2 variables:\n",
      "  .. .. ..$ Heading: Factor w/ 25 levels \"Adenine Nucleotides\",..: 1 2 4 19 24 5 2 6 7 9 ...\n",
      "  .. .. ..$ Type   : Factor w/ 2 levels \"Descriptor\",\"Qualifier\": 1 2 1 2 2 1 2 1 1 1 ...\n",
      "  .. ..$ :'data.frame':\t31 obs. of  2 variables:\n",
      "  .. .. ..$ Heading: Factor w/ 21 levels \"antagonists &amp; inhibitors\",..: 2 14 4 14 5 14 6 7 14 8 ...\n",
      "  .. .. ..$ Type   : Factor w/ 2 levels \"Descriptor\",\"Qualifier\": 1 2 1 2 1 2 1 1 2 1 ...\n",
      "  .. ..$ :'data.frame':\t17 obs. of  2 variables:\n",
      "  .. .. ..$ Heading: Factor w/ 14 levels \"Aged\",\"Biopsy\",..: 1 2 3 9 11 12 5 4 6 7 ...\n",
      "  .. .. ..$ Type   : Factor w/ 2 levels \"Descriptor\",\"Qualifier\": 1 1 1 2 2 2 1 2 1 1 ...\n",
      "  .. ..$ :'data.frame':\t9 obs. of  2 variables:\n",
      "  .. .. ..$ Heading: Factor w/ 9 levels \"Chromosome Aberrations\",..: 1 3 4 6 7 8 2 5 9\n",
      "  .. .. ..$ Type   : Factor w/ 2 levels \"Descriptor\",\"Qualifier\": 1 1 1 1 1 1 2 2 1\n",
      "  .. ..$ :'data.frame':\t36 obs. of  2 variables:\n",
      "  .. .. ..$ Heading: Factor w/ 27 levels \"Apoptosis\",\"Bone Marrow Cells\",..: 1 12 2 15 20 3 12 4 12 5 ...\n",
      "  .. .. ..$ Type   : Factor w/ 2 levels \"Descriptor\",\"Qualifier\": 1 2 1 2 2 1 2 1 2 1 ...\n",
      "  .. ..$ :'data.frame':\t23 obs. of  2 variables:\n",
      "  .. .. ..$ Heading: Factor w/ 20 levels \"Adult\",\"Aged\",..: 1 2 4 5 6 20 7 8 9 10 ...\n",
      "  .. .. ..$ Type   : Factor w/ 2 levels \"Descriptor\",\"Qualifier\": 1 1 1 1 1 2 1 1 2 1 ...\n",
      "  .. ..$ :'data.frame':\t10 obs. of  2 variables:\n",
      "  .. .. ..$ Heading: Factor w/ 9 levels \"Hematopoietic Stem Cell Transplantation\",..: 1 5 2 4 5 6 3 9 7 8\n",
      "  .. .. ..$ Type   : Factor w/ 2 levels \"Descriptor\",\"Qualifier\": 1 2 1 1 2 1 2 2 1 1\n"
     ]
    }
   ],
   "source": [
    " str(myeloma)   #查看目录"
   ]
  },
  {
   "cell_type": "code",
   "execution_count": 46,
   "metadata": {},
   "outputs": [
    {
     "data": {
      "text/html": [
       "<style>\n",
       ".list-inline {list-style: none; margin:0; padding: 0}\n",
       ".list-inline>li {display: inline-block}\n",
       ".list-inline>li:not(:last-child)::after {content: \"\\00b7\"; padding: 0 .5ex}\n",
       "</style>\n",
       "<ol class=list-inline><li>'OBJECTIVE: We retrospectively investigated the efficacy and predictive factors for the treatment outcomes of bortezomib plus dexamethasone (BD) as second-line induction therapy prior to high-dose chemotherapy supported by autologous stem cell transplantation (HDT/ASCT) in multiple myeloma (MM) patients.METHODS: Sixty-six transplant eligible MM patients treated by the Kyoto Clinical Hematology Study Group between 2006 and 2011 were investigated. Conventional induction chemotherapy, including vincristine, doxorubicin and dexamethasone (VAD) and high-dose dexamethasone (HDD), was used as first-line induction therapy in all patients, seven (10.6%) of whom attained a very good partial response (VGPR). Of the 59 patients who did not attain VGPR with VAD or HDD, 33 were given BD as second-line induction therapy prior to HDT/ASCT.RESULTS: Patients not treated with BD induction showed an overall response rate (ORR, i.e., better than partial response) of 85.3% after induction therapy, while the ORR of patients treated with BD induction improved from 42.4% after conventional induction therapy to 84.8% after BD. The overall survival (OS) and progression-free survival (PFS) of patients not treated with BD induction were not significantly influenced by the response to induction therapy. Among the patients treated with BD, failure in attaining VGPR prior to ASCT was associated with a significantly shorter PFS and it also tended to show a shorter OS, while the disease stage and achievement of a complete response after HDT/ASCT had no impact on OS or PFS.CONCLUSION: The achievement of at least VGPR with second-line BD induction therapy is a prerequisite for attaining longer OS and PFS after HDT/ASCT.'</li><li>'The combination of lenalidomide and dexamethasone (Len-Dex) is a commonly used initial therapy for newly diagnosed multiple myeloma (MM). Although the initial response rates and toxicity are well known, long-term outcome is not well described. We studied 286 consecutive patients with newly diagnosed MM initially treated with Len-Dex. The median (range) age at diagnosis was 63 (28-92) years, 166 (58%) patients ≤ 65 years and 175 (61%) male. The median estimated duration on Len-Dex was 5.3 months with overall response (≥ partial response) of 72%, including 26% with very good partial response or better. The median overall survival (OS) from the diagnosis was not reached (NR) and the estimated 5-year survival was 71%. The median time to first disease progression, irrespective of transplant status, was 30.2 months. Overall, 143 (50%) patients underwent stem cell transplant. The median OS was NR for patients ≤ 70 years and 5.8 years for the older patients (P=0.01). The 5-year OS estimate for patients in International Staging System stage 1, 2 and 3 were 82, 65, and 44% respectively. There were 21 new second malignancies after MM diagnosis (6.6%). The median survival exceeding 7 years reflects the efficacy of novel agents. The risk of second malignancies doesn\\'t appear to be excessive in this population.'</li><li>'OBJECTIVE: To evaluate the efficacy and prognostic factors of autologous hematopoietic stem cell transplantation (ASCT) in multiple myeloma (MM) patients.METHODS: Retrospective analysis was performed in 27 MM patients undergoing ASCT at our hospital from May 2004 to August 2011. After comparing with 28 patients achieving very good partial response (VGPR) or better outcome and not undergoing ASCT, the impact on the extent of response, progression-free survival (PFS) and overall survival (OS) as well as related prognostic factors of MM patients were analyzed.RESULTS: All patients successfully underwent hematopoietic reconstruction without transplantation-related mortality. The complete remission (CR) rate of ASCT group increased from 25.9% (7/27) at pre-ASCT to 70.4% (19/27) at post-ASCT (P &amp;lt; 0.01). The estimated 5-year rate of progression-free survival was 56.2% (median not reached) in the ASCT group and 24.9% (median 29 months) in the non-ASCT group (P &amp;lt; 0.05). The 5-year probability of overall survival was 52.2% (median not reached) in the ASCT group and 33.1% (median 60 months) in the non-ASCT group (P &amp;gt; 0.05). Univariate analysis in ASCT group demonstrated that maintenance/consolidation therapy was associated with PFS (P = 0.010) and OS (P = 0.008).Patients on induction therapy containing bortezomib and early ASCT maintenance therapy all survived without disease progression until final follow-up (P = 0.010).CONCLUSIONS: ASCT can further increase the CR rate, prolong PFS and probably OS. The incorporation of novel agents into induction, consolidation and maintenance phases has optimized the anti-myeloma activity of ASCT and may be important for improved long-term outcomes.'</li><li>'Hematopoietic stem cell transplantation (HSCT) is an established treatment for multiple myeloma (MM), a plasma cell malignancy. To identify an improved pretransplant conditioning regimen, we investigated the cytotoxicity of gemcitabine (Gem) and clofarabine (Clo) combinations toward MM cell lines and patient cell samples. A strong synergism of the two nucleoside analogs, when combined at their approximate IC10 concentrations, was observed. This synergism could be partly due to the observed Gem-mediated phosphorylation and activation of deoxycytidine kinase, resulting in enhanced phosphorylation of Gem and Clo. Their cytotoxicity correlated with a robust activation of the DNA damage response pathway. [Gem+Clo] decreased the mitochondrial membrane potential with a concomitant release of proapoptotic factors into the cytoplasm and nucleus and the activation of apoptosis. Exposure of MM cells to [Gem+Clo] also decreased the level of ribosomal RNA (rRNA), which might have resulted in nucleolar stress, as reported previously, and caused a p53-dependent cell death. A reduction by approximately 50% in the cytotoxicity of Gem and Clo was observed in the presence of pifithrin α, a p53 inhibitor. Furthermore, MM cell lines with mutant p53 exhibited greater resistance to Gem and Clo, supporting a role for the p53 protein in these cytotoxic responses. Our results provide a rationale for clinical trials incorporating [Gem+Clo] combinations as part of conditioning therapy for high-risk patients with MM undergoing HSCT.'</li><li>'Multiple myeloma (MM) is an incurable neoplasm caused by proliferation of malignant plasma cells in the bone marrow (BM). MM is characterized frequently by a complete or partial deletion of chromosome 13q14, seen in more than 50% of patients at diagnosis. Within this deleted region the tripartite motif containing 13 (TRIM13, also termed RFP2) gene product has been proposed to be a tumour suppressor gene (TSG). Here, we show that low expression levels of TRIM13 in MM are associated with chromosome 13q deletion and poor clinical outcome. We present a functional analysis of TRIM13 using a loss-of-function approach, and demonstrate that TRIM13 downregulation decreases tumour cell survival as well as cell cycle progression and proliferation of MM cells. In addition, we provide evidence for the involvement of TRIM13 downregulation in inhibiting the NF kappa B pathway and the activity of the 20S proteasome. Although this data does not support a role of TRIM13 as a TSG, it substantiates important roles of TRIM13 in MM tumour survival and proliferation, underscoring its potential role as a novel target for therapeutic intervention.'</li><li>''</li><li>'We previously reported an increased risk of monoclonal gammopathy of undetermined significance (MGUS) in first-degree relatives of MGUS and multiple myeloma patients. Here, we examine whether primary cytogenetic categories of myeloma differ between patients with and without a family history of MGUS or myeloma. We studied 201 myeloma patients with available data on family history and molecular cytogenetic classification. Myeloma with trisomies was more common in probands who had an affected first-degree relative with MGUS or myeloma compared with those without a family history (46.9% vs. 33.5%, P = 0.125); however, the difference was not statistically significant. Additional studies on the cytogenetic types of myeloma associated with familial tendency are needed.'</li><li>'High throughput DNA microarray has made it possible to outline genes whose expression in malignant plasma cells is associated with short overall survival of patients with Multiple Myeloma (MM). A further step is to elucidate the mechanisms encoded by these genes yielding to drug resistance and/or patients\\' short survival. We focus here on the biological role of the DEP (for Disheveled, EGL-10, Pleckstrin) domain contained protein 1A (DEPDC1A), a poorly known protein encoded by DEPDC1A gene, whose high expression in malignant plasma cells is associated with short survival of patients. Using conditional lentiviral vector delivery of DEPDC1A shRNA, we report that DEPDC1A knockdown delayed the growth of human myeloma cell lines (HMCLs), with a block in G2 phase of the cell cycle, p53 phosphorylation and stabilization, and p21(Cip1) accumulation. DEPDC1A knockdown also resulted in increased expression of mature plasma cell markers, including CXCR4, IL6-R and CD38. Thus DEPDC1A could contribute to the plasmablast features of MMCs found in some patients with adverse prognosis, blocking the differentiation of malignant plasma cells and promoting cell cycle.'</li><li>'The emergence of an oligoclonal humoral response, resulting in the appearance of a different serum M-protein to that observed at diagnosis is a well-recognized event after autologous stem cell transplantation in multiple myeloma in complete response, and it has been considered to be a benign phenomenon. The aim of the present study was to investigate the incidence, biological characteristics and prognostic value of the oligoclonal bands in patients with myeloma who underwent autologous transplantation at our institution in the last 18 years. We proceed with a retrospective systematic review of all serum and urine immunofixation studies performed in the 211 patients with multiple myeloma who underwent melphalan-based autologous transplantation. Oligoclonal bands were observed in 34% of the patients, with a significantly higher prevalence with the use of novel agents versus conventional chemotherapy in induction (63% vs. 22%; P=0.0001). The incidence of oligoclonal bands was most frequent in non-IgG isotype, particularly in light chain only myeloma. The oligoclonal phenomenon was almost exclusive to patients in complete remission compared to other degrees of response (87% vs. 13%; P=0.0001), and lasted for a median of 1.35 years, persisting during follow up in all patients except in those who relapsed. In prognostic terms, the presence of oligoclonality resulted in a significantly longer progression-free and overall survival. Patients with oligoclonal humoral response lasting for more than one year after transplantation had a significantly longer clinical progression-free and overall survival than those with shorter duration (P=0.008 and P=0.0001, respectively), likely reflecting the importance of a robust humoral immune response.'</li><li>'Allogeneic hematopoietic cell transplantation for plasma cell myeloma can lead to graft-vs-myeloma immunity and long-term survivorship, but limited efficacy and associated toxicities have prevented its widespread use. Cellular immunotherapies seek to induce more specific, reliable and potent antimyeloma immune responses with less treatment-related risk than is possible with allogeneic transplantation. Strategies under development include infusion of vaccine-primed and ex vivo expanded/costimulated autologous T cells after high-dose melphalan, genetic engineering of autologous T cells with receptors for myeloma-specific epitopes, administration of DC/plasma cell fusions and administration expanded marrow-infiltrating lymphocytes. In addition, novel immunomodulatory drugs such as inhibitors of the programmed death-1 T cell regulatory pathway may synergize with cellular immunotherapies.'</li></ol>\n"
      ],
      "text/latex": [
       "\\begin{enumerate*}\n",
       "\\item 'OBJECTIVE: We retrospectively investigated the efficacy and predictive factors for the treatment outcomes of bortezomib plus dexamethasone (BD) as second-line induction therapy prior to high-dose chemotherapy supported by autologous stem cell transplantation (HDT/ASCT) in multiple myeloma (MM) patients.METHODS: Sixty-six transplant eligible MM patients treated by the Kyoto Clinical Hematology Study Group between 2006 and 2011 were investigated. Conventional induction chemotherapy, including vincristine, doxorubicin and dexamethasone (VAD) and high-dose dexamethasone (HDD), was used as first-line induction therapy in all patients, seven (10.6\\%) of whom attained a very good partial response (VGPR). Of the 59 patients who did not attain VGPR with VAD or HDD, 33 were given BD as second-line induction therapy prior to HDT/ASCT.RESULTS: Patients not treated with BD induction showed an overall response rate (ORR, i.e., better than partial response) of 85.3\\% after induction therapy, while the ORR of patients treated with BD induction improved from 42.4\\% after conventional induction therapy to 84.8\\% after BD. The overall survival (OS) and progression-free survival (PFS) of patients not treated with BD induction were not significantly influenced by the response to induction therapy. Among the patients treated with BD, failure in attaining VGPR prior to ASCT was associated with a significantly shorter PFS and it also tended to show a shorter OS, while the disease stage and achievement of a complete response after HDT/ASCT had no impact on OS or PFS.CONCLUSION: The achievement of at least VGPR with second-line BD induction therapy is a prerequisite for attaining longer OS and PFS after HDT/ASCT.'\n",
       "\\item 'The combination of lenalidomide and dexamethasone (Len-Dex) is a commonly used initial therapy for newly diagnosed multiple myeloma (MM). Although the initial response rates and toxicity are well known, long-term outcome is not well described. We studied 286 consecutive patients with newly diagnosed MM initially treated with Len-Dex. The median (range) age at diagnosis was 63 (28-92) years, 166 (58\\%) patients ≤ 65 years and 175 (61\\%) male. The median estimated duration on Len-Dex was 5.3 months with overall response (≥ partial response) of 72\\%, including 26\\% with very good partial response or better. The median overall survival (OS) from the diagnosis was not reached (NR) and the estimated 5-year survival was 71\\%. The median time to first disease progression, irrespective of transplant status, was 30.2 months. Overall, 143 (50\\%) patients underwent stem cell transplant. The median OS was NR for patients ≤ 70 years and 5.8 years for the older patients (P=0.01). The 5-year OS estimate for patients in International Staging System stage 1, 2 and 3 were 82, 65, and 44\\% respectively. There were 21 new second malignancies after MM diagnosis (6.6\\%). The median survival exceeding 7 years reflects the efficacy of novel agents. The risk of second malignancies doesn\\textbackslash{}'t appear to be excessive in this population.'\n",
       "\\item 'OBJECTIVE: To evaluate the efficacy and prognostic factors of autologous hematopoietic stem cell transplantation (ASCT) in multiple myeloma (MM) patients.METHODS: Retrospective analysis was performed in 27 MM patients undergoing ASCT at our hospital from May 2004 to August 2011. After comparing with 28 patients achieving very good partial response (VGPR) or better outcome and not undergoing ASCT, the impact on the extent of response, progression-free survival (PFS) and overall survival (OS) as well as related prognostic factors of MM patients were analyzed.RESULTS: All patients successfully underwent hematopoietic reconstruction without transplantation-related mortality. The complete remission (CR) rate of ASCT group increased from 25.9\\% (7/27) at pre-ASCT to 70.4\\% (19/27) at post-ASCT (P \\&lt; 0.01). The estimated 5-year rate of progression-free survival was 56.2\\% (median not reached) in the ASCT group and 24.9\\% (median 29 months) in the non-ASCT group (P \\&lt; 0.05). The 5-year probability of overall survival was 52.2\\% (median not reached) in the ASCT group and 33.1\\% (median 60 months) in the non-ASCT group (P \\&gt; 0.05). Univariate analysis in ASCT group demonstrated that maintenance/consolidation therapy was associated with PFS (P = 0.010) and OS (P = 0.008).Patients on induction therapy containing bortezomib and early ASCT maintenance therapy all survived without disease progression until final follow-up (P = 0.010).CONCLUSIONS: ASCT can further increase the CR rate, prolong PFS and probably OS. The incorporation of novel agents into induction, consolidation and maintenance phases has optimized the anti-myeloma activity of ASCT and may be important for improved long-term outcomes.'\n",
       "\\item 'Hematopoietic stem cell transplantation (HSCT) is an established treatment for multiple myeloma (MM), a plasma cell malignancy. To identify an improved pretransplant conditioning regimen, we investigated the cytotoxicity of gemcitabine (Gem) and clofarabine (Clo) combinations toward MM cell lines and patient cell samples. A strong synergism of the two nucleoside analogs, when combined at their approximate IC10 concentrations, was observed. This synergism could be partly due to the observed Gem-mediated phosphorylation and activation of deoxycytidine kinase, resulting in enhanced phosphorylation of Gem and Clo. Their cytotoxicity correlated with a robust activation of the DNA damage response pathway. {[}Gem+Clo{]} decreased the mitochondrial membrane potential with a concomitant release of proapoptotic factors into the cytoplasm and nucleus and the activation of apoptosis. Exposure of MM cells to {[}Gem+Clo{]} also decreased the level of ribosomal RNA (rRNA), which might have resulted in nucleolar stress, as reported previously, and caused a p53-dependent cell death. A reduction by approximately 50\\% in the cytotoxicity of Gem and Clo was observed in the presence of pifithrin α, a p53 inhibitor. Furthermore, MM cell lines with mutant p53 exhibited greater resistance to Gem and Clo, supporting a role for the p53 protein in these cytotoxic responses. Our results provide a rationale for clinical trials incorporating {[}Gem+Clo{]} combinations as part of conditioning therapy for high-risk patients with MM undergoing HSCT.'\n",
       "\\item 'Multiple myeloma (MM) is an incurable neoplasm caused by proliferation of malignant plasma cells in the bone marrow (BM). MM is characterized frequently by a complete or partial deletion of chromosome 13q14, seen in more than 50\\% of patients at diagnosis. Within this deleted region the tripartite motif containing 13 (TRIM13, also termed RFP2) gene product has been proposed to be a tumour suppressor gene (TSG). Here, we show that low expression levels of TRIM13 in MM are associated with chromosome 13q deletion and poor clinical outcome. We present a functional analysis of TRIM13 using a loss-of-function approach, and demonstrate that TRIM13 downregulation decreases tumour cell survival as well as cell cycle progression and proliferation of MM cells. In addition, we provide evidence for the involvement of TRIM13 downregulation in inhibiting the NF kappa B pathway and the activity of the 20S proteasome. Although this data does not support a role of TRIM13 as a TSG, it substantiates important roles of TRIM13 in MM tumour survival and proliferation, underscoring its potential role as a novel target for therapeutic intervention.'\n",
       "\\item ''\n",
       "\\item 'We previously reported an increased risk of monoclonal gammopathy of undetermined significance (MGUS) in first-degree relatives of MGUS and multiple myeloma patients. Here, we examine whether primary cytogenetic categories of myeloma differ between patients with and without a family history of MGUS or myeloma. We studied 201 myeloma patients with available data on family history and molecular cytogenetic classification. Myeloma with trisomies was more common in probands who had an affected first-degree relative with MGUS or myeloma compared with those without a family history (46.9\\% vs. 33.5\\%, P = 0.125); however, the difference was not statistically significant. Additional studies on the cytogenetic types of myeloma associated with familial tendency are needed.'\n",
       "\\item 'High throughput DNA microarray has made it possible to outline genes whose expression in malignant plasma cells is associated with short overall survival of patients with Multiple Myeloma (MM). A further step is to elucidate the mechanisms encoded by these genes yielding to drug resistance and/or patients\\textbackslash{}' short survival. We focus here on the biological role of the DEP (for Disheveled, EGL-10, Pleckstrin) domain contained protein 1A (DEPDC1A), a poorly known protein encoded by DEPDC1A gene, whose high expression in malignant plasma cells is associated with short survival of patients. Using conditional lentiviral vector delivery of DEPDC1A shRNA, we report that DEPDC1A knockdown delayed the growth of human myeloma cell lines (HMCLs), with a block in G2 phase of the cell cycle, p53 phosphorylation and stabilization, and p21(Cip1) accumulation. DEPDC1A knockdown also resulted in increased expression of mature plasma cell markers, including CXCR4, IL6-R and CD38. Thus DEPDC1A could contribute to the plasmablast features of MMCs found in some patients with adverse prognosis, blocking the differentiation of malignant plasma cells and promoting cell cycle.'\n",
       "\\item 'The emergence of an oligoclonal humoral response, resulting in the appearance of a different serum M-protein to that observed at diagnosis is a well-recognized event after autologous stem cell transplantation in multiple myeloma in complete response, and it has been considered to be a benign phenomenon. The aim of the present study was to investigate the incidence, biological characteristics and prognostic value of the oligoclonal bands in patients with myeloma who underwent autologous transplantation at our institution in the last 18 years. We proceed with a retrospective systematic review of all serum and urine immunofixation studies performed in the 211 patients with multiple myeloma who underwent melphalan-based autologous transplantation. Oligoclonal bands were observed in 34\\% of the patients, with a significantly higher prevalence with the use of novel agents versus conventional chemotherapy in induction (63\\% vs. 22\\%; P=0.0001). The incidence of oligoclonal bands was most frequent in non-IgG isotype, particularly in light chain only myeloma. The oligoclonal phenomenon was almost exclusive to patients in complete remission compared to other degrees of response (87\\% vs. 13\\%; P=0.0001), and lasted for a median of 1.35 years, persisting during follow up in all patients except in those who relapsed. In prognostic terms, the presence of oligoclonality resulted in a significantly longer progression-free and overall survival. Patients with oligoclonal humoral response lasting for more than one year after transplantation had a significantly longer clinical progression-free and overall survival than those with shorter duration (P=0.008 and P=0.0001, respectively), likely reflecting the importance of a robust humoral immune response.'\n",
       "\\item 'Allogeneic hematopoietic cell transplantation for plasma cell myeloma can lead to graft-vs-myeloma immunity and long-term survivorship, but limited efficacy and associated toxicities have prevented its widespread use. Cellular immunotherapies seek to induce more specific, reliable and potent antimyeloma immune responses with less treatment-related risk than is possible with allogeneic transplantation. Strategies under development include infusion of vaccine-primed and ex vivo expanded/costimulated autologous T cells after high-dose melphalan, genetic engineering of autologous T cells with receptors for myeloma-specific epitopes, administration of DC/plasma cell fusions and administration expanded marrow-infiltrating lymphocytes. In addition, novel immunomodulatory drugs such as inhibitors of the programmed death-1 T cell regulatory pathway may synergize with cellular immunotherapies.'\n",
       "\\end{enumerate*}\n"
      ],
      "text/markdown": [
       "1. 'OBJECTIVE: We retrospectively investigated the efficacy and predictive factors for the treatment outcomes of bortezomib plus dexamethasone (BD) as second-line induction therapy prior to high-dose chemotherapy supported by autologous stem cell transplantation (HDT/ASCT) in multiple myeloma (MM) patients.METHODS: Sixty-six transplant eligible MM patients treated by the Kyoto Clinical Hematology Study Group between 2006 and 2011 were investigated. Conventional induction chemotherapy, including vincristine, doxorubicin and dexamethasone (VAD) and high-dose dexamethasone (HDD), was used as first-line induction therapy in all patients, seven (10.6%) of whom attained a very good partial response (VGPR). Of the 59 patients who did not attain VGPR with VAD or HDD, 33 were given BD as second-line induction therapy prior to HDT/ASCT.RESULTS: Patients not treated with BD induction showed an overall response rate (ORR, i.e., better than partial response) of 85.3% after induction therapy, while the ORR of patients treated with BD induction improved from 42.4% after conventional induction therapy to 84.8% after BD. The overall survival (OS) and progression-free survival (PFS) of patients not treated with BD induction were not significantly influenced by the response to induction therapy. Among the patients treated with BD, failure in attaining VGPR prior to ASCT was associated with a significantly shorter PFS and it also tended to show a shorter OS, while the disease stage and achievement of a complete response after HDT/ASCT had no impact on OS or PFS.CONCLUSION: The achievement of at least VGPR with second-line BD induction therapy is a prerequisite for attaining longer OS and PFS after HDT/ASCT.'\n",
       "2. 'The combination of lenalidomide and dexamethasone (Len-Dex) is a commonly used initial therapy for newly diagnosed multiple myeloma (MM). Although the initial response rates and toxicity are well known, long-term outcome is not well described. We studied 286 consecutive patients with newly diagnosed MM initially treated with Len-Dex. The median (range) age at diagnosis was 63 (28-92) years, 166 (58%) patients ≤ 65 years and 175 (61%) male. The median estimated duration on Len-Dex was 5.3 months with overall response (≥ partial response) of 72%, including 26% with very good partial response or better. The median overall survival (OS) from the diagnosis was not reached (NR) and the estimated 5-year survival was 71%. The median time to first disease progression, irrespective of transplant status, was 30.2 months. Overall, 143 (50%) patients underwent stem cell transplant. The median OS was NR for patients ≤ 70 years and 5.8 years for the older patients (P=0.01). The 5-year OS estimate for patients in International Staging System stage 1, 2 and 3 were 82, 65, and 44% respectively. There were 21 new second malignancies after MM diagnosis (6.6%). The median survival exceeding 7 years reflects the efficacy of novel agents. The risk of second malignancies doesn\\'t appear to be excessive in this population.'\n",
       "3. 'OBJECTIVE: To evaluate the efficacy and prognostic factors of autologous hematopoietic stem cell transplantation (ASCT) in multiple myeloma (MM) patients.METHODS: Retrospective analysis was performed in 27 MM patients undergoing ASCT at our hospital from May 2004 to August 2011. After comparing with 28 patients achieving very good partial response (VGPR) or better outcome and not undergoing ASCT, the impact on the extent of response, progression-free survival (PFS) and overall survival (OS) as well as related prognostic factors of MM patients were analyzed.RESULTS: All patients successfully underwent hematopoietic reconstruction without transplantation-related mortality. The complete remission (CR) rate of ASCT group increased from 25.9% (7/27) at pre-ASCT to 70.4% (19/27) at post-ASCT (P &amp;lt; 0.01). The estimated 5-year rate of progression-free survival was 56.2% (median not reached) in the ASCT group and 24.9% (median 29 months) in the non-ASCT group (P &amp;lt; 0.05). The 5-year probability of overall survival was 52.2% (median not reached) in the ASCT group and 33.1% (median 60 months) in the non-ASCT group (P &amp;gt; 0.05). Univariate analysis in ASCT group demonstrated that maintenance/consolidation therapy was associated with PFS (P = 0.010) and OS (P = 0.008).Patients on induction therapy containing bortezomib and early ASCT maintenance therapy all survived without disease progression until final follow-up (P = 0.010).CONCLUSIONS: ASCT can further increase the CR rate, prolong PFS and probably OS. The incorporation of novel agents into induction, consolidation and maintenance phases has optimized the anti-myeloma activity of ASCT and may be important for improved long-term outcomes.'\n",
       "4. 'Hematopoietic stem cell transplantation (HSCT) is an established treatment for multiple myeloma (MM), a plasma cell malignancy. To identify an improved pretransplant conditioning regimen, we investigated the cytotoxicity of gemcitabine (Gem) and clofarabine (Clo) combinations toward MM cell lines and patient cell samples. A strong synergism of the two nucleoside analogs, when combined at their approximate IC10 concentrations, was observed. This synergism could be partly due to the observed Gem-mediated phosphorylation and activation of deoxycytidine kinase, resulting in enhanced phosphorylation of Gem and Clo. Their cytotoxicity correlated with a robust activation of the DNA damage response pathway. [Gem+Clo] decreased the mitochondrial membrane potential with a concomitant release of proapoptotic factors into the cytoplasm and nucleus and the activation of apoptosis. Exposure of MM cells to [Gem+Clo] also decreased the level of ribosomal RNA (rRNA), which might have resulted in nucleolar stress, as reported previously, and caused a p53-dependent cell death. A reduction by approximately 50% in the cytotoxicity of Gem and Clo was observed in the presence of pifithrin α, a p53 inhibitor. Furthermore, MM cell lines with mutant p53 exhibited greater resistance to Gem and Clo, supporting a role for the p53 protein in these cytotoxic responses. Our results provide a rationale for clinical trials incorporating [Gem+Clo] combinations as part of conditioning therapy for high-risk patients with MM undergoing HSCT.'\n",
       "5. 'Multiple myeloma (MM) is an incurable neoplasm caused by proliferation of malignant plasma cells in the bone marrow (BM). MM is characterized frequently by a complete or partial deletion of chromosome 13q14, seen in more than 50% of patients at diagnosis. Within this deleted region the tripartite motif containing 13 (TRIM13, also termed RFP2) gene product has been proposed to be a tumour suppressor gene (TSG). Here, we show that low expression levels of TRIM13 in MM are associated with chromosome 13q deletion and poor clinical outcome. We present a functional analysis of TRIM13 using a loss-of-function approach, and demonstrate that TRIM13 downregulation decreases tumour cell survival as well as cell cycle progression and proliferation of MM cells. In addition, we provide evidence for the involvement of TRIM13 downregulation in inhibiting the NF kappa B pathway and the activity of the 20S proteasome. Although this data does not support a role of TRIM13 as a TSG, it substantiates important roles of TRIM13 in MM tumour survival and proliferation, underscoring its potential role as a novel target for therapeutic intervention.'\n",
       "6. ''\n",
       "7. 'We previously reported an increased risk of monoclonal gammopathy of undetermined significance (MGUS) in first-degree relatives of MGUS and multiple myeloma patients. Here, we examine whether primary cytogenetic categories of myeloma differ between patients with and without a family history of MGUS or myeloma. We studied 201 myeloma patients with available data on family history and molecular cytogenetic classification. Myeloma with trisomies was more common in probands who had an affected first-degree relative with MGUS or myeloma compared with those without a family history (46.9% vs. 33.5%, P = 0.125); however, the difference was not statistically significant. Additional studies on the cytogenetic types of myeloma associated with familial tendency are needed.'\n",
       "8. 'High throughput DNA microarray has made it possible to outline genes whose expression in malignant plasma cells is associated with short overall survival of patients with Multiple Myeloma (MM). A further step is to elucidate the mechanisms encoded by these genes yielding to drug resistance and/or patients\\' short survival. We focus here on the biological role of the DEP (for Disheveled, EGL-10, Pleckstrin) domain contained protein 1A (DEPDC1A), a poorly known protein encoded by DEPDC1A gene, whose high expression in malignant plasma cells is associated with short survival of patients. Using conditional lentiviral vector delivery of DEPDC1A shRNA, we report that DEPDC1A knockdown delayed the growth of human myeloma cell lines (HMCLs), with a block in G2 phase of the cell cycle, p53 phosphorylation and stabilization, and p21(Cip1) accumulation. DEPDC1A knockdown also resulted in increased expression of mature plasma cell markers, including CXCR4, IL6-R and CD38. Thus DEPDC1A could contribute to the plasmablast features of MMCs found in some patients with adverse prognosis, blocking the differentiation of malignant plasma cells and promoting cell cycle.'\n",
       "9. 'The emergence of an oligoclonal humoral response, resulting in the appearance of a different serum M-protein to that observed at diagnosis is a well-recognized event after autologous stem cell transplantation in multiple myeloma in complete response, and it has been considered to be a benign phenomenon. The aim of the present study was to investigate the incidence, biological characteristics and prognostic value of the oligoclonal bands in patients with myeloma who underwent autologous transplantation at our institution in the last 18 years. We proceed with a retrospective systematic review of all serum and urine immunofixation studies performed in the 211 patients with multiple myeloma who underwent melphalan-based autologous transplantation. Oligoclonal bands were observed in 34% of the patients, with a significantly higher prevalence with the use of novel agents versus conventional chemotherapy in induction (63% vs. 22%; P=0.0001). The incidence of oligoclonal bands was most frequent in non-IgG isotype, particularly in light chain only myeloma. The oligoclonal phenomenon was almost exclusive to patients in complete remission compared to other degrees of response (87% vs. 13%; P=0.0001), and lasted for a median of 1.35 years, persisting during follow up in all patients except in those who relapsed. In prognostic terms, the presence of oligoclonality resulted in a significantly longer progression-free and overall survival. Patients with oligoclonal humoral response lasting for more than one year after transplantation had a significantly longer clinical progression-free and overall survival than those with shorter duration (P=0.008 and P=0.0001, respectively), likely reflecting the importance of a robust humoral immune response.'\n",
       "10. 'Allogeneic hematopoietic cell transplantation for plasma cell myeloma can lead to graft-vs-myeloma immunity and long-term survivorship, but limited efficacy and associated toxicities have prevented its widespread use. Cellular immunotherapies seek to induce more specific, reliable and potent antimyeloma immune responses with less treatment-related risk than is possible with allogeneic transplantation. Strategies under development include infusion of vaccine-primed and ex vivo expanded/costimulated autologous T cells after high-dose melphalan, genetic engineering of autologous T cells with receptors for myeloma-specific epitopes, administration of DC/plasma cell fusions and administration expanded marrow-infiltrating lymphocytes. In addition, novel immunomodulatory drugs such as inhibitors of the programmed death-1 T cell regulatory pathway may synergize with cellular immunotherapies.'\n",
       "\n",
       "\n"
      ],
      "text/plain": [
       " [1] \"OBJECTIVE: We retrospectively investigated the efficacy and predictive factors for the treatment outcomes of bortezomib plus dexamethasone (BD) as second-line induction therapy prior to high-dose chemotherapy supported by autologous stem cell transplantation (HDT/ASCT) in multiple myeloma (MM) patients.METHODS: Sixty-six transplant eligible MM patients treated by the Kyoto Clinical Hematology Study Group between 2006 and 2011 were investigated. Conventional induction chemotherapy, including vincristine, doxorubicin and dexamethasone (VAD) and high-dose dexamethasone (HDD), was used as first-line induction therapy in all patients, seven (10.6%) of whom attained a very good partial response (VGPR). Of the 59 patients who did not attain VGPR with VAD or HDD, 33 were given BD as second-line induction therapy prior to HDT/ASCT.RESULTS: Patients not treated with BD induction showed an overall response rate (ORR, i.e., better than partial response) of 85.3% after induction therapy, while the ORR of patients treated with BD induction improved from 42.4% after conventional induction therapy to 84.8% after BD. The overall survival (OS) and progression-free survival (PFS) of patients not treated with BD induction were not significantly influenced by the response to induction therapy. Among the patients treated with BD, failure in attaining VGPR prior to ASCT was associated with a significantly shorter PFS and it also tended to show a shorter OS, while the disease stage and achievement of a complete response after HDT/ASCT had no impact on OS or PFS.CONCLUSION: The achievement of at least VGPR with second-line BD induction therapy is a prerequisite for attaining longer OS and PFS after HDT/ASCT.\"                                              \n",
       " [2] \"The combination of lenalidomide and dexamethasone (Len-Dex) is a commonly used initial therapy for newly diagnosed multiple myeloma (MM). Although the initial response rates and toxicity are well known, long-term outcome is not well described. We studied 286 consecutive patients with newly diagnosed MM initially treated with Len-Dex. The median (range) age at diagnosis was 63 (28-92) years, 166 (58%) patients ≤ 65 years and 175 (61%) male. The median estimated duration on Len-Dex was 5.3 months with overall response (≥ partial response) of 72%, including 26% with very good partial response or better. The median overall survival (OS) from the diagnosis was not reached (NR) and the estimated 5-year survival was 71%. The median time to first disease progression, irrespective of transplant status, was 30.2 months. Overall, 143 (50%) patients underwent stem cell transplant. The median OS was NR for patients ≤ 70 years and 5.8 years for the older patients (P=0.01). The 5-year OS estimate for patients in International Staging System stage 1, 2 and 3 were 82, 65, and 44% respectively. There were 21 new second malignancies after MM diagnosis (6.6%). The median survival exceeding 7 years reflects the efficacy of novel agents. The risk of second malignancies doesn't appear to be excessive in this population.\"                                                                                                                                                                                                                                                                                                                                                                                                                                                     \n",
       " [3] \"OBJECTIVE: To evaluate the efficacy and prognostic factors of autologous hematopoietic stem cell transplantation (ASCT) in multiple myeloma (MM) patients.METHODS: Retrospective analysis was performed in 27 MM patients undergoing ASCT at our hospital from May 2004 to August 2011. After comparing with 28 patients achieving very good partial response (VGPR) or better outcome and not undergoing ASCT, the impact on the extent of response, progression-free survival (PFS) and overall survival (OS) as well as related prognostic factors of MM patients were analyzed.RESULTS: All patients successfully underwent hematopoietic reconstruction without transplantation-related mortality. The complete remission (CR) rate of ASCT group increased from 25.9% (7/27) at pre-ASCT to 70.4% (19/27) at post-ASCT (P &lt; 0.01). The estimated 5-year rate of progression-free survival was 56.2% (median not reached) in the ASCT group and 24.9% (median 29 months) in the non-ASCT group (P &lt; 0.05). The 5-year probability of overall survival was 52.2% (median not reached) in the ASCT group and 33.1% (median 60 months) in the non-ASCT group (P &gt; 0.05). Univariate analysis in ASCT group demonstrated that maintenance/consolidation therapy was associated with PFS (P = 0.010) and OS (P = 0.008).Patients on induction therapy containing bortezomib and early ASCT maintenance therapy all survived without disease progression until final follow-up (P = 0.010).CONCLUSIONS: ASCT can further increase the CR rate, prolong PFS and probably OS. The incorporation of novel agents into induction, consolidation and maintenance phases has optimized the anti-myeloma activity of ASCT and may be important for improved long-term outcomes.\"                                              \n",
       " [4] \"Hematopoietic stem cell transplantation (HSCT) is an established treatment for multiple myeloma (MM), a plasma cell malignancy. To identify an improved pretransplant conditioning regimen, we investigated the cytotoxicity of gemcitabine (Gem) and clofarabine (Clo) combinations toward MM cell lines and patient cell samples. A strong synergism of the two nucleoside analogs, when combined at their approximate IC10 concentrations, was observed. This synergism could be partly due to the observed Gem-mediated phosphorylation and activation of deoxycytidine kinase, resulting in enhanced phosphorylation of Gem and Clo. Their cytotoxicity correlated with a robust activation of the DNA damage response pathway. [Gem+Clo] decreased the mitochondrial membrane potential with a concomitant release of proapoptotic factors into the cytoplasm and nucleus and the activation of apoptosis. Exposure of MM cells to [Gem+Clo] also decreased the level of ribosomal RNA (rRNA), which might have resulted in nucleolar stress, as reported previously, and caused a p53-dependent cell death. A reduction by approximately 50% in the cytotoxicity of Gem and Clo was observed in the presence of pifithrin α, a p53 inhibitor. Furthermore, MM cell lines with mutant p53 exhibited greater resistance to Gem and Clo, supporting a role for the p53 protein in these cytotoxic responses. Our results provide a rationale for clinical trials incorporating [Gem+Clo] combinations as part of conditioning therapy for high-risk patients with MM undergoing HSCT.\"                                                                                                                                                                                                                                    \n",
       " [5] \"Multiple myeloma (MM) is an incurable neoplasm caused by proliferation of malignant plasma cells in the bone marrow (BM). MM is characterized frequently by a complete or partial deletion of chromosome 13q14, seen in more than 50% of patients at diagnosis. Within this deleted region the tripartite motif containing 13 (TRIM13, also termed RFP2) gene product has been proposed to be a tumour suppressor gene (TSG). Here, we show that low expression levels of TRIM13 in MM are associated with chromosome 13q deletion and poor clinical outcome. We present a functional analysis of TRIM13 using a loss-of-function approach, and demonstrate that TRIM13 downregulation decreases tumour cell survival as well as cell cycle progression and proliferation of MM cells. In addition, we provide evidence for the involvement of TRIM13 downregulation in inhibiting the NF kappa B pathway and the activity of the 20S proteasome. Although this data does not support a role of TRIM13 as a TSG, it substantiates important roles of TRIM13 in MM tumour survival and proliferation, underscoring its potential role as a novel target for therapeutic intervention.\"                                                                                                                                                                                                                                                                                                                                                                                                                                                                                                                                                                                                                                          \n",
       " [6] \"\"                                                                                                                                                                                                                                                                                                                                                                                                                                                                                                                                                                                                                                                                                                                                                                                                                                                                                                                                                                                                                                                                                                                                                                                                                                                                                                                                                                                                                                                                                                                                                                                                                                                                                                                                                                                                                              \n",
       " [7] \"We previously reported an increased risk of monoclonal gammopathy of undetermined significance (MGUS) in first-degree relatives of MGUS and multiple myeloma patients. Here, we examine whether primary cytogenetic categories of myeloma differ between patients with and without a family history of MGUS or myeloma. We studied 201 myeloma patients with available data on family history and molecular cytogenetic classification. Myeloma with trisomies was more common in probands who had an affected first-degree relative with MGUS or myeloma compared with those without a family history (46.9% vs. 33.5%, P = 0.125); however, the difference was not statistically significant. Additional studies on the cytogenetic types of myeloma associated with familial tendency are needed.\"                                                                                                                                                                                                                                                                                                                                                                                                                                                                                                                                                                                                                                                                                                                                                                                                                                                                                                                                                                                                                          \n",
       " [8] \"High throughput DNA microarray has made it possible to outline genes whose expression in malignant plasma cells is associated with short overall survival of patients with Multiple Myeloma (MM). A further step is to elucidate the mechanisms encoded by these genes yielding to drug resistance and/or patients' short survival. We focus here on the biological role of the DEP (for Disheveled, EGL-10, Pleckstrin) domain contained protein 1A (DEPDC1A), a poorly known protein encoded by DEPDC1A gene, whose high expression in malignant plasma cells is associated with short survival of patients. Using conditional lentiviral vector delivery of DEPDC1A shRNA, we report that DEPDC1A knockdown delayed the growth of human myeloma cell lines (HMCLs), with a block in G2 phase of the cell cycle, p53 phosphorylation and stabilization, and p21(Cip1) accumulation. DEPDC1A knockdown also resulted in increased expression of mature plasma cell markers, including CXCR4, IL6-R and CD38. Thus DEPDC1A could contribute to the plasmablast features of MMCs found in some patients with adverse prognosis, blocking the differentiation of malignant plasma cells and promoting cell cycle.\"                                                                                                                                                                                                                                                                                                                                                                                                                                                                                                                                                                                                               \n",
       " [9] \"The emergence of an oligoclonal humoral response, resulting in the appearance of a different serum M-protein to that observed at diagnosis is a well-recognized event after autologous stem cell transplantation in multiple myeloma in complete response, and it has been considered to be a benign phenomenon. The aim of the present study was to investigate the incidence, biological characteristics and prognostic value of the oligoclonal bands in patients with myeloma who underwent autologous transplantation at our institution in the last 18 years. We proceed with a retrospective systematic review of all serum and urine immunofixation studies performed in the 211 patients with multiple myeloma who underwent melphalan-based autologous transplantation. Oligoclonal bands were observed in 34% of the patients, with a significantly higher prevalence with the use of novel agents versus conventional chemotherapy in induction (63% vs. 22%; P=0.0001). The incidence of oligoclonal bands was most frequent in non-IgG isotype, particularly in light chain only myeloma. The oligoclonal phenomenon was almost exclusive to patients in complete remission compared to other degrees of response (87% vs. 13%; P=0.0001), and lasted for a median of 1.35 years, persisting during follow up in all patients except in those who relapsed. In prognostic terms, the presence of oligoclonality resulted in a significantly longer progression-free and overall survival. Patients with oligoclonal humoral response lasting for more than one year after transplantation had a significantly longer clinical progression-free and overall survival than those with shorter duration (P=0.008 and P=0.0001, respectively), likely reflecting the importance of a robust humoral immune response.\"\n",
       "[10] \"Allogeneic hematopoietic cell transplantation for plasma cell myeloma can lead to graft-vs-myeloma immunity and long-term survivorship, but limited efficacy and associated toxicities have prevented its widespread use. Cellular immunotherapies seek to induce more specific, reliable and potent antimyeloma immune responses with less treatment-related risk than is possible with allogeneic transplantation. Strategies under development include infusion of vaccine-primed and ex vivo expanded/costimulated autologous T cells after high-dose melphalan, genetic engineering of autologous T cells with receptors for myeloma-specific epitopes, administration of DC/plasma cell fusions and administration expanded marrow-infiltrating lymphocytes. In addition, novel immunomodulatory drugs such as inhibitors of the programmed death-1 T cell regulatory pathway may synergize with cellular immunotherapies.\"                                                                                                                                                                                                                                                                                                                                                                                                                                                                                                                                                                                                                                                                                                                                                                                                                                                                                              "
      ]
     },
     "metadata": {},
     "output_type": "display_data"
    },
    {
     "data": {
      "text/html": [
       "<ol>\n",
       "\t<li><table>\n",
       "<caption>A data.frame: 22 × 4</caption>\n",
       "<thead>\n",
       "\t<tr><th scope=col>LastName</th><th scope=col>ForeName</th><th scope=col>Initials</th><th scope=col>order</th></tr>\n",
       "\t<tr><th scope=col>&lt;chr&gt;</th><th scope=col>&lt;chr&gt;</th><th scope=col>&lt;chr&gt;</th><th scope=col>&lt;int&gt;</th></tr>\n",
       "</thead>\n",
       "<tbody>\n",
       "\t<tr><td>Kobayashi  </td><td>Tsutomu   </td><td>T</td><td> 1</td></tr>\n",
       "\t<tr><td>Kuroda     </td><td>Junya     </td><td>J</td><td> 2</td></tr>\n",
       "\t<tr><td>Fuchida    </td><td>Shin-ichi </td><td>S</td><td> 3</td></tr>\n",
       "\t<tr><td>Murakami   </td><td>Satoshi   </td><td>S</td><td> 4</td></tr>\n",
       "\t<tr><td>Hatsuse    </td><td>Mayumi    </td><td>M</td><td> 5</td></tr>\n",
       "\t<tr><td>Okano      </td><td>Akira     </td><td>A</td><td> 6</td></tr>\n",
       "\t<tr><td>Iwai       </td><td>Toshiki   </td><td>T</td><td> 7</td></tr>\n",
       "\t<tr><td>Tsutsumi   </td><td>Yasuhiko  </td><td>Y</td><td> 8</td></tr>\n",
       "\t<tr><td>Kamitsuji  </td><td>Yuri      </td><td>Y</td><td> 9</td></tr>\n",
       "\t<tr><td>Akaogi     </td><td>Teruaki   </td><td>T</td><td>10</td></tr>\n",
       "\t<tr><td>Kawata-Iida</td><td>Eri       </td><td>E</td><td>11</td></tr>\n",
       "\t<tr><td>Shimizu    </td><td>Daisuke   </td><td>D</td><td>12</td></tr>\n",
       "\t<tr><td>Uchiyama   </td><td>Hitoji    </td><td>H</td><td>13</td></tr>\n",
       "\t<tr><td>Matsumoto  </td><td>Yosuke    </td><td>Y</td><td>14</td></tr>\n",
       "\t<tr><td>Horiike    </td><td>Shigeo    </td><td>S</td><td>15</td></tr>\n",
       "\t<tr><td>Nakao      </td><td>Mitsushige</td><td>M</td><td>16</td></tr>\n",
       "\t<tr><td>Takahashi  </td><td>Ryoichi   </td><td>R</td><td>17</td></tr>\n",
       "\t<tr><td>Kaneko     </td><td>Hiroto    </td><td>H</td><td>18</td></tr>\n",
       "\t<tr><td>Uoshima    </td><td>Nobuhiko  </td><td>N</td><td>19</td></tr>\n",
       "\t<tr><td>Kobayashi  </td><td>Yutaka    </td><td>Y</td><td>20</td></tr>\n",
       "\t<tr><td>Shimazaki  </td><td>Chihiro   </td><td>C</td><td>21</td></tr>\n",
       "\t<tr><td>Taniwaki   </td><td>Masafumi  </td><td>M</td><td>22</td></tr>\n",
       "</tbody>\n",
       "</table>\n",
       "</li>\n",
       "\t<li><table>\n",
       "<caption>A data.frame: 15 × 4</caption>\n",
       "<thead>\n",
       "\t<tr><th scope=col>LastName</th><th scope=col>ForeName</th><th scope=col>Initials</th><th scope=col>order</th></tr>\n",
       "\t<tr><th scope=col>&lt;chr&gt;</th><th scope=col>&lt;chr&gt;</th><th scope=col>&lt;chr&gt;</th><th scope=col>&lt;int&gt;</th></tr>\n",
       "</thead>\n",
       "<tbody>\n",
       "\t<tr><td>Srivastava </td><td>G  </td><td>G </td><td> 1</td></tr>\n",
       "\t<tr><td>Rana       </td><td>V  </td><td>V </td><td> 2</td></tr>\n",
       "\t<tr><td>Lacy       </td><td>M Q</td><td>MQ</td><td> 3</td></tr>\n",
       "\t<tr><td>Buadi      </td><td>F K</td><td>FK</td><td> 4</td></tr>\n",
       "\t<tr><td>Hayman     </td><td>S R</td><td>SR</td><td> 5</td></tr>\n",
       "\t<tr><td>Dispenzieri</td><td>A  </td><td>A </td><td> 6</td></tr>\n",
       "\t<tr><td>Gertz      </td><td>M A</td><td>MA</td><td> 7</td></tr>\n",
       "\t<tr><td>Dingli     </td><td>D  </td><td>D </td><td> 8</td></tr>\n",
       "\t<tr><td>Zeldenrust </td><td>S  </td><td>S </td><td> 9</td></tr>\n",
       "\t<tr><td>Russell    </td><td>S  </td><td>S </td><td>10</td></tr>\n",
       "\t<tr><td>McCurdy    </td><td>A  </td><td>A </td><td>11</td></tr>\n",
       "\t<tr><td>Kapoor     </td><td>P  </td><td>P </td><td>12</td></tr>\n",
       "\t<tr><td>Kyle       </td><td>R  </td><td>R </td><td>13</td></tr>\n",
       "\t<tr><td>Rajkumar   </td><td>S V</td><td>SV</td><td>14</td></tr>\n",
       "\t<tr><td>Kumar      </td><td>S  </td><td>S </td><td>15</td></tr>\n",
       "</tbody>\n",
       "</table>\n",
       "</li>\n",
       "\t<li><table>\n",
       "<caption>A data.frame: 17 × 4</caption>\n",
       "<thead>\n",
       "\t<tr><th scope=col>LastName</th><th scope=col>ForeName</th><th scope=col>Initials</th><th scope=col>order</th></tr>\n",
       "\t<tr><th scope=col>&lt;chr&gt;</th><th scope=col>&lt;chr&gt;</th><th scope=col>&lt;chr&gt;</th><th scope=col>&lt;int&gt;</th></tr>\n",
       "</thead>\n",
       "<tbody>\n",
       "\t<tr><td>Wang </td><td>Juan       </td><td>J </td><td> 1</td></tr>\n",
       "\t<tr><td>Fu   </td><td>Cheng-cheng</td><td>CC</td><td> 2</td></tr>\n",
       "\t<tr><td>Wu   </td><td>De-Pei     </td><td>DP</td><td> 3</td></tr>\n",
       "\t<tr><td>Sun  </td><td>Ai-Ning    </td><td>AN</td><td> 4</td></tr>\n",
       "\t<tr><td>Xue  </td><td>Sheng-li   </td><td>SL</td><td> 5</td></tr>\n",
       "\t<tr><td>Xin  </td><td>Xue        </td><td>X </td><td> 6</td></tr>\n",
       "\t<tr><td>Hu   </td><td>Xiao-hui   </td><td>XH</td><td> 7</td></tr>\n",
       "\t<tr><td>Wang </td><td>Ying       </td><td>Y </td><td> 8</td></tr>\n",
       "\t<tr><td>Qiu  </td><td>Hui-Ying   </td><td>HY</td><td> 9</td></tr>\n",
       "\t<tr><td>Jin  </td><td>Zheng-ming </td><td>ZM</td><td>10</td></tr>\n",
       "\t<tr><td>Miao </td><td>Miao       </td><td>M </td><td>11</td></tr>\n",
       "\t<tr><td>Tang </td><td>Xiao-wen   </td><td>XW</td><td>12</td></tr>\n",
       "\t<tr><td>Han  </td><td>Yue        </td><td>Y </td><td>13</td></tr>\n",
       "\t<tr><td>Ma   </td><td>Xiao       </td><td>X </td><td>14</td></tr>\n",
       "\t<tr><td>He   </td><td>Guang-sheng</td><td>GS</td><td>15</td></tr>\n",
       "\t<tr><td>Chang</td><td>Wei-rong   </td><td>WR</td><td>16</td></tr>\n",
       "\t<tr><td>Chen </td><td>Su-ning    </td><td>SN</td><td>17</td></tr>\n",
       "</tbody>\n",
       "</table>\n",
       "</li>\n",
       "\t<li><table>\n",
       "<caption>A data.frame: 12 × 4</caption>\n",
       "<thead>\n",
       "\t<tr><th scope=col>LastName</th><th scope=col>ForeName</th><th scope=col>Initials</th><th scope=col>order</th></tr>\n",
       "\t<tr><th scope=col>&lt;chr&gt;</th><th scope=col>&lt;chr&gt;</th><th scope=col>&lt;chr&gt;</th><th scope=col>&lt;int&gt;</th></tr>\n",
       "</thead>\n",
       "<tbody>\n",
       "\t<tr><td>Valdez   </td><td>Benigno C </td><td>BC</td><td> 1</td></tr>\n",
       "\t<tr><td>Wang     </td><td>Guiyun    </td><td>G </td><td> 2</td></tr>\n",
       "\t<tr><td>Murray   </td><td>David     </td><td>D </td><td> 3</td></tr>\n",
       "\t<tr><td>Nieto    </td><td>Yago      </td><td>Y </td><td> 4</td></tr>\n",
       "\t<tr><td>Li       </td><td>Yang      </td><td>Y </td><td> 5</td></tr>\n",
       "\t<tr><td>Shah     </td><td>Jatin     </td><td>J </td><td> 6</td></tr>\n",
       "\t<tr><td>Turturro </td><td>Francesco </td><td>F </td><td> 7</td></tr>\n",
       "\t<tr><td>Wang     </td><td>Michael   </td><td>M </td><td> 8</td></tr>\n",
       "\t<tr><td>Weber    </td><td>Donna M   </td><td>DM</td><td> 9</td></tr>\n",
       "\t<tr><td>Champlin </td><td>Richard E </td><td>RE</td><td>10</td></tr>\n",
       "\t<tr><td>Qazilbash</td><td>Muzaffar H</td><td>MH</td><td>11</td></tr>\n",
       "\t<tr><td>Andersson</td><td>Borje S   </td><td>BS</td><td>12</td></tr>\n",
       "</tbody>\n",
       "</table>\n",
       "</li>\n",
       "\t<li><table>\n",
       "<caption>A data.frame: 15 × 4</caption>\n",
       "<thead>\n",
       "\t<tr><th scope=col>LastName</th><th scope=col>ForeName</th><th scope=col>Initials</th><th scope=col>order</th></tr>\n",
       "\t<tr><th scope=col>&lt;chr&gt;</th><th scope=col>&lt;chr&gt;</th><th scope=col>&lt;chr&gt;</th><th scope=col>&lt;int&gt;</th></tr>\n",
       "</thead>\n",
       "<tbody>\n",
       "\t<tr><td>Gatt       </td><td>Moshe E  </td><td>ME</td><td> 1</td></tr>\n",
       "\t<tr><td>Takada     </td><td>Kohichi  </td><td>K </td><td> 2</td></tr>\n",
       "\t<tr><td>Mani       </td><td>Mala     </td><td>M </td><td> 3</td></tr>\n",
       "\t<tr><td>Lerner     </td><td>Mikael   </td><td>M </td><td> 4</td></tr>\n",
       "\t<tr><td>Pick       </td><td>Marjorie </td><td>M </td><td> 5</td></tr>\n",
       "\t<tr><td>Hideshima  </td><td>Teru     </td><td>T </td><td> 6</td></tr>\n",
       "\t<tr><td>Carrasco   </td><td>Daniel E </td><td>DE</td><td> 7</td></tr>\n",
       "\t<tr><td>Protopopov </td><td>Alexei   </td><td>A </td><td> 8</td></tr>\n",
       "\t<tr><td>Ivanova    </td><td>Elena    </td><td>E </td><td> 9</td></tr>\n",
       "\t<tr><td>Sangfelt   </td><td>Olle     </td><td>O </td><td>10</td></tr>\n",
       "\t<tr><td>Grandér   </td><td>Dan      </td><td>D </td><td>11</td></tr>\n",
       "\t<tr><td>Barlogie   </td><td>Bart     </td><td>B </td><td>12</td></tr>\n",
       "\t<tr><td>Shaughnessy</td><td>John D   </td><td>JD</td><td>13</td></tr>\n",
       "\t<tr><td>Anderson   </td><td>Kenneth C</td><td>KC</td><td>14</td></tr>\n",
       "\t<tr><td>Carrasco   </td><td>Daniel R </td><td>DR</td><td>15</td></tr>\n",
       "</tbody>\n",
       "</table>\n",
       "</li>\n",
       "\t<li><table>\n",
       "<caption>A data.frame: 2 × 4</caption>\n",
       "<thead>\n",
       "\t<tr><th scope=col>LastName</th><th scope=col>ForeName</th><th scope=col>Initials</th><th scope=col>order</th></tr>\n",
       "\t<tr><th scope=col>&lt;chr&gt;</th><th scope=col>&lt;chr&gt;</th><th scope=col>&lt;chr&gt;</th><th scope=col>&lt;int&gt;</th></tr>\n",
       "</thead>\n",
       "<tbody>\n",
       "\t<tr><td>Minnema  </td><td>Monique C</td><td>MC</td><td>1</td></tr>\n",
       "\t<tr><td>de Keizer</td><td>Bart     </td><td>B </td><td>2</td></tr>\n",
       "</tbody>\n",
       "</table>\n",
       "</li>\n",
       "\t<li><table>\n",
       "<caption>A data.frame: 10 × 4</caption>\n",
       "<thead>\n",
       "\t<tr><th scope=col>LastName</th><th scope=col>ForeName</th><th scope=col>Initials</th><th scope=col>order</th></tr>\n",
       "\t<tr><th scope=col>&lt;chr&gt;</th><th scope=col>&lt;chr&gt;</th><th scope=col>&lt;chr&gt;</th><th scope=col>&lt;int&gt;</th></tr>\n",
       "</thead>\n",
       "<tbody>\n",
       "\t<tr><td>Greenberg </td><td>Alexandra J</td><td>AJ</td><td> 1</td></tr>\n",
       "\t<tr><td>Cousin    </td><td>Margot     </td><td>M </td><td> 2</td></tr>\n",
       "\t<tr><td>Kumar     </td><td>Shaji      </td><td>S </td><td> 3</td></tr>\n",
       "\t<tr><td>Ketterling</td><td>Rhett P    </td><td>RP</td><td> 4</td></tr>\n",
       "\t<tr><td>Knudson   </td><td>Ryan A     </td><td>RA</td><td> 5</td></tr>\n",
       "\t<tr><td>Larson    </td><td>Dirk       </td><td>D </td><td> 6</td></tr>\n",
       "\t<tr><td>Colby     </td><td>Colin      </td><td>C </td><td> 7</td></tr>\n",
       "\t<tr><td>Scott     </td><td>Christopher</td><td>C </td><td> 8</td></tr>\n",
       "\t<tr><td>Vachon    </td><td>Celine M   </td><td>CM</td><td> 9</td></tr>\n",
       "\t<tr><td>Rajkumar  </td><td>S Vincent  </td><td>SV</td><td>10</td></tr>\n",
       "</tbody>\n",
       "</table>\n",
       "</li>\n",
       "\t<li><table>\n",
       "<caption>A data.frame: 8 × 4</caption>\n",
       "<thead>\n",
       "\t<tr><th scope=col>LastName</th><th scope=col>ForeName</th><th scope=col>Initials</th><th scope=col>order</th></tr>\n",
       "\t<tr><th scope=col>&lt;chr&gt;</th><th scope=col>&lt;chr&gt;</th><th scope=col>&lt;chr&gt;</th><th scope=col>&lt;int&gt;</th></tr>\n",
       "</thead>\n",
       "<tbody>\n",
       "\t<tr><td>Kassambara </td><td>Alboukadel</td><td>A </td><td>1</td></tr>\n",
       "\t<tr><td>Schoenhals </td><td>Matthieu  </td><td>M </td><td>2</td></tr>\n",
       "\t<tr><td>Moreaux    </td><td>Jérôme   </td><td>J </td><td>3</td></tr>\n",
       "\t<tr><td>Veyrune    </td><td>Jean-Luc  </td><td>JL</td><td>4</td></tr>\n",
       "\t<tr><td>Rème      </td><td>Thierry   </td><td>T </td><td>5</td></tr>\n",
       "\t<tr><td>Goldschmidt</td><td>Hartmut   </td><td>H </td><td>6</td></tr>\n",
       "\t<tr><td>Hose       </td><td>Dirk      </td><td>D </td><td>7</td></tr>\n",
       "\t<tr><td>Klein      </td><td>Bernard   </td><td>B </td><td>8</td></tr>\n",
       "</tbody>\n",
       "</table>\n",
       "</li>\n",
       "\t<li><table>\n",
       "<caption>A data.frame: 10 × 4</caption>\n",
       "<thead>\n",
       "\t<tr><th scope=col>LastName</th><th scope=col>ForeName</th><th scope=col>Initials</th><th scope=col>order</th></tr>\n",
       "\t<tr><th scope=col>&lt;chr&gt;</th><th scope=col>&lt;chr&gt;</th><th scope=col>&lt;chr&gt;</th><th scope=col>&lt;int&gt;</th></tr>\n",
       "</thead>\n",
       "<tbody>\n",
       "\t<tr><td>Tovar     </td><td>Natalia          </td><td>N </td><td> 1</td></tr>\n",
       "\t<tr><td>de Larrea </td><td>Carlos Fernández</td><td>CF</td><td> 2</td></tr>\n",
       "\t<tr><td>Aróstegui</td><td>Juan I           </td><td>JI</td><td> 3</td></tr>\n",
       "\t<tr><td>Cibeira   </td><td>Maria Teresa     </td><td>MT</td><td> 4</td></tr>\n",
       "\t<tr><td>Rosiñol   </td><td>Laura            </td><td>L </td><td> 5</td></tr>\n",
       "\t<tr><td>Rovira    </td><td>Montserrat       </td><td>M </td><td> 6</td></tr>\n",
       "\t<tr><td>Elena     </td><td>Montserrat       </td><td>M </td><td> 7</td></tr>\n",
       "\t<tr><td>Filella   </td><td>Xavier           </td><td>X </td><td> 8</td></tr>\n",
       "\t<tr><td>Yagüe    </td><td>Jordi            </td><td>J </td><td> 9</td></tr>\n",
       "\t<tr><td>Bladé    </td><td>Joan             </td><td>J </td><td>10</td></tr>\n",
       "</tbody>\n",
       "</table>\n",
       "</li>\n",
       "\t<li><table>\n",
       "<caption>A data.frame: 4 × 4</caption>\n",
       "<thead>\n",
       "\t<tr><th scope=col>LastName</th><th scope=col>ForeName</th><th scope=col>Initials</th><th scope=col>order</th></tr>\n",
       "\t<tr><th scope=col>&lt;chr&gt;</th><th scope=col>&lt;chr&gt;</th><th scope=col>&lt;chr&gt;</th><th scope=col>&lt;int&gt;</th></tr>\n",
       "</thead>\n",
       "<tbody>\n",
       "\t<tr><td>Garfall   </td><td>A L</td><td>AL</td><td>1</td></tr>\n",
       "\t<tr><td>Vogl      </td><td>D T</td><td>DT</td><td>2</td></tr>\n",
       "\t<tr><td>Weiss     </td><td>B M</td><td>BM</td><td>3</td></tr>\n",
       "\t<tr><td>Stadtmauer</td><td>E A</td><td>EA</td><td>4</td></tr>\n",
       "</tbody>\n",
       "</table>\n",
       "</li>\n",
       "</ol>\n"
      ],
      "text/latex": [
       "\\begin{enumerate}\n",
       "\\item A data.frame: 22 × 4\n",
       "\\begin{tabular}{llll}\n",
       " LastName & ForeName & Initials & order\\\\\n",
       " <chr> & <chr> & <chr> & <int>\\\\\n",
       "\\hline\n",
       "\t Kobayashi   & Tsutomu    & T &  1\\\\\n",
       "\t Kuroda      & Junya      & J &  2\\\\\n",
       "\t Fuchida     & Shin-ichi  & S &  3\\\\\n",
       "\t Murakami    & Satoshi    & S &  4\\\\\n",
       "\t Hatsuse     & Mayumi     & M &  5\\\\\n",
       "\t Okano       & Akira      & A &  6\\\\\n",
       "\t Iwai        & Toshiki    & T &  7\\\\\n",
       "\t Tsutsumi    & Yasuhiko   & Y &  8\\\\\n",
       "\t Kamitsuji   & Yuri       & Y &  9\\\\\n",
       "\t Akaogi      & Teruaki    & T & 10\\\\\n",
       "\t Kawata-Iida & Eri        & E & 11\\\\\n",
       "\t Shimizu     & Daisuke    & D & 12\\\\\n",
       "\t Uchiyama    & Hitoji     & H & 13\\\\\n",
       "\t Matsumoto   & Yosuke     & Y & 14\\\\\n",
       "\t Horiike     & Shigeo     & S & 15\\\\\n",
       "\t Nakao       & Mitsushige & M & 16\\\\\n",
       "\t Takahashi   & Ryoichi    & R & 17\\\\\n",
       "\t Kaneko      & Hiroto     & H & 18\\\\\n",
       "\t Uoshima     & Nobuhiko   & N & 19\\\\\n",
       "\t Kobayashi   & Yutaka     & Y & 20\\\\\n",
       "\t Shimazaki   & Chihiro    & C & 21\\\\\n",
       "\t Taniwaki    & Masafumi   & M & 22\\\\\n",
       "\\end{tabular}\n",
       "\n",
       "\\item A data.frame: 15 × 4\n",
       "\\begin{tabular}{llll}\n",
       " LastName & ForeName & Initials & order\\\\\n",
       " <chr> & <chr> & <chr> & <int>\\\\\n",
       "\\hline\n",
       "\t Srivastava  & G   & G  &  1\\\\\n",
       "\t Rana        & V   & V  &  2\\\\\n",
       "\t Lacy        & M Q & MQ &  3\\\\\n",
       "\t Buadi       & F K & FK &  4\\\\\n",
       "\t Hayman      & S R & SR &  5\\\\\n",
       "\t Dispenzieri & A   & A  &  6\\\\\n",
       "\t Gertz       & M A & MA &  7\\\\\n",
       "\t Dingli      & D   & D  &  8\\\\\n",
       "\t Zeldenrust  & S   & S  &  9\\\\\n",
       "\t Russell     & S   & S  & 10\\\\\n",
       "\t McCurdy     & A   & A  & 11\\\\\n",
       "\t Kapoor      & P   & P  & 12\\\\\n",
       "\t Kyle        & R   & R  & 13\\\\\n",
       "\t Rajkumar    & S V & SV & 14\\\\\n",
       "\t Kumar       & S   & S  & 15\\\\\n",
       "\\end{tabular}\n",
       "\n",
       "\\item A data.frame: 17 × 4\n",
       "\\begin{tabular}{llll}\n",
       " LastName & ForeName & Initials & order\\\\\n",
       " <chr> & <chr> & <chr> & <int>\\\\\n",
       "\\hline\n",
       "\t Wang  & Juan        & J  &  1\\\\\n",
       "\t Fu    & Cheng-cheng & CC &  2\\\\\n",
       "\t Wu    & De-Pei      & DP &  3\\\\\n",
       "\t Sun   & Ai-Ning     & AN &  4\\\\\n",
       "\t Xue   & Sheng-li    & SL &  5\\\\\n",
       "\t Xin   & Xue         & X  &  6\\\\\n",
       "\t Hu    & Xiao-hui    & XH &  7\\\\\n",
       "\t Wang  & Ying        & Y  &  8\\\\\n",
       "\t Qiu   & Hui-Ying    & HY &  9\\\\\n",
       "\t Jin   & Zheng-ming  & ZM & 10\\\\\n",
       "\t Miao  & Miao        & M  & 11\\\\\n",
       "\t Tang  & Xiao-wen    & XW & 12\\\\\n",
       "\t Han   & Yue         & Y  & 13\\\\\n",
       "\t Ma    & Xiao        & X  & 14\\\\\n",
       "\t He    & Guang-sheng & GS & 15\\\\\n",
       "\t Chang & Wei-rong    & WR & 16\\\\\n",
       "\t Chen  & Su-ning     & SN & 17\\\\\n",
       "\\end{tabular}\n",
       "\n",
       "\\item A data.frame: 12 × 4\n",
       "\\begin{tabular}{llll}\n",
       " LastName & ForeName & Initials & order\\\\\n",
       " <chr> & <chr> & <chr> & <int>\\\\\n",
       "\\hline\n",
       "\t Valdez    & Benigno C  & BC &  1\\\\\n",
       "\t Wang      & Guiyun     & G  &  2\\\\\n",
       "\t Murray    & David      & D  &  3\\\\\n",
       "\t Nieto     & Yago       & Y  &  4\\\\\n",
       "\t Li        & Yang       & Y  &  5\\\\\n",
       "\t Shah      & Jatin      & J  &  6\\\\\n",
       "\t Turturro  & Francesco  & F  &  7\\\\\n",
       "\t Wang      & Michael    & M  &  8\\\\\n",
       "\t Weber     & Donna M    & DM &  9\\\\\n",
       "\t Champlin  & Richard E  & RE & 10\\\\\n",
       "\t Qazilbash & Muzaffar H & MH & 11\\\\\n",
       "\t Andersson & Borje S    & BS & 12\\\\\n",
       "\\end{tabular}\n",
       "\n",
       "\\item A data.frame: 15 × 4\n",
       "\\begin{tabular}{llll}\n",
       " LastName & ForeName & Initials & order\\\\\n",
       " <chr> & <chr> & <chr> & <int>\\\\\n",
       "\\hline\n",
       "\t Gatt        & Moshe E   & ME &  1\\\\\n",
       "\t Takada      & Kohichi   & K  &  2\\\\\n",
       "\t Mani        & Mala      & M  &  3\\\\\n",
       "\t Lerner      & Mikael    & M  &  4\\\\\n",
       "\t Pick        & Marjorie  & M  &  5\\\\\n",
       "\t Hideshima   & Teru      & T  &  6\\\\\n",
       "\t Carrasco    & Daniel E  & DE &  7\\\\\n",
       "\t Protopopov  & Alexei    & A  &  8\\\\\n",
       "\t Ivanova     & Elena     & E  &  9\\\\\n",
       "\t Sangfelt    & Olle      & O  & 10\\\\\n",
       "\t Grandér    & Dan       & D  & 11\\\\\n",
       "\t Barlogie    & Bart      & B  & 12\\\\\n",
       "\t Shaughnessy & John D    & JD & 13\\\\\n",
       "\t Anderson    & Kenneth C & KC & 14\\\\\n",
       "\t Carrasco    & Daniel R  & DR & 15\\\\\n",
       "\\end{tabular}\n",
       "\n",
       "\\item A data.frame: 2 × 4\n",
       "\\begin{tabular}{llll}\n",
       " LastName & ForeName & Initials & order\\\\\n",
       " <chr> & <chr> & <chr> & <int>\\\\\n",
       "\\hline\n",
       "\t Minnema   & Monique C & MC & 1\\\\\n",
       "\t de Keizer & Bart      & B  & 2\\\\\n",
       "\\end{tabular}\n",
       "\n",
       "\\item A data.frame: 10 × 4\n",
       "\\begin{tabular}{llll}\n",
       " LastName & ForeName & Initials & order\\\\\n",
       " <chr> & <chr> & <chr> & <int>\\\\\n",
       "\\hline\n",
       "\t Greenberg  & Alexandra J & AJ &  1\\\\\n",
       "\t Cousin     & Margot      & M  &  2\\\\\n",
       "\t Kumar      & Shaji       & S  &  3\\\\\n",
       "\t Ketterling & Rhett P     & RP &  4\\\\\n",
       "\t Knudson    & Ryan A      & RA &  5\\\\\n",
       "\t Larson     & Dirk        & D  &  6\\\\\n",
       "\t Colby      & Colin       & C  &  7\\\\\n",
       "\t Scott      & Christopher & C  &  8\\\\\n",
       "\t Vachon     & Celine M    & CM &  9\\\\\n",
       "\t Rajkumar   & S Vincent   & SV & 10\\\\\n",
       "\\end{tabular}\n",
       "\n",
       "\\item A data.frame: 8 × 4\n",
       "\\begin{tabular}{llll}\n",
       " LastName & ForeName & Initials & order\\\\\n",
       " <chr> & <chr> & <chr> & <int>\\\\\n",
       "\\hline\n",
       "\t Kassambara  & Alboukadel & A  & 1\\\\\n",
       "\t Schoenhals  & Matthieu   & M  & 2\\\\\n",
       "\t Moreaux     & Jérôme    & J  & 3\\\\\n",
       "\t Veyrune     & Jean-Luc   & JL & 4\\\\\n",
       "\t Rème       & Thierry    & T  & 5\\\\\n",
       "\t Goldschmidt & Hartmut    & H  & 6\\\\\n",
       "\t Hose        & Dirk       & D  & 7\\\\\n",
       "\t Klein       & Bernard    & B  & 8\\\\\n",
       "\\end{tabular}\n",
       "\n",
       "\\item A data.frame: 10 × 4\n",
       "\\begin{tabular}{llll}\n",
       " LastName & ForeName & Initials & order\\\\\n",
       " <chr> & <chr> & <chr> & <int>\\\\\n",
       "\\hline\n",
       "\t Tovar      & Natalia           & N  &  1\\\\\n",
       "\t de Larrea  & Carlos Fernández & CF &  2\\\\\n",
       "\t Aróstegui & Juan I            & JI &  3\\\\\n",
       "\t Cibeira    & Maria Teresa      & MT &  4\\\\\n",
       "\t Rosiñol    & Laura             & L  &  5\\\\\n",
       "\t Rovira     & Montserrat        & M  &  6\\\\\n",
       "\t Elena      & Montserrat        & M  &  7\\\\\n",
       "\t Filella    & Xavier            & X  &  8\\\\\n",
       "\t Yagüe     & Jordi             & J  &  9\\\\\n",
       "\t Bladé     & Joan              & J  & 10\\\\\n",
       "\\end{tabular}\n",
       "\n",
       "\\item A data.frame: 4 × 4\n",
       "\\begin{tabular}{llll}\n",
       " LastName & ForeName & Initials & order\\\\\n",
       " <chr> & <chr> & <chr> & <int>\\\\\n",
       "\\hline\n",
       "\t Garfall    & A L & AL & 1\\\\\n",
       "\t Vogl       & D T & DT & 2\\\\\n",
       "\t Weiss      & B M & BM & 3\\\\\n",
       "\t Stadtmauer & E A & EA & 4\\\\\n",
       "\\end{tabular}\n",
       "\n",
       "\\end{enumerate}\n"
      ],
      "text/markdown": [
       "1. \n",
       "A data.frame: 22 × 4\n",
       "\n",
       "| LastName &lt;chr&gt; | ForeName &lt;chr&gt; | Initials &lt;chr&gt; | order &lt;int&gt; |\n",
       "|---|---|---|---|\n",
       "| Kobayashi   | Tsutomu    | T |  1 |\n",
       "| Kuroda      | Junya      | J |  2 |\n",
       "| Fuchida     | Shin-ichi  | S |  3 |\n",
       "| Murakami    | Satoshi    | S |  4 |\n",
       "| Hatsuse     | Mayumi     | M |  5 |\n",
       "| Okano       | Akira      | A |  6 |\n",
       "| Iwai        | Toshiki    | T |  7 |\n",
       "| Tsutsumi    | Yasuhiko   | Y |  8 |\n",
       "| Kamitsuji   | Yuri       | Y |  9 |\n",
       "| Akaogi      | Teruaki    | T | 10 |\n",
       "| Kawata-Iida | Eri        | E | 11 |\n",
       "| Shimizu     | Daisuke    | D | 12 |\n",
       "| Uchiyama    | Hitoji     | H | 13 |\n",
       "| Matsumoto   | Yosuke     | Y | 14 |\n",
       "| Horiike     | Shigeo     | S | 15 |\n",
       "| Nakao       | Mitsushige | M | 16 |\n",
       "| Takahashi   | Ryoichi    | R | 17 |\n",
       "| Kaneko      | Hiroto     | H | 18 |\n",
       "| Uoshima     | Nobuhiko   | N | 19 |\n",
       "| Kobayashi   | Yutaka     | Y | 20 |\n",
       "| Shimazaki   | Chihiro    | C | 21 |\n",
       "| Taniwaki    | Masafumi   | M | 22 |\n",
       "\n",
       "\n",
       "2. \n",
       "A data.frame: 15 × 4\n",
       "\n",
       "| LastName &lt;chr&gt; | ForeName &lt;chr&gt; | Initials &lt;chr&gt; | order &lt;int&gt; |\n",
       "|---|---|---|---|\n",
       "| Srivastava  | G   | G  |  1 |\n",
       "| Rana        | V   | V  |  2 |\n",
       "| Lacy        | M Q | MQ |  3 |\n",
       "| Buadi       | F K | FK |  4 |\n",
       "| Hayman      | S R | SR |  5 |\n",
       "| Dispenzieri | A   | A  |  6 |\n",
       "| Gertz       | M A | MA |  7 |\n",
       "| Dingli      | D   | D  |  8 |\n",
       "| Zeldenrust  | S   | S  |  9 |\n",
       "| Russell     | S   | S  | 10 |\n",
       "| McCurdy     | A   | A  | 11 |\n",
       "| Kapoor      | P   | P  | 12 |\n",
       "| Kyle        | R   | R  | 13 |\n",
       "| Rajkumar    | S V | SV | 14 |\n",
       "| Kumar       | S   | S  | 15 |\n",
       "\n",
       "\n",
       "3. \n",
       "A data.frame: 17 × 4\n",
       "\n",
       "| LastName &lt;chr&gt; | ForeName &lt;chr&gt; | Initials &lt;chr&gt; | order &lt;int&gt; |\n",
       "|---|---|---|---|\n",
       "| Wang  | Juan        | J  |  1 |\n",
       "| Fu    | Cheng-cheng | CC |  2 |\n",
       "| Wu    | De-Pei      | DP |  3 |\n",
       "| Sun   | Ai-Ning     | AN |  4 |\n",
       "| Xue   | Sheng-li    | SL |  5 |\n",
       "| Xin   | Xue         | X  |  6 |\n",
       "| Hu    | Xiao-hui    | XH |  7 |\n",
       "| Wang  | Ying        | Y  |  8 |\n",
       "| Qiu   | Hui-Ying    | HY |  9 |\n",
       "| Jin   | Zheng-ming  | ZM | 10 |\n",
       "| Miao  | Miao        | M  | 11 |\n",
       "| Tang  | Xiao-wen    | XW | 12 |\n",
       "| Han   | Yue         | Y  | 13 |\n",
       "| Ma    | Xiao        | X  | 14 |\n",
       "| He    | Guang-sheng | GS | 15 |\n",
       "| Chang | Wei-rong    | WR | 16 |\n",
       "| Chen  | Su-ning     | SN | 17 |\n",
       "\n",
       "\n",
       "4. \n",
       "A data.frame: 12 × 4\n",
       "\n",
       "| LastName &lt;chr&gt; | ForeName &lt;chr&gt; | Initials &lt;chr&gt; | order &lt;int&gt; |\n",
       "|---|---|---|---|\n",
       "| Valdez    | Benigno C  | BC |  1 |\n",
       "| Wang      | Guiyun     | G  |  2 |\n",
       "| Murray    | David      | D  |  3 |\n",
       "| Nieto     | Yago       | Y  |  4 |\n",
       "| Li        | Yang       | Y  |  5 |\n",
       "| Shah      | Jatin      | J  |  6 |\n",
       "| Turturro  | Francesco  | F  |  7 |\n",
       "| Wang      | Michael    | M  |  8 |\n",
       "| Weber     | Donna M    | DM |  9 |\n",
       "| Champlin  | Richard E  | RE | 10 |\n",
       "| Qazilbash | Muzaffar H | MH | 11 |\n",
       "| Andersson | Borje S    | BS | 12 |\n",
       "\n",
       "\n",
       "5. \n",
       "A data.frame: 15 × 4\n",
       "\n",
       "| LastName &lt;chr&gt; | ForeName &lt;chr&gt; | Initials &lt;chr&gt; | order &lt;int&gt; |\n",
       "|---|---|---|---|\n",
       "| Gatt        | Moshe E   | ME |  1 |\n",
       "| Takada      | Kohichi   | K  |  2 |\n",
       "| Mani        | Mala      | M  |  3 |\n",
       "| Lerner      | Mikael    | M  |  4 |\n",
       "| Pick        | Marjorie  | M  |  5 |\n",
       "| Hideshima   | Teru      | T  |  6 |\n",
       "| Carrasco    | Daniel E  | DE |  7 |\n",
       "| Protopopov  | Alexei    | A  |  8 |\n",
       "| Ivanova     | Elena     | E  |  9 |\n",
       "| Sangfelt    | Olle      | O  | 10 |\n",
       "| Grandér    | Dan       | D  | 11 |\n",
       "| Barlogie    | Bart      | B  | 12 |\n",
       "| Shaughnessy | John D    | JD | 13 |\n",
       "| Anderson    | Kenneth C | KC | 14 |\n",
       "| Carrasco    | Daniel R  | DR | 15 |\n",
       "\n",
       "\n",
       "6. \n",
       "A data.frame: 2 × 4\n",
       "\n",
       "| LastName &lt;chr&gt; | ForeName &lt;chr&gt; | Initials &lt;chr&gt; | order &lt;int&gt; |\n",
       "|---|---|---|---|\n",
       "| Minnema   | Monique C | MC | 1 |\n",
       "| de Keizer | Bart      | B  | 2 |\n",
       "\n",
       "\n",
       "7. \n",
       "A data.frame: 10 × 4\n",
       "\n",
       "| LastName &lt;chr&gt; | ForeName &lt;chr&gt; | Initials &lt;chr&gt; | order &lt;int&gt; |\n",
       "|---|---|---|---|\n",
       "| Greenberg  | Alexandra J | AJ |  1 |\n",
       "| Cousin     | Margot      | M  |  2 |\n",
       "| Kumar      | Shaji       | S  |  3 |\n",
       "| Ketterling | Rhett P     | RP |  4 |\n",
       "| Knudson    | Ryan A      | RA |  5 |\n",
       "| Larson     | Dirk        | D  |  6 |\n",
       "| Colby      | Colin       | C  |  7 |\n",
       "| Scott      | Christopher | C  |  8 |\n",
       "| Vachon     | Celine M    | CM |  9 |\n",
       "| Rajkumar   | S Vincent   | SV | 10 |\n",
       "\n",
       "\n",
       "8. \n",
       "A data.frame: 8 × 4\n",
       "\n",
       "| LastName &lt;chr&gt; | ForeName &lt;chr&gt; | Initials &lt;chr&gt; | order &lt;int&gt; |\n",
       "|---|---|---|---|\n",
       "| Kassambara  | Alboukadel | A  | 1 |\n",
       "| Schoenhals  | Matthieu   | M  | 2 |\n",
       "| Moreaux     | Jérôme    | J  | 3 |\n",
       "| Veyrune     | Jean-Luc   | JL | 4 |\n",
       "| Rème       | Thierry    | T  | 5 |\n",
       "| Goldschmidt | Hartmut    | H  | 6 |\n",
       "| Hose        | Dirk       | D  | 7 |\n",
       "| Klein       | Bernard    | B  | 8 |\n",
       "\n",
       "\n",
       "9. \n",
       "A data.frame: 10 × 4\n",
       "\n",
       "| LastName &lt;chr&gt; | ForeName &lt;chr&gt; | Initials &lt;chr&gt; | order &lt;int&gt; |\n",
       "|---|---|---|---|\n",
       "| Tovar      | Natalia           | N  |  1 |\n",
       "| de Larrea  | Carlos Fernández | CF |  2 |\n",
       "| Aróstegui | Juan I            | JI |  3 |\n",
       "| Cibeira    | Maria Teresa      | MT |  4 |\n",
       "| Rosiñol    | Laura             | L  |  5 |\n",
       "| Rovira     | Montserrat        | M  |  6 |\n",
       "| Elena      | Montserrat        | M  |  7 |\n",
       "| Filella    | Xavier            | X  |  8 |\n",
       "| Yagüe     | Jordi             | J  |  9 |\n",
       "| Bladé     | Joan              | J  | 10 |\n",
       "\n",
       "\n",
       "10. \n",
       "A data.frame: 4 × 4\n",
       "\n",
       "| LastName &lt;chr&gt; | ForeName &lt;chr&gt; | Initials &lt;chr&gt; | order &lt;int&gt; |\n",
       "|---|---|---|---|\n",
       "| Garfall    | A L | AL | 1 |\n",
       "| Vogl       | D T | DT | 2 |\n",
       "| Weiss      | B M | BM | 3 |\n",
       "| Stadtmauer | E A | EA | 4 |\n",
       "\n",
       "\n",
       "\n",
       "\n"
      ],
      "text/plain": [
       "[[1]]\n",
       "      LastName   ForeName Initials order\n",
       "1    Kobayashi    Tsutomu        T     1\n",
       "2       Kuroda      Junya        J     2\n",
       "3      Fuchida  Shin-ichi        S     3\n",
       "4     Murakami    Satoshi        S     4\n",
       "5      Hatsuse     Mayumi        M     5\n",
       "6        Okano      Akira        A     6\n",
       "7         Iwai    Toshiki        T     7\n",
       "8     Tsutsumi   Yasuhiko        Y     8\n",
       "9    Kamitsuji       Yuri        Y     9\n",
       "10      Akaogi    Teruaki        T    10\n",
       "11 Kawata-Iida        Eri        E    11\n",
       "12     Shimizu    Daisuke        D    12\n",
       "13    Uchiyama     Hitoji        H    13\n",
       "14   Matsumoto     Yosuke        Y    14\n",
       "15     Horiike     Shigeo        S    15\n",
       "16       Nakao Mitsushige        M    16\n",
       "17   Takahashi    Ryoichi        R    17\n",
       "18      Kaneko     Hiroto        H    18\n",
       "19     Uoshima   Nobuhiko        N    19\n",
       "20   Kobayashi     Yutaka        Y    20\n",
       "21   Shimazaki    Chihiro        C    21\n",
       "22    Taniwaki   Masafumi        M    22\n",
       "\n",
       "[[2]]\n",
       "      LastName ForeName Initials order\n",
       "1   Srivastava        G        G     1\n",
       "2         Rana        V        V     2\n",
       "3         Lacy      M Q       MQ     3\n",
       "4        Buadi      F K       FK     4\n",
       "5       Hayman      S R       SR     5\n",
       "6  Dispenzieri        A        A     6\n",
       "7        Gertz      M A       MA     7\n",
       "8       Dingli        D        D     8\n",
       "9   Zeldenrust        S        S     9\n",
       "10     Russell        S        S    10\n",
       "11     McCurdy        A        A    11\n",
       "12      Kapoor        P        P    12\n",
       "13        Kyle        R        R    13\n",
       "14    Rajkumar      S V       SV    14\n",
       "15       Kumar        S        S    15\n",
       "\n",
       "[[3]]\n",
       "   LastName    ForeName Initials order\n",
       "1      Wang        Juan        J     1\n",
       "2        Fu Cheng-cheng       CC     2\n",
       "3        Wu      De-Pei       DP     3\n",
       "4       Sun     Ai-Ning       AN     4\n",
       "5       Xue    Sheng-li       SL     5\n",
       "6       Xin         Xue        X     6\n",
       "7        Hu    Xiao-hui       XH     7\n",
       "8      Wang        Ying        Y     8\n",
       "9       Qiu    Hui-Ying       HY     9\n",
       "10      Jin  Zheng-ming       ZM    10\n",
       "11     Miao        Miao        M    11\n",
       "12     Tang    Xiao-wen       XW    12\n",
       "13      Han         Yue        Y    13\n",
       "14       Ma        Xiao        X    14\n",
       "15       He Guang-sheng       GS    15\n",
       "16    Chang    Wei-rong       WR    16\n",
       "17     Chen     Su-ning       SN    17\n",
       "\n",
       "[[4]]\n",
       "    LastName   ForeName Initials order\n",
       "1     Valdez  Benigno C       BC     1\n",
       "2       Wang     Guiyun        G     2\n",
       "3     Murray      David        D     3\n",
       "4      Nieto       Yago        Y     4\n",
       "5         Li       Yang        Y     5\n",
       "6       Shah      Jatin        J     6\n",
       "7   Turturro  Francesco        F     7\n",
       "8       Wang    Michael        M     8\n",
       "9      Weber    Donna M       DM     9\n",
       "10  Champlin  Richard E       RE    10\n",
       "11 Qazilbash Muzaffar H       MH    11\n",
       "12 Andersson    Borje S       BS    12\n",
       "\n",
       "[[5]]\n",
       "      LastName  ForeName Initials order\n",
       "1         Gatt   Moshe E       ME     1\n",
       "2       Takada   Kohichi        K     2\n",
       "3         Mani      Mala        M     3\n",
       "4       Lerner    Mikael        M     4\n",
       "5         Pick  Marjorie        M     5\n",
       "6    Hideshima      Teru        T     6\n",
       "7     Carrasco  Daniel E       DE     7\n",
       "8   Protopopov    Alexei        A     8\n",
       "9      Ivanova     Elena        E     9\n",
       "10    Sangfelt      Olle        O    10\n",
       "11    Grandér       Dan        D    11\n",
       "12    Barlogie      Bart        B    12\n",
       "13 Shaughnessy    John D       JD    13\n",
       "14    Anderson Kenneth C       KC    14\n",
       "15    Carrasco  Daniel R       DR    15\n",
       "\n",
       "[[6]]\n",
       "   LastName  ForeName Initials order\n",
       "1   Minnema Monique C       MC     1\n",
       "2 de Keizer      Bart        B     2\n",
       "\n",
       "[[7]]\n",
       "     LastName    ForeName Initials order\n",
       "1   Greenberg Alexandra J       AJ     1\n",
       "2      Cousin      Margot        M     2\n",
       "3       Kumar       Shaji        S     3\n",
       "4  Ketterling     Rhett P       RP     4\n",
       "5     Knudson      Ryan A       RA     5\n",
       "6      Larson        Dirk        D     6\n",
       "7       Colby       Colin        C     7\n",
       "8       Scott Christopher        C     8\n",
       "9      Vachon    Celine M       CM     9\n",
       "10   Rajkumar   S Vincent       SV    10\n",
       "\n",
       "[[8]]\n",
       "     LastName   ForeName Initials order\n",
       "1  Kassambara Alboukadel        A     1\n",
       "2  Schoenhals   Matthieu        M     2\n",
       "3     Moreaux    Jérôme        J     3\n",
       "4     Veyrune   Jean-Luc       JL     4\n",
       "5       Rème    Thierry        T     5\n",
       "6 Goldschmidt    Hartmut        H     6\n",
       "7        Hose       Dirk        D     7\n",
       "8       Klein    Bernard        B     8\n",
       "\n",
       "[[9]]\n",
       "     LastName          ForeName Initials order\n",
       "1       Tovar           Natalia        N     1\n",
       "2   de Larrea Carlos Fernández       CF     2\n",
       "3  Aróstegui            Juan I       JI     3\n",
       "4     Cibeira      Maria Teresa       MT     4\n",
       "5     Rosiñol             Laura        L     5\n",
       "6      Rovira        Montserrat        M     6\n",
       "7       Elena        Montserrat        M     7\n",
       "8     Filella            Xavier        X     8\n",
       "9      Yagüe             Jordi        J     9\n",
       "10     Bladé              Joan        J    10\n",
       "\n",
       "[[10]]\n",
       "    LastName ForeName Initials order\n",
       "1    Garfall      A L       AL     1\n",
       "2       Vogl      D T       DT     2\n",
       "3      Weiss      B M       BM     3\n",
       "4 Stadtmauer      E A       EA     4\n"
      ]
     },
     "metadata": {},
     "output_type": "display_data"
    },
    {
     "data": {
      "text/html": [
       "<style>\n",
       ".list-inline {list-style: none; margin:0; padding: 0}\n",
       ".list-inline>li {display: inline-block}\n",
       ".list-inline>li:not(:last-child)::after {content: \"\\00b7\"; padding: 0 .5ex}\n",
       "</style>\n",
       "<ol class=list-inline><li>'The response to second-line induction with bortezomib and dexamethasone is predictive of long-term outcomes prior to high-dose chemotherapy with autologous stem cell transplantation for multiple myeloma.'</li><li>'Long-term outcome with lenalidomide and dexamethasone therapy for newly diagnosed multiple myeloma.'</li><li>'[Retrospective analysis on therapeutic effect of autologous hematopoietic stem cell transplantation in multiple myeloma patients].'</li><li>'Mechanistic studies on the synergistic cytotoxicity of the nucleoside analogs gemcitabine and clofarabine in multiple myeloma: relevance of p53 and its clinical implications.'</li><li>'TRIM13 (RFP2) downregulation decreases tumour cell growth in multiple myeloma through inhibition of NF Kappa B pathway and proteasome activity.'</li><li>'False-positive PET scan after bone marrow biopsy.'</li><li>'Differences in the distribution of cytogenetic subtypes between multiple myeloma patients with and without a family history of monoclonal gammopathy and multiple myeloma.'</li><li>'Inhibition of DEPDC1A, a bad prognostic marker in multiple myeloma, delays growth and induces mature plasma cell markers in malignant plasma cells.'</li><li>'Natural history and prognostic impact of oligoclonal humoral response in patients with multiple myeloma after autologous stem cell transplantation: long-term results from a single institution.'</li><li>'Cellular immunotherapy for plasma cell myeloma.'</li></ol>\n"
      ],
      "text/latex": [
       "\\begin{enumerate*}\n",
       "\\item 'The response to second-line induction with bortezomib and dexamethasone is predictive of long-term outcomes prior to high-dose chemotherapy with autologous stem cell transplantation for multiple myeloma.'\n",
       "\\item 'Long-term outcome with lenalidomide and dexamethasone therapy for newly diagnosed multiple myeloma.'\n",
       "\\item '{[}Retrospective analysis on therapeutic effect of autologous hematopoietic stem cell transplantation in multiple myeloma patients{]}.'\n",
       "\\item 'Mechanistic studies on the synergistic cytotoxicity of the nucleoside analogs gemcitabine and clofarabine in multiple myeloma: relevance of p53 and its clinical implications.'\n",
       "\\item 'TRIM13 (RFP2) downregulation decreases tumour cell growth in multiple myeloma through inhibition of NF Kappa B pathway and proteasome activity.'\n",
       "\\item 'False-positive PET scan after bone marrow biopsy.'\n",
       "\\item 'Differences in the distribution of cytogenetic subtypes between multiple myeloma patients with and without a family history of monoclonal gammopathy and multiple myeloma.'\n",
       "\\item 'Inhibition of DEPDC1A, a bad prognostic marker in multiple myeloma, delays growth and induces mature plasma cell markers in malignant plasma cells.'\n",
       "\\item 'Natural history and prognostic impact of oligoclonal humoral response in patients with multiple myeloma after autologous stem cell transplantation: long-term results from a single institution.'\n",
       "\\item 'Cellular immunotherapy for plasma cell myeloma.'\n",
       "\\end{enumerate*}\n"
      ],
      "text/markdown": [
       "1. 'The response to second-line induction with bortezomib and dexamethasone is predictive of long-term outcomes prior to high-dose chemotherapy with autologous stem cell transplantation for multiple myeloma.'\n",
       "2. 'Long-term outcome with lenalidomide and dexamethasone therapy for newly diagnosed multiple myeloma.'\n",
       "3. '[Retrospective analysis on therapeutic effect of autologous hematopoietic stem cell transplantation in multiple myeloma patients].'\n",
       "4. 'Mechanistic studies on the synergistic cytotoxicity of the nucleoside analogs gemcitabine and clofarabine in multiple myeloma: relevance of p53 and its clinical implications.'\n",
       "5. 'TRIM13 (RFP2) downregulation decreases tumour cell growth in multiple myeloma through inhibition of NF Kappa B pathway and proteasome activity.'\n",
       "6. 'False-positive PET scan after bone marrow biopsy.'\n",
       "7. 'Differences in the distribution of cytogenetic subtypes between multiple myeloma patients with and without a family history of monoclonal gammopathy and multiple myeloma.'\n",
       "8. 'Inhibition of DEPDC1A, a bad prognostic marker in multiple myeloma, delays growth and induces mature plasma cell markers in malignant plasma cells.'\n",
       "9. 'Natural history and prognostic impact of oligoclonal humoral response in patients with multiple myeloma after autologous stem cell transplantation: long-term results from a single institution.'\n",
       "10. 'Cellular immunotherapy for plasma cell myeloma.'\n",
       "\n",
       "\n"
      ],
      "text/plain": [
       " [1] \"The response to second-line induction with bortezomib and dexamethasone is predictive of long-term outcomes prior to high-dose chemotherapy with autologous stem cell transplantation for multiple myeloma.\"\n",
       " [2] \"Long-term outcome with lenalidomide and dexamethasone therapy for newly diagnosed multiple myeloma.\"                                                                                                        \n",
       " [3] \"[Retrospective analysis on therapeutic effect of autologous hematopoietic stem cell transplantation in multiple myeloma patients].\"                                                                         \n",
       " [4] \"Mechanistic studies on the synergistic cytotoxicity of the nucleoside analogs gemcitabine and clofarabine in multiple myeloma: relevance of p53 and its clinical implications.\"                             \n",
       " [5] \"TRIM13 (RFP2) downregulation decreases tumour cell growth in multiple myeloma through inhibition of NF Kappa B pathway and proteasome activity.\"                                                            \n",
       " [6] \"False-positive PET scan after bone marrow biopsy.\"                                                                                                                                                          \n",
       " [7] \"Differences in the distribution of cytogenetic subtypes between multiple myeloma patients with and without a family history of monoclonal gammopathy and multiple myeloma.\"                                 \n",
       " [8] \"Inhibition of DEPDC1A, a bad prognostic marker in multiple myeloma, delays growth and induces mature plasma cell markers in malignant plasma cells.\"                                                        \n",
       " [9] \"Natural history and prognostic impact of oligoclonal humoral response in patients with multiple myeloma after autologous stem cell transplantation: long-term results from a single institution.\"           \n",
       "[10] \"Cellular immunotherapy for plasma cell myeloma.\"                                                                                                                                                            "
      ]
     },
     "metadata": {},
     "output_type": "display_data"
    },
    {
     "data": {
      "text/html": [
       "<style>\n",
       ".list-inline {list-style: none; margin:0; padding: 0}\n",
       ".list-inline>li {display: inline-block}\n",
       ".list-inline>li:not(:last-child)::after {content: \"\\00b7\"; padding: 0 .5ex}\n",
       "</style>\n",
       "<ol class=list-inline><li>'Internal medicine (Tokyo, Japan)'</li><li>'Leukemia'</li><li>'Zhonghua yi xue za zhi'</li><li>'Experimental hematology'</li><li>'British journal of haematology'</li><li>'British journal of haematology'</li><li>'European journal of haematology'</li><li>'PloS one'</li><li>'Haematologica'</li><li>'Bone marrow transplantation'</li></ol>\n"
      ],
      "text/latex": [
       "\\begin{enumerate*}\n",
       "\\item 'Internal medicine (Tokyo, Japan)'\n",
       "\\item 'Leukemia'\n",
       "\\item 'Zhonghua yi xue za zhi'\n",
       "\\item 'Experimental hematology'\n",
       "\\item 'British journal of haematology'\n",
       "\\item 'British journal of haematology'\n",
       "\\item 'European journal of haematology'\n",
       "\\item 'PloS one'\n",
       "\\item 'Haematologica'\n",
       "\\item 'Bone marrow transplantation'\n",
       "\\end{enumerate*}\n"
      ],
      "text/markdown": [
       "1. 'Internal medicine (Tokyo, Japan)'\n",
       "2. 'Leukemia'\n",
       "3. 'Zhonghua yi xue za zhi'\n",
       "4. 'Experimental hematology'\n",
       "5. 'British journal of haematology'\n",
       "6. 'British journal of haematology'\n",
       "7. 'European journal of haematology'\n",
       "8. 'PloS one'\n",
       "9. 'Haematologica'\n",
       "10. 'Bone marrow transplantation'\n",
       "\n",
       "\n"
      ],
      "text/plain": [
       " [1] \"Internal medicine (Tokyo, Japan)\" \"Leukemia\"                        \n",
       " [3] \"Zhonghua yi xue za zhi\"           \"Experimental hematology\"         \n",
       " [5] \"British journal of haematology\"   \"British journal of haematology\"  \n",
       " [7] \"European journal of haematology\"  \"PloS one\"                        \n",
       " [9] \"Haematologica\"                    \"Bone marrow transplantation\"     "
      ]
     },
     "metadata": {},
     "output_type": "display_data"
    },
    {
     "data": {
      "text/html": [
       "<style>\n",
       ".list-inline {list-style: none; margin:0; padding: 0}\n",
       ".list-inline>li {display: inline-block}\n",
       ".list-inline>li:not(:last-child)::after {content: \"\\00b7\"; padding: 0 .5ex}\n",
       "</style>\n",
       "<ol class=list-inline><li>'23648714'</li><li>'23648667'</li><li>'23648347'</li><li>'23648290'</li><li>'23647456'</li><li>'23647318'</li><li>'23647020'</li><li>'23646139'</li><li>'23645688'</li><li>'23645169'</li></ol>\n"
      ],
      "text/latex": [
       "\\begin{enumerate*}\n",
       "\\item '23648714'\n",
       "\\item '23648667'\n",
       "\\item '23648347'\n",
       "\\item '23648290'\n",
       "\\item '23647456'\n",
       "\\item '23647318'\n",
       "\\item '23647020'\n",
       "\\item '23646139'\n",
       "\\item '23645688'\n",
       "\\item '23645169'\n",
       "\\end{enumerate*}\n"
      ],
      "text/markdown": [
       "1. '23648714'\n",
       "2. '23648667'\n",
       "3. '23648347'\n",
       "4. '23648290'\n",
       "5. '23647456'\n",
       "6. '23647318'\n",
       "7. '23647020'\n",
       "8. '23646139'\n",
       "9. '23645688'\n",
       "10. '23645169'\n",
       "\n",
       "\n"
      ],
      "text/plain": [
       " [1] \"23648714\" \"23648667\" \"23648347\" \"23648290\" \"23647456\" \"23647318\"\n",
       " [7] \"23647020\" \"23646139\" \"23645688\" \"23645169\""
      ]
     },
     "metadata": {},
     "output_type": "display_data"
    }
   ],
   "source": [
    "AbstractText(myeloma)\n",
    "Author(myeloma)\n",
    "ArticleTitle(myeloma)\n",
    "Title(myeloma)\n",
    "PMID(myeloma)"
   ]
  },
  {
   "cell_type": "markdown",
   "metadata": {},
   "source": [
    "（3）创建自定义查询"
   ]
  },
  {
   "cell_type": "code",
   "execution_count": 47,
   "metadata": {
    "collapsed": true
   },
   "outputs": [
    {
     "name": "stderr",
     "output_type": "stream",
     "text": [
      "Warning message in file(con, \"r\"):\n",
      "“cannot open URL 'https://eutils.ncbi.nlm.nih.gov/entrez/eutils/research.fcgi?db=pubmed&term=cancer[ti]&retmax=1000&tool=RISmed&email=s.a.kovalchik@gmail.com': HTTP status was '400 Bad Request'”\n"
     ]
    },
    {
     "ename": "ERROR",
     "evalue": "Error in file(con, \"r\"): cannot open the connection to 'https://eutils.ncbi.nlm.nih.gov/entrez/eutils/research.fcgi?db=pubmed&term=cancer[ti]&retmax=1000&tool=RISmed&email=s.a.kovalchik@gmail.com'\n",
     "output_type": "error",
     "traceback": [
      "Error in file(con, \"r\"): cannot open the connection to 'https://eutils.ncbi.nlm.nih.gov/entrez/eutils/research.fcgi?db=pubmed&term=cancer[ti]&retmax=1000&tool=RISmed&email=s.a.kovalchik@gmail.com'\nTraceback:\n",
      "1. EUtilsSummary(\"cancer[ti]\", type = \"research\", db = \"pubmed\")",
      "2. readLines(url, warn = FALSE, encoding = encoding)",
      "3. file(con, \"r\")"
     ]
    }
   ],
   "source": [
    "cancer <- EUtilsSummary(\"cancer[ti]\", type=\"research\", db=\"pubmed\")"
   ]
  },
  {
   "cell_type": "code",
   "execution_count": null,
   "metadata": {},
   "outputs": [],
   "source": [
    "class(cancer)"
   ]
  },
  {
   "cell_type": "markdown",
   "metadata": {},
   "source": [
    "---"
   ]
  },
  {
   "cell_type": "markdown",
   "metadata": {},
   "source": [
    "## 8.Retrieving data from BioMart  "
   ]
  },
  {
   "cell_type": "markdown",
   "metadata": {},
   "source": [
    "（1）加载biomaRt包 和 想要检索的数据"
   ]
  },
  {
   "cell_type": "code",
   "execution_count": 49,
   "metadata": {},
   "outputs": [],
   "source": [
    " library(biomaRt)"
   ]
  },
  {
   "cell_type": "markdown",
   "metadata": {},
   "source": [
    "(2)通过为查询定义正确的数据库来选择适当的mart进行检索。\n",
    "在这里，你将寻找人类的ensembl基因;因此，运行useMart函数"
   ]
  },
  {
   "cell_type": "code",
   "execution_count": 50,
   "metadata": {},
   "outputs": [],
   "source": [
    " mart <- useMart(biomart = \"ensembl\", dataset = \"hsapiens_gene_ensembl\")"
   ]
  },
  {
   "cell_type": "markdown",
   "metadata": {},
   "source": [
    "(3)你将从ensembl数据中得到基因列表"
   ]
  },
  {
   "cell_type": "code",
   "execution_count": 51,
   "metadata": {},
   "outputs": [],
   "source": [
    " my_results <- getBM(attributes = c(\"hgnc_symbol\"), mart = mart)"
   ]
  },
  {
   "cell_type": "markdown",
   "metadata": {},
   "source": [
    "(4)从检索到的基因中抽取一些基因样本，比如50个"
   ]
  },
  {
   "cell_type": "code",
   "execution_count": 52,
   "metadata": {},
   "outputs": [
    {
     "data": {
      "text/html": [
       "<style>\n",
       ".list-inline {list-style: none; margin:0; padding: 0}\n",
       ".list-inline>li {display: inline-block}\n",
       ".list-inline>li:not(:last-child)::after {content: \"\\00b7\"; padding: 0 .5ex}\n",
       "</style>\n",
       "<ol class=list-inline><li>'DEFB133'</li><li>'KRTAP4-9'</li><li>'NCDN'</li><li>'RNU6-426P'</li><li>'MIR3910-1'</li><li>'CD300A'</li></ol>\n"
      ],
      "text/latex": [
       "\\begin{enumerate*}\n",
       "\\item 'DEFB133'\n",
       "\\item 'KRTAP4-9'\n",
       "\\item 'NCDN'\n",
       "\\item 'RNU6-426P'\n",
       "\\item 'MIR3910-1'\n",
       "\\item 'CD300A'\n",
       "\\end{enumerate*}\n"
      ],
      "text/markdown": [
       "1. 'DEFB133'\n",
       "2. 'KRTAP4-9'\n",
       "3. 'NCDN'\n",
       "4. 'RNU6-426P'\n",
       "5. 'MIR3910-1'\n",
       "6. 'CD300A'\n",
       "\n",
       "\n"
      ],
      "text/plain": [
       "[1] \"DEFB133\"   \"KRTAP4-9\"  \"NCDN\"      \"RNU6-426P\" \"MIR3910-1\" \"CD300A\"   "
      ]
     },
     "metadata": {},
     "output_type": "display_data"
    }
   ],
   "source": [
    " N <- 50\n",
    " mysample <- sample(my_results$hgnc_symbol,N)\n",
    " head(mysample)"
   ]
  },
  {
   "cell_type": "markdown",
   "metadata": {},
   "source": [
    "(5)biomaRt包也可以用于从数据库中检索序列\n",
    "对于一个基因，即“BRCA1”"
   ]
  },
  {
   "cell_type": "code",
   "execution_count": 57,
   "metadata": {},
   "outputs": [
    {
     "name": "stderr",
     "output_type": "stream",
     "text": [
      "Cache found\n",
      "\n"
     ]
    },
    {
     "name": "stdout",
     "output_type": "stream",
     "text": [
      "                                                                                                                                                                                                                                                                                                                                                                                                                                                                                                                                                                                                                                                                                                                                                                                                                                                                                                                                                                                                                                                                                                                                                                                                                                                                                                                                                                                                                                                                                                                                                                                                                                                                                                                                                                                                                                                                                                                                                         peptide\n",
      "1                                                                                                                                                                                                                                                                                                                                                                                                                                                                                                                                                                                                                                                                                                                                                                                                                                                                                                                                                                                                                                                                                                                                                                                                                                                                                                                MDLSALRVEEVQNVINAMQKILECPICLELIKEPVSTKCDHIFCKFCMLKLLNQKKGPSQCPLCKNDITKRSLQESTRFSQLVEELLKIICAFQLDTGLEYANSYNFAKKENNSPEHLKDEVSIIQSMGYRNRAKRLLQSEPENPSLETSLSVQLSNLGTVRTLRTKQRIQPQKTSVYIELGSDSSEDTVNKATYCSVGDQELLQITPQGTRDEISLDSAKKAACEFSETDVTNTEHHQPSNNDLNTTEKRAAERHPEKYQGEAASGCESETSVSEDCSGLSSQSDILTTQQRDTMQHNLIKLQQEMAELEAVLEQHGSQPSNSYPSIISDSSALEDLRNPEQSTSEKAVLTSQKSSEYPISQNPEGLSADKFEVSADSSTSKNKEPGVERSSPSKCPSLDDRWYMHSCSGSLQNRNYPSQEELIKVVDVEEQQLEESGPHDLTETSYLPRQDLEGTPYLESGISLFSDDPESDPSEDRAPESARVGNIPSSTSALKVPQLKVAESAQSPAAAHTTDTAGYNAMEESVSREKPELTASTERVNKRMSMVVSGLTPEEFMLVYKFARKHHITLTNLITEETTHVVMKTDAEFVCERTLKYFLGIAGGKWVVSYFWVTQSIKERK\n",
      "2  MDLSALRVEEVQNVINAMQKILECPICLELIKEPVSTKCDHIFCKFCMLKLLNQKKGPSQCPLCKNDITKRSLQESTRFSQLVEELLKIICAFQLDTGLEYANSYNFAKKENNSPEHLKDEVSIIQSMGYRNRAKRLLQSEPENPSLQETSLSVQLSNLGTVRTLRTKQRIQPQKTSVYIELGSDSSEDTVNKATYCSVGDQELLQITPQGTRDEISLDSAKKAACEFSETDVTNTEHHQPSNNDLNTTEKRAAERHPEKYQGSSVSNLHVEPCGTNTHASSLQHENSSLLLTKDRMNVEKAEFCNKSKQPGLARSQHNRWAGSKETCNDRRTPSTEKKVDLNADPLCERKEWNKQKLPCSENPRDTEDVPWITLNSSIQKVNEWFSRSDELLGSDDSHDGESESNAKVADVLDVLNEVDEYSGSSEKIDLLASDPHEALICKSERVHSKSVESNIEDKIFGKTYRKKASLPNLSHVTENLIIGAFVTEPQIIQERPLTNKLKRKRRPTSGLHPEDFIKKADLAVQKTPEMINQGTNQTEQNGQVMNITNSGHENKTKGDSIQNEKNPNPIESLEKESAFKTKAEPISSSISNMELELNIHNSKAPKKNRLRRKSSTRHIHALELVVSRNLSPPNCTELQIDSCSSSEEIKKKKYNQMPVRHSRNLQLMEGKEPATGAKKSNKPNEQTSKRHDSDTFPELKLTNAPGSFTKCSNTSELKEFVNPSLPREEKEEKLETVKVSNNAEDPKDLMLSGERVLQTERSVESSSISLVPGTDYGTQESISLLEVSTLGKAKTEPNKCVSQCAAFENPKGLIHGCSKDNRNDTEGFKYPLGHEVNHSRETSIEMEESELDAQYLQNTFKVSKRQSFAPFSNPGNAEEECATFSAHSGSLKKQSPKVTFECEQKEENQGKNESNIKPVQTVNITAGFPVVGQKDKPVDNAKCSIKGGSRFCLSSQFRGNETGLITPNKHGLLQNPYRIPPLFPIKSFVKTKCKKNLLEENFEEHSMSPEREMGNENIPSTVSTISRNNIRENVFKEASSSNINEVGSSTNEVGSSINEIGSSDENIQAELGRNRGPKLNAMLRLGVLQPEVYKQSLPGSNCKHPEIKKQEYEEVVQTVNTDFSPYLISDNLEQPMGSSHASQVCSETPDDLLDDGEIKEDTSFAENDIKESSAVFSKSVQKGELSRSPSPFTHTHLAQGYRRGAKKLESSEENLSSEDEELPCFQHLLFGKVNNIPSQSTRHSTVATECLSKNTEENLLSLKNSLNDCSNQVILAKASQEHHLSEETKCSASLFSSQCSELEDLTANTNTQDPFLIGSSKQMRHQSESQGVGLSDKELVSDDEERGTGLEENNQEEQSMDSNLGEAASGCESETSVSEDCSGLSSQSDILTTQQRDTMQHNLIKLQQEMAELEAVLEQHGSQPSNSYPSIISDSSALEDLRNPEQSTSEKDSHIHGQRNNSMFSKRPREHISVLTSQKSSEYPISQNPEGLSADKFEVSADSSTSKNKEPGVERSSPSKCPSLDDRWYMHSCSGSLQNRNYPSQEELIKVVDVEEQQLEESGPHDLTETSYLPRQDLEGTPYLESGISLFSDDPESDPSEDRAPESARVGNIPSSTSALKVPQLKVAESAQSPAAAHTTDTAGYNAMEESVSREKPELTASTERVNKRMSMVVSGLTPEEFMLVYKFARKHHITLTNLITEETTHVVMKTDAEFVCERTLKYFLGIAGGKWVVSYFWVTQSIKERKMLNEHDFEVRGDVVNGRNHQGPKRARESQDRKIFRGLEICCYGPFTNMPTDQLEWMVQLCGASVVKELSSFTLGTGVHPIVVVQPDAWTEDNGFHAIGQMCEAPVVTREWVLDSVALYQCQELDTYLIPQIPHSHY*\n",
      "3                                                                                                                                                                                                                                                                                                                                                                                                                                                                                                                                                                                                                                                                                                                                                                                                                                                                                                                                                                                                                                                                                                                                                                                                                                                                                                                                                                                                                                                                                                                                                                                                                                                                                                                                                                                                                                                                                               MDLSALRVEEVQNVINAMQKILECPICLELIKEPVSTKCDHIFCKFCMLKLLNQKKGPSQCPL*\n",
      "4                                                                                                                                                                                                                                                                                                                                                                                                                                                                                                                                                                                                                                                                                                                                                                                                                                                                                                                                                                                                                                                                                                                                                                                                                                                                                                                                                                                                                                                                                                                                                                                                                                                                                                             XIPSQSTRHSTVATECLSKNTEENLLSLKNSLNDCSNQVILAKASQEHHLSEETKCSASLFSSQCSELEDLTANTNTQDPFLIGSSKQMRHQSESQGVGLSDKELVSDDEERGTGLEENNQEEQSMDSNLGEAASGCESETSVSEDCSGLSSQSDILTTQQRDTMQHNLIKLQQEMAELEAVLEQHGSQPSNSYPSIISDSSALEDLRNPEQSTSEKVLTSQKSSEYPISQNPEGLSADKFE\n",
      "5                       MDLSALRVEEVQNVINAMQKILECPICLELIKEPVSTKCDHIFCKFCMLKLLNQKKGPSQCPLCKNDITKRSLQESTRFSQLVEELLKIICAFQLDTGLEYANSYNFAKKENNSPEHLKDEVSIIQSMGYRNRAKRLLQSEPENPSLQETSLSVQLSNLGTVRTLRTKQRIQPQKTSVYIELGSDSSEDTVNKATYCSVGDQELLQITPQGTRDEISLDSAKKAACEFSETDVTNTEHHQPSNNDLNTTEKRAAERHPEKYQGSSVSNLHVEPCGTNTHASSLQHENSSLLLTKDRMNVEKAEFCNKSKQPGLARSQHNRWAGSKETCNDRRTPSTEKKVDLNADPLCERKEWNKQKLPCSENPRDTEDVPWITLNSSIQKVNEWFSRSDELLGSDDSHDGESESNAKVADVLDVLNEVDEYSGSSEKIDLLASDPHEALICKSERVHSKSVESNIEDKIFGKTYRKKASLPNLSHVTENLIIGAFVTEPQIIQERPLTNKLKRKRRPTSGLHPEDFIKKADLAVQKTPEMINQGTNQTEQNGQVMNITNSGHENKTKGDSIQNEKNPNPIESLEKESAFKTKAEPISSSISNMELELNIHNSKAPKKNRLRRKSSTRHIHALELVVSRNLSPPNCTELQIDSCSSSEEIKKKKYNQMPVRHSRNLQLMEGKEPATGAKKSNKPNEQTSKRHDSDTFPELKLTNAPGSFTKCSNTSELKEFVNPSLPREEKEEKLETVKVSNNAEDPKDLMLSGERVLQTERSVESSSISLVPGTDYGTQESISLLEVSTLGKAKTEPNKCVSQCAAFENPKGLIHGCSKDNRNDTEGFKYPLGHEVNHSRETSIEMEESELDAQYLQNTFKVSKRQSFAPFSNPGNAEEECATFSAHSGSLKKQSPKVTFECEQKEENQGKNESNIKPVQTVNITAGFPVVGQKDKPVDNAKCSIKGGSRFCLSSQFRGNETGLITPNKHGLLQNPYRIPPLFPIKSFVKTKCKKNLLEENFEEHSMSPEREMGNENIPSTVSTISRNNIRENVFKEASSSNINEVGSSTNEVGSSINEIGSSDENIQAELGRNRGPKLNAMLRLGVLQPEVYKQSLPGSNCKHPEIKKQEYEEVVQTVNTDFSPYLISDNLEQPMGSSHASQVCSETPDDLLDDGEIKEDTSFAENDIKESSAVFSKSVQKGELSRSPSPFTHTHLAQGYRRGAKKLESSEENLSSEDEELPCFQHLLFGKVNNIPSQSTRHSTVATECLSKNTEENLLSLKNSLNDCSNQVILAKASQEHHLSEETKCSASLFSSQCSELEDLTANTNTQDPFLIGSSKQMRHQSESQGVGLSDKELVSDDEERGTGLEENNQEEQSMDSNLGEAASGCESETSVSEDCSGLSSQSDILTTQQRDTMQHNLIKLQQEMAELEAVLEQHGSQPSNSYPSIISDSSALEDLRNPEQSTSEKAVLTSQKSSEYPISQNPEGLSADKFEVSADSSTSKNKEPGVERSSPSKCPSLDDRWYMHSCSGSLQNRNYPSQEELIKVVDVEEQQLEESGPHDLTETSYLPRQDLEGTPYLESGISLFSDDPESDPSEDRAPESARVGNIPSSTSALKVPQLKVAESAQSPAAAHTTDTAGYNAMEESVSREKPELTASTERVNKRMSMVVSGLTPEEFMLVYKFARKHHITLTNLITEETTHVVMKTDAEFVCERTLKYFLGIAGGKWVVSYFWVTQSIKERKMLNEHDFEVRGDVVNGRNHQGPKRARESQDRKIFRGLEICCYGPFTNMPTDQLEWMVQLCGASVVKELSSFTLGTGVHPIVVVQPDAWTEDNGFHAIGQMCEAPVVTREWVLDSVALYQCQELDTYLIPQIPHSHY*\n",
      "6                                                                                                                                                                                                                                                                                                                                                                                                                                                                                                       MDLSALRVEEVQNVINAMQKILECPICLELIKEPVSTKCDHIFCKFCMLKLLNQKKGPSQCPLCKNDITKRSLQESTRFSQLVEELLKIICAFQLDTGLEYANSYNFAKKENNSPEHLKDEVSIIQSMGYRNRAKRLLQSEPENPSLQETSLSVQLSNLGTVRTLRTKQRIQPQKTSVYIELGSDSSEDTVNKATYCSVGDQELLQITPQGTRDEISLDSAKKAACEFSETDVTNTEHHQPSNNDLNTTEKRAAERHPEKYQGSSVSNLHVEPCGTNTHASSLQHENSSLLLTKDRMNVEKAEFCNKSKQPGLARSQHNRWAGSKETCNDRRTPSTEKKVDLNADPLCERKEWNKQKLPCSENPRDTEDVPWITLNSSIQKVNEWFSRSDELLGSDDSHDGESESNAKVADVLDVLNEVDEYSGSSEKIDLLASDPHEALICKSERVHSKSVESNIEDKIFGKTYRKKASLPNLSHVTENLIIGAFVTEPQIIQERPLTNKLKRKRRPTSGLHPEDFIKKADLAVQKTPEMINQGTNQTEQNGQVMNITNSGHENKTKGDSIQNEKNPNPIESLEKESAFKTKAEPISSSISNMELELNIHNSKAPKKNRLRRKSSTRHIHALELVVSRNLSPPNCTELQIDSCSSSEEIKKKKYNQMPVRHSRNLQLMEGKEPATGAKKSNKPNEQTSKRHDSDTFPELKLTNAPGSFTKCSNTSELKEFVNPSLPREEKEEKLETVKVSNNAEDPKDLMLSGERVLQTERSVESSSISLVPGTDYGTQESISLLEVSTLGKAKTEPNKCVSQCAAFENPKGLIHGCSKDNRNDTEGFKYPLGHEVNHSRETSIEMEESELDAQYLQNTFKVSKRQSFAPFSNPGNAEEECATFSAHSGSLKKQSPKVTFECEQKEENQGKNESNIKPVQTVNITAGFPVVGQKDKPVDNAKCSIKGGSRFCLSSQFRGNETGLITPNKHGLLQNPYRIPPLFPIKSFVKTKCKKNLLEENFEEHSMSPEREMGNENIPSTVSTISRNNIRENVFKEASSSNINEVGSSTNEVGSSINEIGSSDENIQAELGRNRGPKLNAMLRLGVLQPEVYKQSLPGSNCKHPEIKKQEYEEVVQTVNTDFSPYLISDNLEQPMGSSHASQVCSETPDDLLDDGEIKEDTSFAENDIKESSAVFSKSVQKGELSRSPSPFTHTHLAQGYRRGAKKLESSEENLSSEDEELPCFQHLLFGKVNNIPSQSTRHSTVATECLSKNTEENLLSLKNSLNDCSNQVILAKASQEHHLSEETKCSASLFSSQCSELEDLTANTNTQDPFLIGSSKQMRHQSESQGVGLSDKELVSDDEERGTGLEENNQEEQSMDSNLGIGTRFLCLPQSIYRSELNVYAFGEHILQISKYS*\n",
      "7                                                                                                                                                                                                                                                                                                                                                                                                                                                                                                                                                                                                                                                                                                                                                                                                                                                                                                                                                                                                                                                                                                                                                                                                                                                                                                                                                                                                                                                                                                                                                                                                                                                                                                                                                                                                                                                                                                                                           Sequence unavailable\n",
      "8                                                                                                                                                                                                                                                                                                                                                                                                                                                                                                                                                                                                                                                                                                                                                                                                                                                                                                                                                                                                                                                                                                                                                                                                                                                                                      MDLSALRVEEVQNVINAMQKILECPICLELIKEPVSTKCDHIFCKFCMLKLLNQKKGPSQCPLCKNDITKRSLQESTRFSQLVEELLKIICAFQLDTGLEYANSYNFAKKENNSPEHLKDEVSIIQSMGYRNRAKRLLQSEPENPSLQETSLSVQLSNLGTVRTLRTKQRIQPQKTSVYIELGSDSSEDTVNKATYCSVGDQELLQITPQGTRDEISLDSAKKAACEFSETDVTNTEHHQPSNNDLNTTEKRAAERHPEKYQGSSVSNLHVEPCGTNTHASSLQHENSSLLLTKDRMNVEKAEFCNKSKQPGLARSQHNRWAGSKETCNDRRTPSTEKKVDLNADPLCERKEWNKQKLPCSENPRDTEDVPWITLNSSIQKVNEWFSRSDELLGSDDSHDGESESNAKVADVLDVLNEVDEYSGSSEKIDLLASDPHEALICKSERVHSKSVESNIEDKIFGKTYRKKASLPNLSHVTENLIIGAFVTEPQIIQERPLTNKLKRKRRPTSGLHPEDFIKKADLAVQKTPEMINQGTNQTEQNGQVMNITNSGHENKTKGDSIQNEKNPNPIESLEKESAFKTKAEPISSSISNMELELNIHNSKAPKKNRLRRKSSTRHIHALELVVSRNLSPPNCTELQIDSCSSSEE\n",
      "9                                                                                                                                                                                                                                                                                                                                                                                                                                                                                                                                                                                                                                                                                                                                                                                                                                                                                                                                                                                                                                                                                                                                                                                                                                                                                                                                                                                                                                                                                                                                                                                                                                XQLDTGLEYANSYNFAKKENNSPEHLKDEVSIIQSMGYRNRAKRLLQSEPENPSLETSLSVQLSNLGTVRTLRTKQRIQPQKTSVYIELAACEFSETDVTNTEHHQPSNNDLNTTEKRAAERHPEKYQGSSVSNLHVEPCGTNTHASSLQHENSSLLLTKDRMNVEKAEFCNKSKQPGLARSQHNRWAGSKETCNDRRTPSTEKKVDLNADPLCERKEWNKQKLPCSENPRDTEDVPWITLNSSIQKVNEWFSRSDELLGSDDSHDGESESNAKVADVLDVLNEVDEYSGSSEKIDLLASDPHEALICKSERVHSKSVE\n",
      "10                                                                                                                                                                                                                                                                                                                                                                                                                                                                                                                                                                                                                                                                                                                                                                                                                                                                                                                                                                                                                                                                                                                                                                                                                                                                                                                MDLSALRVEEVQNVINAMQKILECPICLELIKEPVSTKCDHIFCKSLQESTRFSQLVEELLKIICAFQLDTGLEYANSYNFAKKENNSPEHLKDEVSIIQSMGYRNRAKRLLQSEPENPSLQETSLSVQLSNLGTVRTLRTKQRIQPQKTSVYIELGSDSSEDTVNKATYCSVGDQELLQITPQGTRDEISLDSAKKAACEFSETDVTNTEHHQPSNNDLNTTEKRAAERHPEKYQGSSVSNLHVEPCGTNTHASSLQHENSSLLLTKDRMNVEKAEFCNKSKQPGLARSQHNRWAGSKETCNDRRTPSTEKKVDLNADPLCERKEWNKQKLPCSENPRDTEDVPWITLNSSIQKVNEWFSRSDELLGSDDSHDGESESNAKVADVLDVLNEVDEYSGSSEKIDLLASDPHEALICKSERVHSKSVESNIEDKIFGKTYRKKASLPNLSHVTENLIIGAFVTEPQIIQERPLTNKLKRKRRPTSGLHPEDFIKKADLAVQKTPEMINQGTNQTEQNGQVMNITNSGHENKTKGDSIQNEKNPNPIESLEKESAFKTKAEPISSSISNMELELNIHNSKAPKKNRLRRKSSTRHIHALELVVSRNLSPPNCTELQIDSCSSSE\n",
      "11                                                                                                                                                                                                                                                                                                                                                                                                                                                                                                                                                                                                                                                                                                                                                                                                                                                                                                                                                                                                                                                                                                                                                                                                                                                                                                                                                                                                                                                                                                         XLDSAKKAACEFSETDVTNTEHHQPSNNDLNTTEKRAAERHPEKYQGSSVSNLHVEPCGTNTHASSLQHENSSLLLTKDRMNVEKAEFCNKSKQPGLARSQHNRWAGSKETCNDRRTPSTEKKVDLNADPLCERKEWNKQKLPCSENPRDTEDVPWITLNSSIQKVNEWFSRSDELLGSDDSHDGESESNAKVADVLDVLNEVDEYSGSSEKIDLLASDPHEALICKSERVHSKSVESNIEDKIFGKTYRKKASLPNLSHVTENLIIGAFVTEPQIIQERPLTNKLKRKRRPTSGLHPEDFIKKADLAVQKTPEMINQGTNQTEQNGQVMNITNSGHENKTKGDSIQNEKNPNPIESLEKESAFKTKAEPISSSISNMELELNIHNSKAPKKNRLRRKSSTRHIHALELVVSRNLSPPNCTELQIDSCSSSEEIKKK\n",
      "12                                                                                                                                                                                                                                                                                                                                                                                                                                                                                                                                                                                                                                                                                                                                                                                                                                                                                                                                                                                                                                                                                                                                                                                                                                                                                                                                                                                                                                                                                                                                                                                                                                                                                                                                MDLSALRVEEVQNVINAMQKILECPICLELIKEPVSTKCDHIFCKFCMLKLLNQKKGPSQCPLCKNDITKRSLQESTRFSQLVEELLKIICAFQLDTGLEYANSYNFAKKENNSPEHLKDEVSIIQSMGYRNRAKRLLQSEPENPSLETSLSVQLSNLGTVRTLRTKQRIQPQKTSVYIELGSDSSEDTVNKATYCSVGDQELLQITPQGTRDEISLDSAKK\n",
      "13                                                                                                                                                                                                                                                                                                                                                                                                                                                                                                                                                                                                                                                                                                                                                                                                                                                                                                                                                                                                                                                                                                                                                                                                            MDLSALRVEEVQNVINAMQKILECPICLELIKEPVSTKCDHIFCKFCMLKLLNQKKGPSQCPLCKNDITKRSLQESTRFSQLVEELLKIICAFQLDTGLEYANSYNFAKKENNSPEHLKDEVSIIQSMGYRNRAKRLLQSEPENPSLQETSLSVQLSNLGTVRTLRTKQRIQPQKTSVYIELGSDSSEDTVNKATYCSVGDQELLQITPQGTRDEISLDSAKKGEAASGCESETSVSEDCSGLSSQSDILTTQQRDTMQHNLIKLQQEMAELEAVLEQHGSQPSNSYPSIISDSSALEDLRNPEQSTSEKAVLTSQKSSEYPISQNPEGLSADKFEVSADSSTSKNKEPGVERSSPSKCPSLDDRWYMHSCSGSLQNRNYPSQEELIKVVDVEEQQLEESGPHDLTETSYLPRQDLEGTPYLESGISLFSDDPESDPSEDRAPESARVGNIPSSTSALKVPQLKVAESAQSPAAAHTTDTAGYNAMEESVSREKPELTASTERVNKRMSMVVSGLTPEEFMLVYKFARKHHITLTNLITEETTHVVMKTDAEFVCERTLKYFLGIAGGKWVVSYFWVTQSIKERKMLNEHDFEVRGDVVNGRNHQGPKRARESQDRKIFRGLEICCYGPFTNMPTDQLEWMVQLCGASVVKELSSFTLGTGVHPIVVVQPDAWTEDNGFHAIGQMCEAPVVTREWVLDSVALYQCQELDTYLIPQIPHSHY*\n",
      "14                                                                                                                                                                                                                                                                                                                                                                                                                                                                                                                                                                                                                                                                                                                                                                                                                                                                                                                                                                                                                                                                                                                                                                                                                                  MDLSALRVEEVQNVINAMQKILECPICLELIKEPVSTKCDHIFCKFCMLKLLNQKKGPSQCPLCKNDITKRSLQESTRFSQLVEELLKIICAFQLDTGLEYANSYNFAKKENNSPEHLKDEVSIIQSMGYRNRAKRLLQSEPENPSLQETSLSVQLSNLGTVRTLRTKQRIQPQKTSVYIELGSDSSEDTVNKATYCSVGDQELLQITPQGTRDEISLDSAKKAACEFSETDVTNTEHHQPSNNDLNTTEKRAAERHPEKYQGEAASGCESETSVSEDCSGLSSQSDILTTQQRDTMQHNLIKLQQEMAELEAVLEQHGSQPSNSYPSIISDSSALEDLRNPEQSTSEKVLTSQKSSEYPISQNPEGLSADKFEVSADSSTSKNKEPGVERSSPSKCPSLDDRWYMHSCSGSLQNRNYPSQEELIKVVDVEEQQLEESGPHDLTETSYLPRQDLEGTPYLESGISLFSDDPESDPSEDRAPESARVGNIPSSTSALKVPQLKVAESAQSPAAAHTTDTAGYNAMEESVSREKPELTASTERVNKRMSMVVSGLTPEEFMLVYKFARKHHITLTNLITEETTHVVMKTDAEFVCERTLKYFLGIAGGKWVVSYFWVTQSIKERKMLNEHDFEVRGDVVNGRNHQGPKRARESQDRKIFRGLEICCYGPFTNMPTGCPPNCGCAARCLDRGQWLPCNWADV*\n",
      "15                                                                                                                                                                                                                                                                                                                                                                                                                                                                                                                                                                                                                                                                                                                                                                                                                                                                                                                                                                                                                                                                                                                                                                                                                                                                                                                                                                                                                                                                                                                                                                                                                                                                                                                                                                             MNVEKAEFCNKSKQPGLARSQHNRWAGSKETCNDRRTPSTEKKVDLNADPLCERKEWNKQKLPCSENPRDTEDVPWITLNSSIQKVNEWFSRSDELLGSDDSHDGESESNAKVADVLDVLNEVDEYSGSSEKIDLLASDPHEALICKSERVHSKSVESNIEDKIFGKTYRKKASLPN\n",
      "16                                                                                                                                                                                                                                                                                                                                                                                                                                                                                                                                                                                                                                                                                                                                                                                                                                                                                                                                                                                                                                                                                                                                                                                                                                                                                                                                                                                                                                                                                                                                                                                                                                                                                                                                                                                                                                                                            MDLSALRVEEVQNVINAMQKILECPICLELIKEPVSTKCDHIFCKQCLPLTPRLEFSGVIIVHFYLAIWVQAISHLSPSSS*\n",
      "17                                                                                                                                                                                                                                                                                                                                                                                                                                                                                                                                                                                                                                                                                                                                                                                                                                                                                                                                                                                                                                                                                                                                                                                                                                                                                                                                                                                                                                                                                                                                                                                                                                                                                                                                                                                                                                                                                                                                       MDLSALRVEEVQNVINAMQKILE\n",
      "18                                                                                                                                                                                                                                                                                                                                                                                                                                                                                                                                                                                                                                                                                                                                                                                                                                                                                                                                                                                                                                                                                                                                                                                                                                                                                                                                                                                                                                                                     MDLSALRVEEVQNVINAMQKILECPICLELIKEPVSTKCDHIFCKFCMLKLLNQKKGPSQCPLCKNDITKRSLQESTRFSQLVEELLKIICAFQLDTGLEYANSYNFAKKENNSPEHLKDEVSIIQSMGYRNRAKRLLQSEPENPSLQETSLSVQLSNLGTVRTLRTKQRIQPQKTSVYIELGSDSSEDTVNKATYCSVGDQELLQITPQGTRDEISLDSAKKAACEFSETDVTNTEHHQPSNNDLNTTEKRAAERHPEKYQGSSVSNLHVEPCGTNTHASSLQHENSSLLLTKDRMNVEKAEFCNKSKQPGLARSQHNRWAGSKETCNDRRTPSTEKKVDLNADPLCERKEWNKQKLPCSENPRDTEDVPWITLNSSIQKVNEWFSRSDELLGSDDSHDGESESNAKVADVLDVLNEVDEYSGSSEKIDLLASDPHEALICKSERVHSKSVESNIEDKIFGKTYRKKASLPN\n",
      "19                                                                     MLKLLNQKKGPSQCPLCKNDITKRSLQESTRFSQLVEELLKIICAFQLDTGLEYANSYNFAKKENNSPEHLKDEVSIIQSMGYRNRAKRLLQSEPENPSLQETSLSVQLSNLGTVRTLRTKQRIQPQKTSVYIELGSDSSEDTVNKATYCSVGDQELLQITPQGTRDEISLDSAKKAACEFSETDVTNTEHHQPSNNDLNTTEKRAAERHPEKYQGSSVSNLHVEPCGTNTHASSLQHENSSLLLTKDRMNVEKAEFCNKSKQPGLARSQHNRWAGSKETCNDRRTPSTEKKVDLNADPLCERKEWNKQKLPCSENPRDTEDVPWITLNSSIQKVNEWFSRSDELLGSDDSHDGESESNAKVADVLDVLNEVDEYSGSSEKIDLLASDPHEALICKSERVHSKSVESNIEDKIFGKTYRKKASLPNLSHVTENLIIGAFVTEPQIIQERPLTNKLKRKRRPTSGLHPEDFIKKADLAVQKTPEMINQGTNQTEQNGQVMNITNSGHENKTKGDSIQNEKNPNPIESLEKESAFKTKAEPISSSISNMELELNIHNSKAPKKNRLRRKSSTRHIHALELVVSRNLSPPNCTELQIDSCSSSEEIKKKKYNQMPVRHSRNLQLMEGKEPATGAKKSNKPNEQTSKRHDSDTFPELKLTNAPGSFTKCSNTSELKEFVNPSLPREEKEEKLETVKVSNNAEDPKDLMLSGERVLQTERSVESSSISLVPGTDYGTQESISLLEVSTLGKAKTEPNKCVSQCAAFENPKGLIHGCSKDNRNDTEGFKYPLGHEVNHSRETSIEMEESELDAQYLQNTFKVSKRQSFAPFSNPGNAEEECATFSAHSGSLKKQSPKVTFECEQKEENQGKNESNIKPVQTVNITAGFPVVGQKDKPVDNAKCSIKGGSRFCLSSQFRGNETGLITPNKHGLLQNPYRIPPLFPIKSFVKTKCKKNLLEENFEEHSMSPEREMGNENIPSTVSTISRNNIRENVFKEASSSNINEVGSSTNEVGSSINEIGSSDENIQAELGRNRGPKLNAMLRLGVLQPEVYKQSLPGSNCKHPEIKKQEYEEVVQTVNTDFSPYLISDNLEQPMGSSHASQVCSETPDDLLDDGEIKEDTSFAENDIKESSAVFSKSVQKGELSRSPSPFTHTHLAQGYRRGAKKLESSEENLSSEDEELPCFQHLLFGKVNNIPSQSTRHSTVATECLSKNTEENLLSLKNSLNDCSNQVILAKASQEHHLSEETKCSASLFSSQCSELEDLTANTNTQDPFLIGSSKQMRHQSESQGVGLSDKELVSDDEERGTGLEENNQEEQSMDSNLGEAASGCESETSVSEDCSGLSSQSDILTTQQRDTMQHNLIKLQQEMAELEAVLEQHGSQPSNSYPSIISDSSALEDLRNPEQSTSEKAVLTSQKSSEYPISQNPEGLSADKFEVSADSSTSKNKEPGVERSSPSKCPSLDDRWYMHSCSGSLQNRNYPSQEELIKVVDVEEQQLEESGPHDLTETSYLPRQDLEGTPYLESGISLFSDDPESDPSEDRAPESARVGNIPSSTSALKVPQLKVAESAQSPAAAHTTDTAGYNAMEESVSREKPELTASTERVNKRMSMVVSGLTPEEFMLVYKFARKHHITLTNLITEETTHVVMKTDAEFVCERTLKYFLGIAGGKWVVSYFWVTQSIKERKMLNEHDFEVRGDVVNGRNHQGPKRARESQDRKIFRGLEICCYGPFTNMPTDQLEWMVQLCGASVVKELSSFTLGTGVHPIVVVQPDAWTEDNGFHAIGQMCEAPVVTREWVLDSVALYQCQELDTYLIPQIPHSHY*\n",
      "20                                                                                                                                                                                                                                                                                                                                                                                                                                                                                                                                                                                                                                                                                                                                                                                                                                                                                                                                                                                                                                                                                                                                                                                                                                                                                                                                                                                                                                                                                                                                                                                                                                                                                                                                                                                                                                                            MDLSALRVEEVQNVINAMQKILECPICLELIKEPVSTKCDHIFCKSLQESTRFSQLVEELLKIICAFQLDTGLEYANSYNFAKKENNSPEHLKDEVSI\n",
      "21                                                                                                                                                                                                                                                                                                                                                                                                                                                                                                                                                                                                                                                                                                                                                                                                                                                                                                                                                                                                                                                                                                                                                                                                                                                                                                                                                                                                                                                                                                                                                                                                                                                                                    ELLKIICAFQLDTGLEYANSYNFAKKENNSPEHLKDEVSIIQSMGYRNRAKRLLQSEPENPSLQETSLSVQLSNLGTVRTLRTKQRIQPQKTSVYIELAACEFSETDVTNTEHHQPSNNDLNTTEKRAAERHPEKYQGEAASGCESETSVSEDCSGLSSQSDILTTQQRDTMQHNLIKLQQEMAELEAVLEQHGSQPSNSYPSIISDSSALEDLRNPEQSTSEKAVLTSQKSSEYPISQNPEGLSADKFEVSADSSTSKNKEPGVE\n",
      "22                                                                                                                                                                                                                                                                                                                                                                                                                                                                                                                                                                                                                                                                                                                                                                                                                                                                                                                                                                                                                                                                                                                                                                                                                                                                                                                                                                                                                                                                                                                                                                                                                                                                                                                                                                                MDAEFVCERTLKYFLGIAGGKWVVSYFWVTQSIKERKMLNEHDFEVRGDVVNGRNHQGPKRARESQDRKIFRGLEICCYGPFTNMPTDQLEWMVQLCGASVVKELSSFTLGTGVHPIVVVQPDAWTEDNGFHAIGQMCEAPVVTREWVLDSVALYQCQELDTYLIPQIPHSHY*\n",
      "23                                                                                                                                                                                                                                                                                                                                                                                                                                                                                                                                                                                                                                                                                                                                                                                                                                                                                                                                                                                                                                                                                                                                                                      MDLSALRVEEVQNVINAMQKILECPICLELIKEPVSTKCDHIFCKFCMLKLLNQKKGPSQCPLCKNDITKRSLQESTRFSQLVEELLKIICAFQLDTGLEYANSYNFAKKENNSPEHLKDEVSIIQSMGYRNRAKRLLQSEPENPSLQETSLSVQLSNLGTVRTLRTKQRIQPQKTSVYIELGSDSSEDTVNKATYCSVGDQELLQITPQGTRDEISLDSAKKAACEFSETDVTNTEHHQPSNNDLNTTEKRAAERHPEKYQGEAASGCESETSVSEDCSGLSSQSDILTTQQRDTMQHNLIKLQQEMAELEAVLEQHGSQPSNSYPSIISDSSALEDLRNPEQSTSEKVLTSQKSSEYPISQNPEGLSADKFEVSADSSTSKNKEPGVERSSPSKCPSLDDRWYMHSCSGSLQNRNYPSQEELIKVVDVEEQQLEESGPHDLTETSYLPRQDLEGTPYLESGISLFSDDPESDPSEDRAPESARVGNIPSSTSALKVPQLKVAESAQSPAAAHTTDTAGYNAMEESVSREKPELTASTERVNKRMSMVVSGLTPEEFMLVYKFARKHHITLTNLITEETTHVVMKTDAEFVCERTLKYFLGIAGGKWVVSYFWVTQSIKERKMLNEHDFEVRGDVVNGRNHQGPKRARESQDRKIFRGLEICCYGPFTNMPTDQLEWMVQLCGASVVKELSSFTLGTGVHPIVVVQPDAWTEDNGFHAIGQMCEAPVVTREWVLDSVALYQCQELDTYLIPQIPHSHY*\n",
      "24                                                                                                                                                                                                                                                                                                                                                                                                                                                                                                                                                                                                                                                                                                                                                                                                                                                                                                                                                                                                                                                                                                                                                                                                                                                                                                                                                                                                                                                                                                                                                                                                                                                                                                                                                                                                                                                                                             MLKLLNQKKGPSQCPLCKNDITKRSLQESTRFSQLVEELLKIICAFQLDTGLEYANSYNFAKKEN\n",
      "25                                                                                                                                                                                                                                                                                                                                                                                                                                                                                                                                                                                                                                                                                                                                                                                                                                                                                                                                                                                                                                                                                                                                                                                                                                                                                                                                                                                                                                                                                                                                                                                                                                                                                                                                                                                                                                                                                                  MDLSALRVEEVQNVINAMQKILECPICLELIKEPVSTKCDHIFCKVLLCCPSWSTVVRS*\n",
      "26                                                                                                                                                                                                                                                                                                                                                                                                                                                                                                                                                                                                                                                                                                                                                                                                                                                                                                                                                                                                                                                                                                                                                                                                                                                                                                                                                                                                                                            ELLKIICAFQLDTGLEYANSYNFAKKENNSPEHLKDEVSIIQSMGYRNRAKRLLQSEPENPSLETSLSVQLSNLGTVRTLRTKQRIQPQKTSVYIELAACEFSETDVTNTEHHQPSNNDLNTTEKRAAERHPEKYQGEAASGCESETSVSEDCSGLSSQSDILTTQQRDTMQHNLIKLQQEMAELEAVLEQHGSQPSNSYPSIISDSSALEDLRNPEQSTSEKAVLTSQKSSEYPISQNPEGLSADKFEVSADSSTSKNKEPGVERSSPSKCPSLDDRWYMHSCSGSLQNRNYPSQEELIKVVDVEEQQLEESGPHDLTETSYLPRQDLEGTPYLESGISLFSDDPESDPSEDRAPESARVGNIPSSTSALKVPQLKVAESAQSPAAAHTTDTAGYNAMEESVSREKPELTASTERVNKRMSMVVSGLTPEEFMLVYKFARKHHITLTNLITEETTHVVMKTDAEFVCERTLKYFLGIAGGKWVVSYFWVTQSIKERK\n",
      "27                                                                                                                                                                                                                                                                                                                                                                                                                                                                                                                                                                                                                                                                                                                                                                                                                                                                                                                                                                                                                                                                                                                                                                                                                                                                          XHLLFGKVNNIPSQSTRHSTVATECLSKNTEENLLSLKNSLNDCSNQVILAKASQEHHLSEETKCSASLFSSQCSELEDLTANTNTQDPFLIGSSKQMRHQSESQGVGLSDKELVSDDEERGTGLEENNQEEQSMDSNLGEAASGCESETSVSEDCSGLSSQSDILTTQQRDTMQHNLIKLQQEMAELEAVLEQHGSQPSNSYPSIISDSSALEDLRNPEQSTSEKDSHIHGQRNNSMFSKRPREHISAVLTSQKSSEYPISQNPEGLSADKFEVSADSSTSKNKEPGVERSSPSKCPSLDDRWYMHSCSGSLQNRNYPSQEELIKVVDVEEQQLEESGPHDLTETSYLPRQDLEGTPYLESGISLFSDDPESDPSEDRAPESARVGNIPSSTSALKVPQLKVAESAQSPAAAHTTDTAGYNAMEESVSREKPELTASTERVNKRMSMVVSGLTPEEFMLVYKFARKHHITLTNLITEETTHVVMKTDAEFVCERTLKYFLGIAGGKWVVSYFWVTQSIKERKMLNEHDFEVRGDVVNGRNHQGPKRARESQDRKIFRGLEICCYGPFTNMPTDQLEWMVQLCGASVVKELSSFTLGTGVHPIVVVQPDAWTEDNGFHAIGQMCEAPVVTREWVLDSVALYQCQELDTYLIPQIPHSHY*\n",
      "28                                                                                                                                                                                                                                                                                                                                                                                                                                                                                                                                                                                                                                                                                                                                                                                                                                                                                                                                                                                                                                                                                                                                                                                                                                                                                                                                                                  MLKLLNQKKGPSQCPLCKNDITKRSLQESTRFSQLVEELLKIICAFQLDTGLEYANSYNFAKKENNSPEHLKDEVSIIQSMGYRNRAKRLLQSEPENPSLQETSLSVQLSNLGTVRTLRTKQRIQPQKTSVYIELGSDSSEDTVNKATYCSVGDQELLQITPQGTRDEISLDSAKKAACEFSETDVTNTEHHQPSNNDLNTTEKRAAERHPEKYQGEAASGCESETSVSEDCSGLSSQSDILTTQQRDTMQHNLIKLQQEMAELEAVLEQHGSQPSNSYPSIISDSSALEDLRNPEQSTSEKAVLTSQKSSEYPISQNPEGLSADKFEVSADSSTSKNKEPGVERSSPSKCPSLDDRWYMHSCSGSLQNRNYPSQEELIKVVDVEEQQLEESGPHDLTETSYLPRQDLEGTPYLESGISLFSDDPESDPSEDRAPESARVGNIPSSTSALKVPQLKVAESAQSPAAAHTTDTAGYNAMEESVSREKPELTASTERVNKRMSMVVSGLTPEEFMLVYKFARKHHITLTNLITEETTHVVMKTDAEFVCERTLKYFLGIAGGKWVVSYFWVTQS\n",
      "29                                                                                                                                                                                                                                                                                                                                                                                                                                                                                                                                                                                                                                                                                                                                                                                                                                                                                                                                                                                                                                                                                                                                MDLSALRVEEVQNVINAMQKILECPICLELIKEPVSTKCDHIFCKFCMLKLLNQKKGPSQCPLCKNDITKRSLQESTRFSQLVEELLKIICAFQLDTGLEYANSYNFAKKENNSPEHLKDEVSIIQSMGYRNRAKRLLQSEPENPSLQETSLSVQLSNLGTVRTLRTKQRIQPQKTSVYIELAACEFSETDVTNTEHHQPSNNDLNTTEKRAAERHPEKYQGSSVSNLHVEPCGTNTHASSLQHENSSLLLTKDRMNVEKAEFCNKSKQPGLARSQHNRWAGSKETCNDRRTPSTEKKVDLNADPLCERKEWNKQKLPCSENPRDTEDVPWITLNSSIQKVNEWFSRSDELLGSDDSHDGESESNAKVADVLDVLNEVDEYSGSSEKIDLLASDPHEALICKSERVHSKSVESNIEDKIFGKTYRKKASLPNLSHVTENLIIGAFVTEPQIIQERPLTNKLKRKRRPTSGLHPEDFIKKADLAVQKTPEMINQGTNQTEQNGQVMNITNSGHENKTKGDSIQNEKNPNPIESLEKESAFKTKAEPISSSISNMELELNIHNSKAPKKNRLRRKSSTRHIHALELVVSRNLSPPNCTELQIDSCSSSEEIKKKKYNQMPVRHSRNLQLMEGKEPATGAKKSNKPNEQTSKRHDSDTFPELKLTNAPGSFTKCSNTSELKEFVNPSLPREEKEEKLETVKVSNNAEDPKDLMLSGERVLQTERSVESSSISLVPGTDYGTQESISLLEVSTLGKAKTEPNKCVSQCAAFENPKGLIHGCSKDNRNDTEGFKYPLGHEVNH\n",
      "30                                                                                                                                                                                                                                                                                                                                                                                                                                                                                                                                                                                                                                                                                                                                                                                                                                                                                                                                                                                                                                                                                                                                                                                                                                                                                                                                                                                                                                                                                                                                                                                           MHSCSGSLQNRNYPSQEELIKVVDVEEQQLEESGPHDLTETSYLPRQDLEGTPYLESGISLFSDDPESDPSEDRAPESARVGNIPSSTSALKVPQLKVAESAQSPAAAHTTDTAGYNAMEESVSREKPELTASTERVNKRMSMVVSGLTPEEFMLVYKFARKHHITLTNLITEETTHVVMKTDAEFVCERTLKYFLGIAGGKWVVSYFWVTQSIKERKMLNEHDFEVRGDVVNGRNHQGPKRARESQDRKIFRGLEICCYGPFTNMPTDQLEWMVQLCGASVVKELSSFTLGTGVHPIVVVQPDAWTEDNGFHAIGQMCEAPVVTREWVLDSVALYQCQELDTYLIPQIPHSHY*\n",
      "31                                                                                                                                                                                                                                                                                                                                                                                                                                                                                                                                                                                                                                                                                                                                                                                                                                                                                                                                                                                                                                                                                                                                                                                                                                                                                                                                                                                                                                                                                                                                                                                                                                                                                                                                                                                                                                                             MSDSKKTWLQYQLEWMVQLCGASVVKELSSFTLGTGVHPIVVVQPDAWTEDNGFHAIGQMCEAPVVTREWVLDSVALYQCQELDTYLIPQIPHSHY*\n",
      "   hgnc_symbol\n",
      "1        BRCA1\n",
      "2        BRCA1\n",
      "3        BRCA1\n",
      "4        BRCA1\n",
      "5        BRCA1\n",
      "6        BRCA1\n",
      "7        BRCA1\n",
      "8        BRCA1\n",
      "9        BRCA1\n",
      "10       BRCA1\n",
      "11       BRCA1\n",
      "12       BRCA1\n",
      "13       BRCA1\n",
      "14       BRCA1\n",
      "15       BRCA1\n",
      "16       BRCA1\n",
      "17       BRCA1\n",
      "18       BRCA1\n",
      "19       BRCA1\n",
      "20       BRCA1\n",
      "21       BRCA1\n",
      "22       BRCA1\n",
      "23       BRCA1\n",
      "24       BRCA1\n",
      "25       BRCA1\n",
      "26       BRCA1\n",
      "27       BRCA1\n",
      "28       BRCA1\n",
      "29       BRCA1\n",
      "30       BRCA1\n",
      "31       BRCA1\n"
     ]
    }
   ],
   "source": [
    "seq <- getSequence(id=\"BRCA1\", type=\"hgnc_symbol\", seqType=\"peptide\", mart = mart)\n",
    "show(seq)"
   ]
  },
  {
   "cell_type": "markdown",
   "metadata": {},
   "source": [
    "(6)检索指定染色体位置的序列\n",
    "位置(站点的上游和下游)也可以使用"
   ]
  },
  {
   "cell_type": "code",
   "execution_count": 59,
   "metadata": {},
   "outputs": [
    {
     "name": "stderr",
     "output_type": "stream",
     "text": [
      "Cache found\n",
      "\n"
     ]
    },
    {
     "name": "stdout",
     "output_type": "stream",
     "text": [
      "                      gene_flank ensembl_transcript_id\n",
      "1 AATGAAAAGAGGTCTGCCCGAGCGTGCGAC       ENST00000520540\n"
     ]
    }
   ],
   "source": [
    " seq2 <- getSequence(id=\"ENST00000520540\", type='ensembl_transcript_id',seqType='gene_flank',upstream = 30,mart = mart)\n",
    "show(seq2)"
   ]
  }
 ],
 "metadata": {
  "kernelspec": {
   "display_name": "R",
   "language": "R",
   "name": "ir"
  },
  "language_info": {
   "codemirror_mode": "r",
   "file_extension": ".r",
   "mimetype": "text/x-r-source",
   "name": "R",
   "pygments_lexer": "r",
   "version": "3.6.2"
  }
 },
 "nbformat": 4,
 "nbformat_minor": 2
}
